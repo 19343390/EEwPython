{
  "nbformat": 4,
  "nbformat_minor": 0,
  "metadata": {
    "colab": {
      "name": "1.1_Intro.ipynb",
      "version": "0.3.2",
      "provenance": [],
      "include_colab_link": true
    },
    "kernelspec": {
      "name": "python3",
      "display_name": "Python 3"
    }
  },
  "cells": [
    {
      "cell_type": "markdown",
      "metadata": {
        "id": "view-in-github",
        "colab_type": "text"
      },
      "source": [
        "<a href=\"https://colab.research.google.com/github/csaybar/EEwPython/blob/master/1_1_Intro.ipynb\" target=\"_parent\"><img src=\"https://colab.research.google.com/assets/colab-badge.svg\" alt=\"Open In Colab\"/></a>"
      ]
    },
    {
      "cell_type": "markdown",
      "metadata": {
        "id": "_rUp3DC76g8u",
        "colab_type": "text"
      },
      "source": [
        "<!--COURSE_INFORMATION-->\n",
        "<img align=\"left\" style=\"padding-right:10px;\" src=\"https://sitejerk.com/images/google-earth-logo-png-5.png\" width=5% >\n",
        "<img align=\"right\" style=\"padding-left:10px;\" src=\"https://colab.research.google.com/img/colab_favicon_256px.png\" width=6% >\n",
        "\n",
        "\n",
        ">> *This notebook is part from the free course [EEwPython](https://github.com/csaybar/EEwPython); the content is available [on GitHub](https://github.com/csaybar/EEwPython)* and released under the [Apache 2.0 License](https://www.gnu.org/licenses/gpl-3.0.en.html)."
      ]
    },
    {
      "cell_type": "markdown",
      "metadata": {
        "id": "RCSK4fM1TE0k",
        "colab_type": "text"
      },
      "source": [
        "<!--NAVIGATION-->\n",
        " <  [Google Earth Engine Intro](0_connect.ipynb)  | [Contents](index.ipynb) | [Data structures in GEE](1.2_DataStructures.ipynb)>\n",
        "\n",
        "<a href=\"https://colab.research.google.com/github/csaybar/EEwPython/blob/master/0_connect.ipynb\"><img align=\"left\" src=\"https://colab.research.google.com/assets/colab-badge.svg\" alt=\"Open in Colab\" title=\"Open and Execute in Google Colaboratory\"></a>\n"
      ]
    },
    {
      "cell_type": "markdown",
      "metadata": {
        "id": "6IsVHknd6j98",
        "colab_type": "text"
      },
      "source": [
        "\n",
        "#A planetary-scale platform for Earth science data & analysis\n"
      ]
    },
    {
      "cell_type": "code",
      "metadata": {
        "id": "JLw0KlKhrnJJ",
        "colab_type": "code",
        "cellView": "form",
        "outputId": "c8e78ffe-689a-4aaf-ce8d-e3b1e494292b",
        "colab": {
          "base_uri": "https://localhost:8080/",
          "height": 335
        }
      },
      "source": [
        "#@title ## Powered by Google's cloud infrastructure\n",
        "from IPython.display import HTML\n",
        "HTML('<center><iframe width=\"560\" height=\"315\" src=\"https://www.youtube.com/embed/gKGOeTFHnKY\" frameborder=\"0\" allow=\"accelerometer; autoplay; encrypted-media; gyroscope; picture-in-picture\" allowfullscreen></iframe></center>')"
      ],
      "execution_count": 0,
      "outputs": [
        {
          "output_type": "execute_result",
          "data": {
            "text/html": [
              "<center><iframe width=\"560\" height=\"315\" src=\"https://www.youtube.com/embed/gKGOeTFHnKY\" frameborder=\"0\" allow=\"accelerometer; autoplay; encrypted-media; gyroscope; picture-in-picture\" allowfullscreen></iframe></center>"
            ],
            "text/plain": [
              "<IPython.core.display.HTML object>"
            ]
          },
          "metadata": {
            "tags": []
          },
          "execution_count": 5
        }
      ]
    },
    {
      "cell_type": "markdown",
      "metadata": {
        "id": "l3kcTOPwsCKi",
        "colab_type": "text"
      },
      "source": [
        "## What is Google Earth Engine?\n",
        "Google Earth Engine is a computing platform that allows users to run geospatial analysis on Google's infrastructure. There are several ways to interact with the platform:\n",
        "\n",
        "  - [Explorer](https://explorer.earthengine.google.com/)\n",
        "  - [Code Editor](https://code.earthengine.google.com/)  \n",
        "  - [Javascript wrapper library](https://github.com/google/earthengine-api/tree/master/javascript)\n",
        "  - [**Python wrapper library**](https://github.com/google/earthengine-api/tree/master/python)\n",
        "\n",
        "You can use the last one to build [custom applications](https://github.com/google/earthengine-api/tree/master/demos) and to develop Earth Engine code locally. Continue the *EEwPython* for an overview of this, or visit the **[Earth Engine’s Developer Guide](https://developers.google.com/earth-engine/getstarted)**  or the demos hosted in [GitHub](https://github.com/google/earthengine-api) for an in-depth guide.\n",
        "\n",
        "The purpose of Earth Engine is to:\n",
        "\n",
        "- Perform highly-interactive algorithm development at global scale\n",
        "\n",
        "- Push the edge of the envelope for big data in remote sensing\n",
        "\n",
        "- Enable high-impact, data-driven science\n",
        "\n",
        "- Make substantive progress on global challenges that involve large geospatial datasets\n",
        "\n",
        "## Components:\n",
        "\n",
        "The main components of Earth Engine are:\n",
        "\n",
        "- [**Datasets**](https://developers.google.com/earth-engine/datasets/): A petabyte-scale archive of publicly available remotely sensed imagery and other data. Explore the data catalog.\n",
        "\n",
        "- [**Compute power**](https://reader.elsevier.com/reader/sd/pii/S0034425717302900?token=2AC58EA43ED5306A13DA0E6AF50A5F286D59B455B45F52F9932FE71845E5C75C706C78E079BC3769B23B256612A225D0): Google’s computational infrastructure optimized for parallel processing of geospatial data.\n",
        "\n",
        "- **APIs**: APIs for JavaScript and Python (hosted on GitHub) for making requests to the Earth Engine servers. These docs focus on JavaScript; (Get started guide for the Javascript API). For Python, see the Python install guide and the Python examples in the Earth Engine GitHub repository.\n",
        "\n",
        "- **Code Editor**: An online Integrated Development Environment (IDE) for rapid prototyping and visualization of complex spatial analyses using the Javascript API. Explore the Code Editor docs.\n",
        "\n",
        "\n",
        "## Note about access and API stability\n",
        "The Earth Engine API and advanced Earth Engine functionality are experimental and subject to change. Access is limited and requires requesting access via our form."
      ]
    },
    {
      "cell_type": "markdown",
      "metadata": {
        "id": "u789tt7jtFcI",
        "colab_type": "text"
      },
      "source": [
        "## 1.  Connecting GEE, Colab and Google Drive"
      ]
    },
    {
      "cell_type": "markdown",
      "metadata": {
        "id": "p2d64Hzi8NNT",
        "colab_type": "text"
      },
      "source": [
        "- **Colab & Google Drive synchronization**"
      ]
    },
    {
      "cell_type": "code",
      "metadata": {
        "id": "vS2vm3h5-jbz",
        "colab_type": "code",
        "colab": {}
      },
      "source": [
        "#from google.colab import drive\n",
        "#drive.mount('/content/drive')"
      ],
      "execution_count": 0,
      "outputs": []
    },
    {
      "cell_type": "markdown",
      "metadata": {
        "id": "0UH2asC7CB1N",
        "colab_type": "text"
      },
      "source": [
        "- **Colab & Earth Engine synchronization**"
      ]
    },
    {
      "cell_type": "code",
      "metadata": {
        "id": "ZGbB_ztw-jwR",
        "colab_type": "code",
        "colab": {}
      },
      "source": [
        "!pip install earthengine-api #Firstly we need the earth-engine API"
      ],
      "execution_count": 0,
      "outputs": []
    },
    {
      "cell_type": "code",
      "metadata": {
        "id": "B3ed9DzvCPEU",
        "colab_type": "code",
        "colab": {}
      },
      "source": [
        "!earthengine authenticate "
      ],
      "execution_count": 0,
      "outputs": []
    },
    {
      "cell_type": "code",
      "metadata": {
        "id": "-fHzvUqJCW9k",
        "colab_type": "code",
        "colab": {}
      },
      "source": [
        "import ee\n",
        "ee.Initialize()"
      ],
      "execution_count": 0,
      "outputs": []
    },
    {
      "cell_type": "markdown",
      "metadata": {
        "id": "qfJ5hLl5tNzh",
        "colab_type": "text"
      },
      "source": [
        "## 2. Hello World!\n",
        "\n",
        "\n",
        "- **assetID**: Is the key to identify a specific file in [GEE datasets](https://developers.google.com/earth-engine/datasets/catalog/USGS_SRTMGL1_003).\n",
        "- **ee.Image('assetID')**: In GEE raster data are represented as Image objects (see the next topic). \n",
        "- **ee.Image.clip(ee.Geometry.____)**: Is a ee.Image method used to crop spatially all the bands in Images.\n",
        "- **ee.Image.getThumbURL**: Used to preview ee.Image or ee.ImageCollection.\n"
      ]
    },
    {
      "cell_type": "code",
      "metadata": {
        "id": "JL8bXuLov_hE",
        "colab_type": "code",
        "outputId": "a0e222c9-6f77-4230-910e-3016e36f3135",
        "colab": {
          "base_uri": "https://localhost:8080/",
          "height": 532
        }
      },
      "source": [
        "from IPython.display import Image\n",
        "\n",
        "Peru = ee.Image(\"USGS/SRTMGL1_003\")\\\n",
        "         .clip(ee.Geometry.Rectangle(-85, -20, -65,0))\\\n",
        "         .getThumbUrl({'min': 0, 'max': 3000,'palette':['000000', 'FFFFFF']})\n",
        "Image(url=Peru)"
      ],
      "execution_count": 0,
      "outputs": [
        {
          "output_type": "execute_result",
          "data": {
            "text/html": [
              "<img src=\"https://earthengine.googleapis.com/api/thumb?thumbid=d7ae64e8adb3ea394b2edbf851a8c73e&token=f8cfe498a9b240417b82ec0483daf7c1\"/>"
            ],
            "text/plain": [
              "<IPython.core.display.Image object>"
            ]
          },
          "metadata": {
            "tags": []
          },
          "execution_count": 27
        }
      ]
    },
    {
      "cell_type": "markdown",
      "metadata": {
        "id": "_m-4d-x8TlPD",
        "colab_type": "text"
      },
      "source": [
        "<!--NAVIGATION-->\n",
        " <  [Google Earth Engine Intro](0_connect.ipynb)  | [Contents](index.ipynb) | [Data structures in GEE](1.2_DataStructures.ipynb)>\n",
        "\n",
        "<a href=\"https://colab.research.google.com/github/csaybar/EEwPython/blob/master/0_connect.ipynb\"><img align=\"left\" src=\"https://colab.research.google.com/assets/colab-badge.svg\" alt=\"Open in Colab\" title=\"Open and Execute in Google Colaboratory\"></a>\n"
      ]
    }
  ]
}