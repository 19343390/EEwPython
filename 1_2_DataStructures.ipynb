{
  "nbformat": 4,
  "nbformat_minor": 0,
  "metadata": {
    "colab": {
      "name": "1.2_DataStructures.ipynb",
      "version": "0.3.2",
      "provenance": [],
      "collapsed_sections": [],
      "include_colab_link": true
    },
    "kernelspec": {
      "name": "python3",
      "display_name": "Python 3"
    }
  },
  "cells": [
    {
      "cell_type": "markdown",
      "metadata": {
        "id": "view-in-github",
        "colab_type": "text"
      },
      "source": [
        "<a href=\"https://colab.research.google.com/github/csaybar/EEwPython/blob/master/1_2_DataStructures.ipynb\" target=\"_parent\"><img src=\"https://colab.research.google.com/assets/colab-badge.svg\" alt=\"Open In Colab\"/></a>"
      ]
    },
    {
      "cell_type": "markdown",
      "metadata": {
        "id": "_rUp3DC76g8u",
        "colab_type": "text"
      },
      "source": [
        "<!--COURSE_INFORMATION-->\n",
        "<img align=\"left\" style=\"padding-right:10px;\" src=\"https://sitejerk.com/images/google-earth-logo-png-5.png\" width=5% >\n",
        "<img align=\"right\" style=\"padding-left:10px;\" src=\"https://colab.research.google.com/img/colab_favicon_256px.png\" width=6% >\n",
        "\n",
        "\n",
        ">> *This notebook is part from the free course [EEwPython](https://github.com/csaybar/EEwPython); the content is available [on GitHub](https://github.com/csaybar/EEwPython)* and released under the [Apache 2.0 License](https://www.gnu.org/licenses/gpl-3.0.en.html)."
      ]
    },
    {
      "cell_type": "markdown",
      "metadata": {
        "id": "ZAidZINIT19d",
        "colab_type": "text"
      },
      "source": [
        "<!--NAVIGATION-->\n",
        " < [Data structures in GEE](1.2_DataStructures.ipynb)  | [Contents](index.ipynb) |  [Image & ImageCollection](1.3_Images.ipynb)>\n",
        "\n",
        "<a href=\"https://colab.research.google.com/github/csaybar/EEwPython/blob/master/0_connect.ipynb\"><img align=\"left\" src=\"https://colab.research.google.com/assets/colab-badge.svg\" alt=\"Open in Colab\" title=\"Open and Execute in Google Colaboratory\"></a>\n"
      ]
    },
    {
      "cell_type": "markdown",
      "metadata": {
        "id": "kJef_ECRC02Q",
        "colab_type": "text"
      },
      "source": [
        "# Fundamental Earth Engine data structures"
      ]
    },
    {
      "cell_type": "code",
      "metadata": {
        "id": "JLw0KlKhrnJJ",
        "colab_type": "code",
        "cellView": "form",
        "outputId": "81dfbb33-52f4-4dc8-ad12-416eed19a6cf",
        "colab": {
          "base_uri": "https://localhost:8080/",
          "height": 335
        }
      },
      "source": [
        "#@title ## Fast start to the Earth Engine API\n",
        "from IPython.display import HTML\n",
        "HTML('<center><iframe width=\"560\" height=\"315\" src=\"https://www.youtube.com/embed/m1ejxSi3l8s\" frameborder=\"0\" allow=\"accelerometer; autoplay; encrypted-media; gyroscope; picture-in-picture\" allowfullscreen></iframe></center>')"
      ],
      "execution_count": 0,
      "outputs": [
        {
          "output_type": "execute_result",
          "data": {
            "text/html": [
              "<center><iframe width=\"560\" height=\"315\" src=\"https://www.youtube.com/embed/m1ejxSi3l8s\" frameborder=\"0\" allow=\"accelerometer; autoplay; encrypted-media; gyroscope; picture-in-picture\" allowfullscreen></iframe></center>"
            ],
            "text/plain": [
              "<IPython.core.display.HTML object>"
            ]
          },
          "metadata": {
            "tags": []
          },
          "execution_count": 1
        }
      ]
    },
    {
      "cell_type": "markdown",
      "metadata": {
        "id": "l3kcTOPwsCKi",
        "colab_type": "text"
      },
      "source": [
        "The two most fundamental geographic data structures in Earth Engine are **`Image`** and **`Feature`** corresponding to raster and vector data types, respectively. Images are composed of bands and a dictionary of properties. Features are composed of a **`Geometry`** and a dictionary of properties. A stack of images (e.g. an image time series) is handled by an **`ImageCollection`**. A collection of features is handled by a  **`FeatureCollection`**. Other fundamental data structures in Earth Engine include:\n",
        "\n",
        "- `Dictionary`\n",
        "- `List`\n",
        "- `Array`\n",
        "- `Geometry`\n",
        "- `Date`\n",
        "- `Number`\n",
        "- `String`.\n",
        "\n",
        "It is important to remember that these are all **server-side objects**. That is, your client browser does not know anything about the objects in your script unless you explicitly request information about them. That request triggers a message being passed from Google to the Python API. If the message is large, there will be a corresponding slow down. See the next cell for more details.\n",
        "\n"
      ]
    },
    {
      "cell_type": "markdown",
      "metadata": {
        "id": "u789tt7jtFcI",
        "colab_type": "text"
      },
      "source": [
        "### 1.  Connecting GEE, Colab and Google Drive"
      ]
    },
    {
      "cell_type": "markdown",
      "metadata": {
        "id": "p2d64Hzi8NNT",
        "colab_type": "text"
      },
      "source": [
        "- **Colab & Google Drive synchronization**"
      ]
    },
    {
      "cell_type": "code",
      "metadata": {
        "id": "vS2vm3h5-jbz",
        "colab_type": "code",
        "colab": {}
      },
      "source": [
        "#from google.colab import drive\n",
        "#drive.mount('/content/drive')"
      ],
      "execution_count": 0,
      "outputs": []
    },
    {
      "cell_type": "markdown",
      "metadata": {
        "id": "0UH2asC7CB1N",
        "colab_type": "text"
      },
      "source": [
        "- **Colab & Earth Engine synchronization**"
      ]
    },
    {
      "cell_type": "code",
      "metadata": {
        "id": "ZGbB_ztw-jwR",
        "colab_type": "code",
        "colab": {}
      },
      "source": [
        "!pip install earthengine-api #Firstly we need the earth-engine API"
      ],
      "execution_count": 0,
      "outputs": []
    },
    {
      "cell_type": "code",
      "metadata": {
        "id": "B3ed9DzvCPEU",
        "colab_type": "code",
        "colab": {}
      },
      "source": [
        "!earthengine authenticate "
      ],
      "execution_count": 0,
      "outputs": []
    },
    {
      "cell_type": "code",
      "metadata": {
        "id": "-fHzvUqJCW9k",
        "colab_type": "code",
        "colab": {}
      },
      "source": [
        "import ee\n",
        "ee.Initialize()"
      ],
      "execution_count": 0,
      "outputs": []
    },
    {
      "cell_type": "markdown",
      "metadata": {
        "id": "qfJ5hLl5tNzh",
        "colab_type": "text"
      },
      "source": [
        "### 2. Data Structures\n",
        "\n",
        "Existing two ways to inspect the **Earth Engine Data Structures**  in Python console. `print()` that return the  petition (as a JSON) to the server and `*.getInfo()` that returns the contents of the container.  This section summaries all the Data Structures mentioned above.\n",
        "\n",
        "#### 2.1 Strings\n",
        "Define a Python string, then put it into the **`ee.String()`** container to be sent to Earth Engine:\n"
      ]
    },
    {
      "cell_type": "code",
      "metadata": {
        "id": "JL8bXuLov_hE",
        "colab_type": "code",
        "colab": {}
      },
      "source": [
        "# Define a string, then put it into an EE container.\n",
        "aString = 'To the cloud!'\n",
        "eeString = ee.String(aString)\n",
        "print('Where to?', eeString)\n",
        "eeString"
      ],
      "execution_count": 0,
      "outputs": []
    },
    {
      "cell_type": "markdown",
      "metadata": {
        "id": "8EgqptymInfe",
        "colab_type": "text"
      },
      "source": [
        "Think of **`ee.Thing`** as a container for a thing that exists on the server. In this example, the string is defined first, then put into the container. \n",
        "\n"
      ]
    },
    {
      "cell_type": "markdown",
      "metadata": {
        "id": "QcMT2ZBRId1z",
        "colab_type": "text"
      },
      "source": [
        "#### 2.2 Numbers\n",
        "Use **`ee.Number()`** to create number objects on the server."
      ]
    },
    {
      "cell_type": "code",
      "metadata": {
        "id": "pVkv8pLUJKSZ",
        "colab_type": "code",
        "colab": {}
      },
      "source": [
        "# Define a number that exists on the server.\n",
        "import numpy as np\n",
        "serverNumber = ee.Number(np.e)\n",
        "print('e=', serverNumber)\n",
        "serverNumber"
      ],
      "execution_count": 0,
      "outputs": []
    },
    {
      "cell_type": "markdown",
      "metadata": {
        "id": "_Y6KPTSAJiW2",
        "colab_type": "text"
      },
      "source": [
        "#### 2.3 Lists\n",
        "\n",
        "To make a Python list into an **`ee.List`** object on the server, you can put a Python literal into a container as with numbers and strings. Earth Engine also provides server-side convenience methods for making sequences of numbers.\n",
        "\n"
      ]
    },
    {
      "cell_type": "code",
      "metadata": {
        "id": "s6uICS7SKBtp",
        "colab_type": "code",
        "colab": {}
      },
      "source": [
        "# Make a sequence the hard way.\n",
        "eeList = ee.List([1, 2, 3, 4, 5])\n",
        "\n",
        "# Make a sequence the easy way!\n",
        "sequence = ee.List.sequence(1, 5);\n",
        "\n",
        "print('Sequence:', sequence)\n",
        "print('Opening the container:', sequence.getInfo())"
      ],
      "execution_count": 0,
      "outputs": []
    },
    {
      "cell_type": "markdown",
      "metadata": {
        "id": "AgGrY6GDPpTD",
        "colab_type": "text"
      },
      "source": [
        "#### 2.4. Dictionaries\n",
        "\n",
        "You can construct an Earth Engine `Dictionary` from a Python object, as with strings, numbers and lists. At construction time, you can use Python functionality to initialize the Earth Engine object. In this case an ee.Dictionary is constructed directly from a Python literal object:"
      ]
    },
    {
      "cell_type": "code",
      "metadata": {
        "id": "2Q3CgKOkPpnD",
        "colab_type": "code",
        "colab": {}
      },
      "source": [
        "dictionary = ee.Dictionary({\n",
        "  'e': np.e,\n",
        "  'pi': np.pi,\n",
        "  'phi': (1 + np.sqrt(5))/2\n",
        "})"
      ],
      "execution_count": 0,
      "outputs": []
    },
    {
      "cell_type": "code",
      "metadata": {
        "id": "K_hoDfHGQdng",
        "colab_type": "code",
        "colab": {}
      },
      "source": [
        "# Get some values from the dictionary.\n",
        "print('Euler:', dictionary.get('e').getInfo())\n",
        "print('Pi:', dictionary.get('pi').getInfo())\n",
        "print('Golden ratio:', dictionary.get('phi').getInfo())\n",
        "\n",
        "# Get all the keys:\n",
        "print('Keys: ', dictionary.keys().getInfo())"
      ],
      "execution_count": 0,
      "outputs": []
    },
    {
      "cell_type": "markdown",
      "metadata": {
        "id": "KKtoLU7rQrbb",
        "colab_type": "text"
      },
      "source": [
        "In this example, observe that once you have an `ee.Dictionary`, you must use methods on the `ee.Dictionary` to get values. Specifically, get(key) returns the value associated with key. Since the type of object returned by `get()` could be be anything, if you're going to do anything to the object other then print it, you need to cast it to the right type. Also note that the `keys()` method returns an List.\n",
        "\n"
      ]
    },
    {
      "cell_type": "markdown",
      "metadata": {
        "id": "GwSnVuanRJKj",
        "colab_type": "text"
      },
      "source": [
        "#### 2.5. Dates\n",
        "\n",
        "Date objects are the way Earth Engine represents time. As in the previous examples, it is important to distinguish between a Python Date object and an Earth Engine `ee.Date` object.\n",
        "\n",
        "A Date object can be construct from:\n",
        "  - A string.\n",
        "  - Python [datetime](https://docs.python.org/3/library/datetime.html) object.\n",
        "  - Static methods provided by the ee.Date class.\n",
        "  \n",
        "The next examples illustrates the construction of dates from these three forms."
      ]
    },
    {
      "cell_type": "code",
      "metadata": {
        "id": "Jfsy4QevQ_oe",
        "colab_type": "code",
        "colab": {}
      },
      "source": [
        "# Define a date in Earth Engine.\n",
        "date = ee.Date('2015-12-31')\n",
        "print('Date:', date)\n",
        "print('Date:', date.getInfo())"
      ],
      "execution_count": 0,
      "outputs": []
    },
    {
      "cell_type": "markdown",
      "metadata": {
        "id": "-B0p5rljaR-D",
        "colab_type": "text"
      },
      "source": [
        "In earth engine the date is representing with timestamps since midnight on January 1, 1970 considering an in milliseconds timestep . "
      ]
    },
    {
      "cell_type": "code",
      "metadata": {
        "id": "YbV-GXkjTs9F",
        "colab_type": "code",
        "colab": {}
      },
      "source": [
        "# Get the current time using the JavaScript Date.now() method.\n",
        "import datetime as dt\n",
        "now = dt.datetime.now()\n",
        "print('Milliseconds since January 1, 1970', now)\n",
        "\n",
        "# Initialize an ee.Date object.\n",
        "eeNow = ee.Date(now)\n",
        "print('Now:', eeNow)"
      ],
      "execution_count": 0,
      "outputs": []
    },
    {
      "cell_type": "markdown",
      "metadata": {
        "id": "3XFD0YLFbY9a",
        "colab_type": "text"
      },
      "source": [
        "Arguments to Earth Engine methods can be passed in order, for example to create an `ee.Date` from year, month and day, you can pass parameters of the `fromYMD()` static method in the order year, month, day:\n",
        "\n"
      ]
    },
    {
      "cell_type": "code",
      "metadata": {
        "id": "I5g7fKLqbVW9",
        "colab_type": "code",
        "colab": {}
      },
      "source": [
        "aDate = ee.Date.fromYMD(2017, 1, 13)\n",
        "print('aDate:', aDate)"
      ],
      "execution_count": 0,
      "outputs": []
    },
    {
      "cell_type": "markdown",
      "metadata": {
        "id": "xsCqrsZ2UFJD",
        "colab_type": "text"
      },
      "source": [
        "<!--NAVIGATION-->\n",
        " < [Data structures in GEE](1.2_DataStructures.ipynb)  | [Contents](index.ipynb) |  [Image & ImageCollection](1.3_Images.ipynb)>\n",
        "\n",
        "<a href=\"https://colab.research.google.com/github/csaybar/EEwPython/blob/master/0_connect.ipynb\"><img align=\"left\" src=\"https://colab.research.google.com/assets/colab-badge.svg\" alt=\"Open in Colab\" title=\"Open and Execute in Google Colaboratory\"></a>\n"
      ]
    }
  ]
}