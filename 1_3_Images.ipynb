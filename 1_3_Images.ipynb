{
  "nbformat": 4,
  "nbformat_minor": 0,
  "metadata": {
    "colab": {
      "name": "1.3_Images.ipynb",
      "version": "0.3.2",
      "provenance": [],
      "collapsed_sections": [],
      "toc_visible": true,
      "include_colab_link": true
    },
    "kernelspec": {
      "name": "python3",
      "display_name": "Python 3"
    }
  },
  "cells": [
    {
      "cell_type": "markdown",
      "metadata": {
        "id": "view-in-github",
        "colab_type": "text"
      },
      "source": [
        "<a href=\"https://colab.research.google.com/github/csaybar/EEwPython/blob/master/1_3_Images.ipynb\" target=\"_parent\"><img src=\"https://colab.research.google.com/assets/colab-badge.svg\" alt=\"Open In Colab\"/></a>"
      ]
    },
    {
      "cell_type": "markdown",
      "metadata": {
        "id": "_rUp3DC76g8u",
        "colab_type": "text"
      },
      "source": [
        "<!--COURSE_INFORMATION-->\n",
        "<img align=\"left\" style=\"padding-right:10px;\" src=\"https://sitejerk.com/images/google-earth-logo-png-5.png\" width=5% >\n",
        "<img align=\"right\" style=\"padding-left:10px;\" src=\"https://colab.research.google.com/img/colab_favicon_256px.png\" width=6% >\n",
        "\n",
        "\n",
        ">> *This notebook is part from the free course [EEwPython](https://github.com/csaybar/EEwPython); the content is available [on GitHub](https://github.com/csaybar/EEwPython)* and released under the [Apache 2.0 License](https://www.gnu.org/licenses/gpl-3.0.en.html).\n",
        "\n"
      ]
    },
    {
      "cell_type": "markdown",
      "metadata": {
        "id": "g-iMfR17vqXj",
        "colab_type": "text"
      },
      "source": [
        "<!--NAVIGATION-->\n",
        " < [Data structures in GEE](1.2_DataStructures.ipynb) | [Contents](index.ipynb) |  [Feature & FeatureCollections](1.4_Features.ipynb)>\n",
        "\n",
        "<a href=\"https://colab.research.google.com/github/csaybar/EEwPython/blob/master/1.3_Images.ipynb\"><img align=\"left\" src=\"https://colab.research.google.com/assets/colab-badge.svg\" alt=\"Open in Colab\" title=\"Open and Execute in Google Colaboratory\"></a>"
      ]
    },
    {
      "cell_type": "code",
      "metadata": {
        "id": "JLw0KlKhrnJJ",
        "colab_type": "code",
        "cellView": "form",
        "outputId": "7cf88734-b11c-4321-93cb-9eb4166dfc51",
        "colab": {
          "base_uri": "https://localhost:8080/",
          "height": 335
        }
      },
      "source": [
        "#@title # ee.Image & ee.ImageCollection\n",
        "from IPython.display import HTML\n",
        "HTML('<center><iframe width=\"560\" height=\"315\" src=\"https://www.youtube.com/embed/LzxQH0Ze0iI\" frameborder=\"0\" allow=\"accelerometer; autoplay; encrypted-media; gyroscope; picture-in-picture\" allowfullscreen></iframe></center>')"
      ],
      "execution_count": 0,
      "outputs": [
        {
          "output_type": "execute_result",
          "data": {
            "text/html": [
              "<center><iframe width=\"560\" height=\"315\" src=\"https://www.youtube.com/embed/LzxQH0Ze0iI\" frameborder=\"0\" allow=\"accelerometer; autoplay; encrypted-media; gyroscope; picture-in-picture\" allowfullscreen></iframe></center>"
            ],
            "text/plain": [
              "<IPython.core.display.HTML object>"
            ]
          },
          "metadata": {
            "tags": []
          },
          "execution_count": 2
        }
      ]
    },
    {
      "cell_type": "markdown",
      "metadata": {
        "id": "VxW_4vQjg6tr",
        "colab_type": "text"
      },
      "source": [
        "Raster data are represented as Image objects in Earth Engine. Images are composed of one or more bands and each band has its own name, data type, scale, mask and projection. Each image can have metadata stored as a set of properties (Dictionary)."
      ]
    },
    {
      "cell_type": "code",
      "metadata": {
        "id": "ViA_JmIfILLy",
        "colab_type": "code",
        "cellView": "form",
        "colab": {}
      },
      "source": [
        "#@title Function to visualize thumbnail URL\n",
        "from IPython.display import Image\n",
        "from IPython.display import HTML\n",
        "\n",
        "def display_image(url,title=\"\",CSS_row=False):\n",
        "  img_link = \"<center> <h1>%s</h1> <img title='%s' src= '%s'></center>\" % (title,title,url)\n",
        "  return HTML(img_link)"
      ],
      "execution_count": 0,
      "outputs": []
    },
    {
      "cell_type": "markdown",
      "metadata": {
        "id": "u789tt7jtFcI",
        "colab_type": "text"
      },
      "source": [
        "### Connecting GEE, Colab and Google Drive"
      ]
    },
    {
      "cell_type": "markdown",
      "metadata": {
        "id": "p2d64Hzi8NNT",
        "colab_type": "text"
      },
      "source": [
        "- **Colab & Google Drive synchronization**"
      ]
    },
    {
      "cell_type": "code",
      "metadata": {
        "id": "vS2vm3h5-jbz",
        "colab_type": "code",
        "colab": {}
      },
      "source": [
        "#from google.colab import drive\n",
        "#drive.mount('/content/drive')"
      ],
      "execution_count": 0,
      "outputs": []
    },
    {
      "cell_type": "markdown",
      "metadata": {
        "id": "0UH2asC7CB1N",
        "colab_type": "text"
      },
      "source": [
        "- **Colab & Earth Engine synchronization**"
      ]
    },
    {
      "cell_type": "code",
      "metadata": {
        "id": "ZGbB_ztw-jwR",
        "colab_type": "code",
        "colab": {}
      },
      "source": [
        "!pip install earthengine-api #Firstly we need the earth-engine API"
      ],
      "execution_count": 0,
      "outputs": []
    },
    {
      "cell_type": "code",
      "metadata": {
        "id": "B3ed9DzvCPEU",
        "colab_type": "code",
        "colab": {}
      },
      "source": [
        "!earthengine authenticate "
      ],
      "execution_count": 0,
      "outputs": []
    },
    {
      "cell_type": "code",
      "metadata": {
        "id": "-fHzvUqJCW9k",
        "colab_type": "code",
        "colab": {}
      },
      "source": [
        "import ee\n",
        "ee.Initialize()"
      ],
      "execution_count": 0,
      "outputs": []
    },
    {
      "cell_type": "markdown",
      "metadata": {
        "id": "qfJ5hLl5tNzh",
        "colab_type": "text"
      },
      "source": [
        "### 2. Images overview\n",
        "\n",
        "In addition to loading images from the archive by an **image ID**, you can also create images from constants, lists or other suitable Earth Engine objects. This section illustrates methods for creating images, getting band subsets, and manipulating bands.\n",
        "\n",
        "Methods that you will use in this seccion:\n",
        " - **ee.Image.cat**\n",
        " - **ee.Image.addBands**\n",
        " - **ee.Image.Select**"
      ]
    },
    {
      "cell_type": "code",
      "metadata": {
        "id": "JL8bXuLov_hE",
        "colab_type": "code",
        "colab": {}
      },
      "source": [
        "# 2.1 Create a constant image.\n",
        "image1 = ee.Image(1)\n",
        "print(image1,'\\n')\n",
        "image1.getInfo()"
      ],
      "execution_count": 0,
      "outputs": []
    },
    {
      "cell_type": "markdown",
      "metadata": {
        "id": "z0sBOUeEkeS5",
        "colab_type": "text"
      },
      "source": [
        "- **ee.Image.cat(list)**: Concatenate the given images together into a single image.\n",
        "\n",
        "  "
      ]
    },
    {
      "cell_type": "code",
      "metadata": {
        "id": "8emZLqwWhsAE",
        "colab_type": "code",
        "colab": {}
      },
      "source": [
        "#2.2 Concatenate two images into one multi-band image.\n",
        "image2 = ee.Image(2)\n",
        "image3 = ee.Image.cat([image1, image2])\n",
        "print(image3,'\\n')\n",
        "image3.getInfo()"
      ],
      "execution_count": 0,
      "outputs": []
    },
    {
      "cell_type": "code",
      "metadata": {
        "id": "TLw4Ghd3h9MD",
        "colab_type": "code",
        "colab": {}
      },
      "source": [
        "# Create a multi-band image from a list of constants.\n",
        "multiband = ee.Image([1, 2, 3])\n",
        "print(multiband,'\\n')\n",
        "multiband.getInfo()"
      ],
      "execution_count": 0,
      "outputs": []
    },
    {
      "cell_type": "code",
      "metadata": {
        "id": "3KpTZWqKh-gV",
        "colab_type": "code",
        "colab": {}
      },
      "source": [
        "# Select and (optionally) rename bands.\n",
        "renamed = multiband.select(['constant', 'constant_1', 'constant_2'],\n",
        "                           ['band1', 'band2', 'band3'])\n",
        "print(renamed)"
      ],
      "execution_count": 0,
      "outputs": []
    },
    {
      "cell_type": "markdown",
      "metadata": {
        "id": "Fffx7suImrOh",
        "colab_type": "text"
      },
      "source": [
        "- **ee.Image.addBands**: Returns an image containing all bands copied from the first input and selected bands from the second input, optionally overwriting bands in the first image with the same name. The new image has the metadata and footprint from the first input image"
      ]
    },
    {
      "cell_type": "code",
      "metadata": {
        "id": "CIHOje0qh_r1",
        "colab_type": "code",
        "colab": {}
      },
      "source": [
        "# Add bands to an image.\n",
        "image4 = image3.addBands(ee.Image(42))\n",
        "print(image4)"
      ],
      "execution_count": 0,
      "outputs": []
    },
    {
      "cell_type": "markdown",
      "metadata": {
        "id": "FdD1dnNInVuw",
        "colab_type": "text"
      },
      "source": [
        "### 3. Image Vizualization\n",
        "\n",
        "The Python API  a difference than the Code Editor do not support interactive vizualization (**Map.addLayer**). To achieve desirable visualization effects you could use **ee.Image.getThumbURL** in replacement of Map.addLayer. Both  ee.Image.getThumbURL and Map.addLayer have the same parameters:\n",
        "\n",
        "\n",
        "\n",
        "Parameter | Description | Type\n",
        "--------------|-------------|-------------\n",
        "bands\t| Comma-delimited list of three band names to be mapped to RGB| list\n",
        "min|\tValue(s) to map to 0\tnumber or list of three numbers, one for each |band\n",
        "max|\tValue(s) to map to 255\t|number or list of three numbers, one for each band\n",
        "gain|\tValue(s) by which to multiply each pixel value|\tnumber or list of three numbers, one for each band\n",
        "bias|\tValue(s) to add to each DN\t| number or list of three numbers, one for each band\n",
        "gamma|\tGamma correction factor(s)\t| number or list of three numbers, one for each band\n",
        "palette|\tList of CSS-style color strings (single-band images only)\t|comma-separated list of hex strings\n",
        "opacity|\tThe opacity of the layer (0.0 is fully transparent and 1.0 is fully opaque)\t| number\n",
        "format|\tEither \"jpg\" or \"png\"\t|string"
      ]
    },
    {
      "cell_type": "code",
      "metadata": {
        "id": "3U6Gcw4Ing2m",
        "colab_type": "code",
        "outputId": "e8f75cbd-6732-4c95-b2c5-968246c7b8de",
        "colab": {
          "base_uri": "https://localhost:8080/",
          "height": 589
        }
      },
      "source": [
        "# Load an image.\n",
        "image = ee.Image('LANDSAT/LC08/C01/T1_TOA/LC08_044034_20140318')\n",
        "\n",
        "# Define the visualization parameters.\n",
        "vizParams = {\n",
        "  'bands': ['B4', 'B3', 'B2'],\n",
        "  'min': 0,\n",
        "  'max': 0.5,\n",
        "  'gamma': [0.95, 1.1, 1]\n",
        "}\n",
        "\n",
        "display_image(image.getThumbUrl(vizParams), 'San Francisco Bay')"
      ],
      "execution_count": 0,
      "outputs": [
        {
          "output_type": "execute_result",
          "data": {
            "text/html": [
              "<center> <h1>San Francisco Bay</h1> <img title='San Francisco Bay' src= 'https://earthengine.googleapis.com/api/thumb?thumbid=5da4f63fd2fed73a17550c7140a6ee63&token=9b222cb0d6e6c30e43b241e21d183530'></center>"
            ],
            "text/plain": [
              "<IPython.core.display.HTML object>"
            ]
          },
          "metadata": {
            "tags": []
          },
          "execution_count": 152
        }
      ]
    },
    {
      "cell_type": "markdown",
      "metadata": {
        "id": "AlsSAlP11WZS",
        "colab_type": "text"
      },
      "source": [
        "### 4. Masking\n",
        "\n",
        "You can use **`image.updateMask()`** to set the opacity of individual pixels based on where pixels in a mask image are non-zero. Pixels equal to zero in the mask are excluded from computations and the opacity is set to 0 for display. The following example uses an NDWI threshold (see the [Relational Operations section]() for information on thresholds) to update the mask on the NDWI layer created previously:\n",
        "\n"
      ]
    },
    {
      "cell_type": "code",
      "metadata": {
        "id": "frBqSRZr1gBh",
        "colab_type": "code",
        "outputId": "5a8612dc-2a92-4fb4-a9c9-6d4a94ab2fff",
        "colab": {
          "base_uri": "https://localhost:8080/",
          "height": 589
        }
      },
      "source": [
        "# Load an image.\n",
        "image = ee.Image('LANDSAT/LC08/C01/T1_TOA/LC08_044034_20140318')\n",
        "\n",
        "# Create an NDWI image, define visualization parameters and display.\n",
        "ndwi = image.normalizedDifference(['B3', 'B5'])\n",
        "\n",
        "# Mask the non-watery parts of the image, where NDWI < 0.4.\n",
        "ndwiMasked = ndwi.updateMask(ndwi.gte(0.4))\n",
        "ndwiViz = {'min': 0.5, 'max': 1, 'palette': ['00FFFF', '0000FF']}\n",
        "\n",
        "\n",
        "display_image(ndwiMasked.getThumbUrl(ndwiViz), 'NDWI < 0.4')"
      ],
      "execution_count": 0,
      "outputs": [
        {
          "output_type": "execute_result",
          "data": {
            "text/html": [
              "<center> <h1>NDWI < 0.4</h1> <img title='NDWI < 0.4' src= 'https://earthengine.googleapis.com/api/thumb?thumbid=fce6683980d7910d073e6bfd260afb5e&token=5a546cdb0377f04d5217f87a383a7fc8'></center>"
            ],
            "text/plain": [
              "<IPython.core.display.HTML object>"
            ]
          },
          "metadata": {
            "tags": []
          },
          "execution_count": 153
        }
      ]
    },
    {
      "cell_type": "markdown",
      "metadata": {
        "id": "SrMMdKzj4xqu",
        "colab_type": "text"
      },
      "source": [
        "### 5. Clipping\n",
        "\n",
        "The **`image.clip()`** method is useful for achieving cartographic effects. The following example clips the Image **RGB_SF**."
      ]
    },
    {
      "cell_type": "code",
      "metadata": {
        "id": "jpIuRQz15McL",
        "colab_type": "code",
        "outputId": "d35d6a9f-dde2-46ba-daab-0bbf95b3a33b",
        "colab": {
          "base_uri": "https://localhost:8080/",
          "height": 589
        }
      },
      "source": [
        "# Create a circle by drawing a 20000 meter buffer around a point.\n",
        "roi = ee.Geometry.Point([-122.4481, 37.7599]).buffer(20000)\n",
        "\n",
        "# Display a clipped version of the RGB image.\n",
        "display_image(RGB_SF.clip(roi).getThumbUrl(vizParams), 'Clipped')"
      ],
      "execution_count": 0,
      "outputs": [
        {
          "output_type": "execute_result",
          "data": {
            "text/html": [
              "<center> <h1>Clipped</h1> <img title='Clipped' src= 'https://earthengine.googleapis.com/api/thumb?thumbid=b2b3f4f6baff31175f62b4e4b54d0236&token=0602ad73857f4f860e45cce7c38ac012'></center>"
            ],
            "text/plain": [
              "<IPython.core.display.HTML object>"
            ]
          },
          "metadata": {
            "tags": []
          },
          "execution_count": 154
        }
      ]
    },
    {
      "cell_type": "markdown",
      "metadata": {
        "id": "T_xUM23o5eBo",
        "colab_type": "text"
      },
      "source": [
        "### 6. Rendering categorical maps\n",
        "\n",
        "Palettes are also useful for rendering discrete valued maps, for example a land cover map. In the case of multiple classes, use the palette to supply a different color for each class. (The **`image.remap()`** method may be useful in this context, to convert arbitrary labels to consecutive integers). The following example uses a palette to render land cover categories:\n",
        "\n"
      ]
    },
    {
      "cell_type": "code",
      "metadata": {
        "id": "wJqDl2S65hvw",
        "colab_type": "code",
        "outputId": "40ee6486-f442-48db-96bd-019bae177843",
        "colab": {
          "base_uri": "https://localhost:8080/",
          "height": 333
        }
      },
      "source": [
        "cover = ee.Image('MODIS/051/MCD12Q1/2012_01_01')\\\n",
        "          .select('Land_Cover_Type_1')\n",
        "\n",
        "# Define a palette for the 18 distinct land cover classes.\n",
        "igbpPalette = [\n",
        "  'aec3d4', # water\n",
        "  '152106', '225129', '369b47', '30eb5b', '387242', # forest\n",
        "  '6a2325', 'c3aa69', 'b76031', 'd9903d', '91af40',  # shrub, grass\n",
        "  '111149', # wetlands\n",
        "  'cdb33b', # croplands\n",
        "  'cc0013', # urban\n",
        "  '33280d', # crop mosaic\n",
        "  'd7cdcc', # snow and ice\n",
        "  'f7e084', # barren\n",
        "  '6f6f6f'  # tundra\n",
        "]\n",
        "\n",
        "# Specify the min and max labels and the color palette matching the labels.\n",
        "vizParams = {'min': 0,\n",
        "             'max': 17,\n",
        "             'palette': igbpPalette}\n",
        "\n",
        "display_image(cover.getThumbUrl(vizParams),'Land Cover Distribution')"
      ],
      "execution_count": 0,
      "outputs": [
        {
          "output_type": "execute_result",
          "data": {
            "text/html": [
              "<center> <h1>Land Cover Distribution</h1> <img title='Land Cover Distribution' src= 'https://earthengine.googleapis.com/api/thumb?thumbid=f4319cc47a0f7808197246e7428f66fb&token=aa69c61e79478ee29970c777a1fe04c8'></center>"
            ],
            "text/plain": [
              "<IPython.core.display.HTML object>"
            ]
          },
          "metadata": {
            "tags": []
          },
          "execution_count": 158
        }
      ]
    },
    {
      "cell_type": "markdown",
      "metadata": {
        "id": "QInLa5g88rUG",
        "colab_type": "text"
      },
      "source": [
        "### 7. Image information and metadata\n",
        "\n",
        "To explore image bands and properties in the Python API, getInfo() the image and inspect the output in the console. This information can also be accessed programmatically. For example, the following demonstrates how to access information about bands, projections and other metadata:\n",
        "\n",
        "\n"
      ]
    },
    {
      "cell_type": "code",
      "metadata": {
        "id": "29eygRFu8id7",
        "colab_type": "code",
        "colab": {}
      },
      "source": [
        "# Load an image.\n",
        "image = ee.Image('LANDSAT/LC08/C01/T1/LC08_044034_20140318')\n",
        "\n",
        "# Get information about the bands as a list.\n",
        "bandNames = image.bandNames()\n",
        "print('Band names: ', bandNames.getInfo()) # ee.List of band names"
      ],
      "execution_count": 0,
      "outputs": []
    },
    {
      "cell_type": "code",
      "metadata": {
        "id": "gT2sTonS-67R",
        "colab_type": "code",
        "colab": {}
      },
      "source": [
        "# Get projection information from band 1.\n",
        "b1proj = image.select('B1').projection()\n",
        "print('Band 1 projection: \\n', b1proj.getInfo()) # ee.Projection object"
      ],
      "execution_count": 0,
      "outputs": []
    },
    {
      "cell_type": "code",
      "metadata": {
        "id": "VOv5uU7D-8P6",
        "colab_type": "code",
        "colab": {}
      },
      "source": [
        "# Get scale (in meters) information from band 1.\n",
        "b1scale = image.select('B1').projection().nominalScale()\n",
        "print('Band 1 scale: \\n', b1scale.getInfo()) # ee.Number"
      ],
      "execution_count": 0,
      "outputs": []
    },
    {
      "cell_type": "code",
      "metadata": {
        "id": "ME1zxhV6-9GV",
        "colab_type": "code",
        "colab": {}
      },
      "source": [
        "# Note that different bands can have different projections and scale.\n",
        "b8scale = image.select('B8').projection().nominalScale()\n",
        "print('Band 8 scale: \\n', b8scale.getInfo()) # ee.Number"
      ],
      "execution_count": 0,
      "outputs": []
    },
    {
      "cell_type": "code",
      "metadata": {
        "id": "-pEdDfTV--OA",
        "colab_type": "code",
        "colab": {}
      },
      "source": [
        "# Get a list of all metadata properties.\n",
        "properties = image.propertyNames()\n",
        "print('Metadata properties:', ) \n",
        "properties.getInfo() # ee.List of metadata properties"
      ],
      "execution_count": 0,
      "outputs": []
    },
    {
      "cell_type": "code",
      "metadata": {
        "id": "SJIOLkne-_MA",
        "colab_type": "code",
        "colab": {}
      },
      "source": [
        "# Get a specific metadata property.\n",
        "cloudiness = image.get('CLOUD_COVER')\n",
        "print('CLOUD_COVER: ')\n",
        "cloudiness.getInfo() # ee.Number"
      ],
      "execution_count": 0,
      "outputs": []
    },
    {
      "cell_type": "code",
      "metadata": {
        "id": "-XrdBSXs_AR5",
        "colab_type": "code",
        "colab": {}
      },
      "source": [
        "from datetime import datetime as dt\n",
        "\n",
        "# Get the timestamp and convert it to a date.\n",
        "date = ee.Date(image.get('system:time_start'))\n",
        "# We divide by 1000 because Earth Engine returns the timestamp in milisecond and Python in seconds.\n",
        "tmstp = date.getInfo()['value']/1000 \n",
        "\n",
        "print('Timestamp:', dt.utcfromtimestamp(tmstp).strftime('%Y-%m-%d %H:%M:%S'))"
      ],
      "execution_count": 0,
      "outputs": []
    },
    {
      "cell_type": "markdown",
      "metadata": {
        "id": "9OOhM1j_BrYy",
        "colab_type": "text"
      },
      "source": [
        "Note that the results of these queries are **server-side objects**. When you use the method \\*.getInfo(), you request that information describing the object be sent from the server to your client. (Learn more about client vs. server in Earth Engine on this [page](https://developers.google.com/earth-engine/client_server)). \n",
        "\n"
      ]
    },
    {
      "cell_type": "markdown",
      "metadata": {
        "id": "5T1btubjBoLG",
        "colab_type": "text"
      },
      "source": [
        "### 8. Mathematical Expressions\n",
        "\n",
        "Earth Engine supports many basic mathematical operators. They share some common features. **Earth Engine performs math operations per pixel**. When an operator is applied to an image, it's applied to each unmasked pixel of each band. In the case of operations on two images, the operation is only applied at the locations where pixels in both images are unmasked. Earth Engine automatically matches bands between images. When an operator is applied to two images, the images are expected to have the same number of bands so they can be matched pairwise. However, if one of the images has only a single band, it is matched with all of the bands in the other image, essentially replicating that band enough times to match the other image.\n",
        "\n",
        "\n",
        "For a simple example, consider the task of creating the Normalized Difference Vegetation Index (NDVI) using Landsat imagery:\n",
        "\n"
      ]
    },
    {
      "cell_type": "code",
      "metadata": {
        "id": "wKc4Ma-UChy2",
        "colab_type": "code",
        "outputId": "71d23705-ad82-4613-a75a-b508efdbb94d",
        "colab": {
          "base_uri": "https://localhost:8080/",
          "height": 1161
        }
      },
      "source": [
        "# Load two 5-year Landsat 7 composites.\n",
        "landsat1999 = ee.Image('LANDSAT/LE7_TOA_5YEAR/1999_2003')\n",
        "landsat2008 = ee.Image('LANDSAT/LE7_TOA_5YEAR/2008_2012')\n",
        "\n",
        "# Compute NDVI the hard way.\n",
        "ndvi1999 = landsat1999.select('B4')\\\n",
        "                      .subtract(landsat1999.select('B3'))\\\n",
        "                      .divide(landsat1999.select('B4').add(landsat1999.select('B3')))\n",
        "\n",
        "# Compute NDVI the easy way.\n",
        "ndvi2008 = landsat2008.normalizedDifference(['B4', 'B3'])\n",
        "\n",
        "#Vizualization\n",
        "ndwiViz = {'min': 0, 'max': 1, 'palette': ['FF0000', '00FF00']}\n",
        "Peru = ee.Geometry.Rectangle(-85, -20, -65,0) \n",
        "\n",
        "img1 = display_image(ndvi1999.clip(Peru).getThumbUrl(ndwiViz),'NDVI PERU 1999')\n",
        "img2 = display_image(ndvi2008.clip(Peru).getThumbUrl(ndwiViz),'NDVI PERU 2008')\n",
        "display(img1, img2)"
      ],
      "execution_count": 0,
      "outputs": [
        {
          "output_type": "display_data",
          "data": {
            "text/html": [
              "<center> <h1>NDVI PERU 1999</h1> <img title='NDVI PERU 1999' src= 'https://earthengine.googleapis.com/api/thumb?thumbid=23aa718c465a3ac72ea66bc3024670c9&token=d5d48aa429a88e378f091502d7272a3e'></center>"
            ],
            "text/plain": [
              "<IPython.core.display.HTML object>"
            ]
          },
          "metadata": {
            "tags": []
          }
        },
        {
          "output_type": "display_data",
          "data": {
            "text/html": [
              "<center> <h1>NDVI PERU 2008</h1> <img title='NDVI PERU 2008' src= 'https://earthengine.googleapis.com/api/thumb?thumbid=b2332191e2e5b715a0ac7cfa3501c93b&token=c9b956e12de397e30ecfcf07c9cfcaa6'></center>"
            ],
            "text/plain": [
              "<IPython.core.display.HTML object>"
            ]
          },
          "metadata": {
            "tags": []
          }
        }
      ]
    },
    {
      "cell_type": "markdown",
      "metadata": {
        "id": "DLjJaMMGF68U",
        "colab_type": "text"
      },
      "source": [
        "####  Expressions\n",
        "\n",
        "To implement more complex mathematical expressions, it may be more convenient to use **`image.expression()`**, which parses a text representation of a math operation. The following example uses **`expression()`** to compute the Enhanced Vegetation Index (EVI):"
      ]
    },
    {
      "cell_type": "code",
      "metadata": {
        "id": "LYxu202kFz85",
        "colab_type": "code",
        "outputId": "0a194e37-b2f7-435f-a8af-4abf069093a9",
        "colab": {
          "base_uri": "https://localhost:8080/",
          "height": 589
        }
      },
      "source": [
        "# Load a Landsat 8 image.\n",
        "image = ee.Image('LANDSAT/LC08/C01/T1_TOA/LC08_044034_20140318')\n",
        "\n",
        "# Compute the EVI using an expression.\n",
        "evi = image.expression(\n",
        "      '2.5 * ((NIR - RED) / (NIR + 6 * RED - 7.5 * BLUE + 1))', {\n",
        "      'NIR': image.select('B5'),\n",
        "      'RED': image.select('B4'),\n",
        "      'BLUE': image.select('B2')})\n",
        "\n",
        "Eviviz = {'min': 0, 'max': 1, 'palette': ['FF0000', '00FF00']}\n",
        "\n",
        "display_image(ndvi1999.clip(Peru).getThumbUrl(Eviviz),'EVI 1999')"
      ],
      "execution_count": 0,
      "outputs": [
        {
          "output_type": "execute_result",
          "data": {
            "text/html": [
              "<center> <h1>EVI 1999</h1> <img title='EVI 1999' src= 'https://earthengine.googleapis.com/api/thumb?thumbid=23aa718c465a3ac72ea66bc3024670c9&token=74178d2a527e115d23839a66396e1366'></center>"
            ],
            "text/plain": [
              "<IPython.core.display.HTML object>"
            ]
          },
          "metadata": {
            "tags": []
          },
          "execution_count": 188
        }
      ]
    },
    {
      "cell_type": "markdown",
      "metadata": {
        "id": "3MgoiRlGTtWG",
        "colab_type": "text"
      },
      "source": [
        "Observe that the first argument to expression is the textual representation of the math operation, the second argument is a dictionary where the keys are variable names used in the expression and the values are the image bands to which the variables should be mapped. Bands in the image may be referred to as `b(\"band name\")` or `b(index)`, for example `b(0)`, instead of providing the dictionary. Note that division functions as it does in Python: dividing two integers results in an integer. For example `10 / 20 = 0`. To change this behavior, multiply one of the operands by `1.0: 10 * 1.0 / 20 = 0.5`. Supported expression operators are listed in the following table.\n",
        "\n",
        " _ | _ | Operators for expression()\n",
        "--------------|-------------|-------------\n",
        "Arithmetic\t|+ - * / % **\t|Add, Subtract, Multiply, Divide, Modulus, Exponent\n",
        "Comparison\t| == != < > <= >= |\tEqual, Not Equal, Less Than, Greater than, etc.\n",
        "Logical |\t&& \\|\\| ! ^\t| And, Or, Not, Xor\n",
        "Ternary\t| ? :\t| If then else"
      ]
    },
    {
      "cell_type": "markdown",
      "metadata": {
        "id": "wIbMDpm6g1Zs",
        "colab_type": "text"
      },
      "source": [
        "### 9. Image Collection Overview\n",
        "\n",
        "An `ImageCollection` is a **stack or time series of images**. In addition to loading an `ImageCollection` using an Earth Engine collection ID, Earth Engine has methods to create image collections. The constructor `ee.ImageCollection()` or the convenience method `ee.ImageCollection.fromImages()` create image collections from lists of images. You can also create new image collections by merging existing collections. For example:\n",
        "\n"
      ]
    },
    {
      "cell_type": "code",
      "metadata": {
        "id": "vZG34oSqhH4M",
        "colab_type": "code",
        "colab": {}
      },
      "source": [
        "# Create arbitrary constant images.\n",
        "constant1 = ee.Image(1)\n",
        "constant2 = ee.Image(2)\n",
        "\n",
        "# Create a collection by giving a list to the constructor.\n",
        "collectionFromConstructor = ee.ImageCollection([constant1, constant2])\n",
        "print('collectionFromConstructor: ')\n",
        "collectionFromConstructor.getInfo()"
      ],
      "execution_count": 0,
      "outputs": []
    },
    {
      "cell_type": "code",
      "metadata": {
        "id": "REqiD2lyhdmg",
        "colab_type": "code",
        "colab": {}
      },
      "source": [
        "# Create a collection with fromImages().\n",
        "collectionFromImages = ee.ImageCollection.fromImages([ee.Image(3), ee.Image(4)])\n",
        "print('collectionFromImages: ')\n",
        "collectionFromImages.getInfo()"
      ],
      "execution_count": 0,
      "outputs": []
    },
    {
      "cell_type": "code",
      "metadata": {
        "id": "1SHVQ5yWhjBp",
        "colab_type": "code",
        "colab": {}
      },
      "source": [
        "# Merge two collections.\n",
        "mergedCollection = collectionFromConstructor.merge(collectionFromImages)\n",
        "print('mergedCollection: ')\n",
        "mergedCollection.getInfo()"
      ],
      "execution_count": 0,
      "outputs": []
    },
    {
      "cell_type": "code",
      "metadata": {
        "id": "1yMKhTMDhqKC",
        "colab_type": "code",
        "colab": {}
      },
      "source": [
        "# Create a toy FeatureCollection\n",
        "features = ee.FeatureCollection(\n",
        "  [ee.Feature(None, {'foo': 1}), ee.Feature(None, {'foo': 2})])\n",
        "\n",
        "# Create an ImageCollection from the FeatureCollection\n",
        "# by mapping a function over the FeatureCollection.\n",
        "images = features.map(lambda feature:ee.Image(ee.Number(feature.get('foo'))))\n",
        "\n",
        "# Print the resultant collection.\n",
        "print('Image collection: ')\n",
        "images.getInfo()"
      ],
      "execution_count": 0,
      "outputs": []
    },
    {
      "cell_type": "markdown",
      "metadata": {
        "id": "Oc_4qa6riJgM",
        "colab_type": "text"
      },
      "source": [
        "Note that in this example an `ImageCollection` is created by mapping a function that returns an `Image` over a `FeatureCollection`. Learn more about mapping in the [Mapping over an ImageCollection section](https://developers.google.com/earth-engine/ic_mapping). Learn more about feature collections from the [FeatureCollection section](https://developers.google.com/earth-engine/feature_collections)."
      ]
    },
    {
      "cell_type": "markdown",
      "metadata": {
        "id": "AVp6O8xbimeF",
        "colab_type": "text"
      },
      "source": [
        "### 10 . ImageCollection Information and Metadata\n",
        "\n",
        "As with Images, there are a variety of ways to get information about an ImageCollection. The collection can be printed directly to the console, but the console printout is **limited to 5000 elements**. Collections larger than 5000 images will need to be filtered before printing. Printing a large collection will be correspondingly slower. The following example shows various ways of getting information about image collections programmatically."
      ]
    },
    {
      "cell_type": "code",
      "metadata": {
        "id": "qN8-wM01jWi-",
        "colab_type": "code",
        "colab": {}
      },
      "source": [
        "# Load a Landsat 8 ImageCollection for a single path-row.\n",
        "collection = ee.ImageCollection('LANDSAT/LC08/C01/T1_TOA')\\\n",
        "               .filter(ee.Filter.eq('WRS_PATH', 44))\\\n",
        "               .filter(ee.Filter.eq('WRS_ROW', 34))\\\n",
        "               .filterDate('2014-03-01', '2014-08-01')\n",
        "print('Collection: ')\n",
        "collection.getInfo()"
      ],
      "execution_count": 0,
      "outputs": []
    },
    {
      "cell_type": "code",
      "metadata": {
        "id": "la4qQ-PSjrUc",
        "colab_type": "code",
        "colab": {}
      },
      "source": [
        "# Get the number of images.\n",
        "count = collection.size()\n",
        "print('Count: ', count.getInfo())"
      ],
      "execution_count": 0,
      "outputs": []
    },
    {
      "cell_type": "code",
      "metadata": {
        "id": "j_25PV4lj-RT",
        "colab_type": "code",
        "colab": {}
      },
      "source": [
        "# Get the date range of images in the collection.\n",
        "rango = collection.reduceColumns(ee.Reducer.minMax(), [\"system:time_start\"])\n",
        "\n",
        "# Passing numeric date to standard\n",
        "init_date = ee.Date(rango.get('min')).getInfo()['value']/1000.\n",
        "init_date_f = dt.utcfromtimestamp(init_date).strftime('%Y-%m-%d %H:%M:%S')\n",
        "\n",
        "last_date = ee.Date(rango.get('max')).getInfo()['value']/1000.\n",
        "last_date_f = dt.utcfromtimestamp(last_date).strftime('%Y-%m-%d %H:%M:%S')\n",
        "\n",
        "print('Date range: ',init_date_f,' - ',last_date_f)"
      ],
      "execution_count": 0,
      "outputs": []
    },
    {
      "cell_type": "code",
      "metadata": {
        "id": "Tko7hYJzkBWA",
        "colab_type": "code",
        "colab": {}
      },
      "source": [
        "# Get statistics for a property of the images in the collection.\n",
        "sunStats = collection.aggregate_stats('SUN_ELEVATION')\n",
        "print('Sun elevation statistics: ')\n",
        "sunStats.getInfo()"
      ],
      "execution_count": 0,
      "outputs": []
    },
    {
      "cell_type": "code",
      "metadata": {
        "id": "FOFnq68alXic",
        "colab_type": "code",
        "colab": {}
      },
      "source": [
        "# Sort by a cloud cover property, get the least cloudy image.\n",
        "image = ee.Image(collection.sort('CLOUD_COVER').first())\n",
        "print('Least cloudy image: ', )\n",
        "image.getInfo()"
      ],
      "execution_count": 0,
      "outputs": []
    },
    {
      "cell_type": "code",
      "metadata": {
        "id": "7X-a2xAnljST",
        "colab_type": "code",
        "colab": {}
      },
      "source": [
        "# Limit the collection to the 10 most recent images.\n",
        "recent = collection.sort('system:time_start', False).limit(10)\n",
        "print('Recent images: ')\n",
        "recent.getInfo()"
      ],
      "execution_count": 0,
      "outputs": []
    },
    {
      "cell_type": "markdown",
      "metadata": {
        "id": "tek4K0tGwMRX",
        "colab_type": "text"
      },
      "source": [
        "<!--NAVIGATION-->\n",
        " < [Data structures in GEE](1.2_DataStructures.ipynb) | [Contents](index.ipynb) |  [Feature & FeatureCollections](1.4_Features.ipynb)>\n",
        "\n",
        "<a href=\"https://colab.research.google.com/github/csaybar/EEwPython/blob/master/1.3_Images.ipynb\"><img align=\"left\" src=\"https://colab.research.google.com/assets/colab-badge.svg\" alt=\"Open in Colab\" title=\"Open and Execute in Google Colaboratory\"></a>"
      ]
    }
  ]
}