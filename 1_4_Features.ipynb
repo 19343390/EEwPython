{
  "nbformat": 4,
  "nbformat_minor": 0,
  "metadata": {
    "colab": {
      "name": "1.4_Features.ipynb",
      "version": "0.3.2",
      "provenance": [],
      "collapsed_sections": [],
      "toc_visible": true,
      "include_colab_link": true
    },
    "kernelspec": {
      "name": "python3",
      "display_name": "Python 3"
    },
    "accelerator": "GPU"
  },
  "cells": [
    {
      "cell_type": "markdown",
      "metadata": {
        "id": "view-in-github",
        "colab_type": "text"
      },
      "source": [
        "<a href=\"https://colab.research.google.com/github/csaybar/EEwPython/blob/master/1_4_Features.ipynb\" target=\"_parent\"><img src=\"https://colab.research.google.com/assets/colab-badge.svg\" alt=\"Open In Colab\"/></a>"
      ]
    },
    {
      "cell_type": "markdown",
      "metadata": {
        "id": "_rUp3DC76g8u",
        "colab_type": "text"
      },
      "source": [
        "<!--COURSE_INFORMATION-->\n",
        "<img align=\"left\" style=\"padding-right:10px;\" src=\"https://sitejerk.com/images/google-earth-logo-png-5.png\" width=5% >\n",
        "<img align=\"right\" style=\"padding-left:10px;\" src=\"https://colab.research.google.com/img/colab_favicon_256px.png\" width=6% >\n",
        "\n",
        "\n",
        ">> *This notebook is part from the free course [EEwPython](https://github.com/csaybar/EEwPython); the content is available [on GitHub](https://github.com/csaybar/EEwPython)* and released under the [Apache 2.0 License](https://www.gnu.org/licenses/gpl-3.0.en.html).\n",
        "\n"
      ]
    },
    {
      "cell_type": "markdown",
      "metadata": {
        "id": "LYYXOzevUbX1",
        "colab_type": "text"
      },
      "source": [
        "<!--NAVIGATION-->\n",
        " < [Image & ImageCollection](1.3_Images.ipynb) | [Contents](index.ipynb) |  [Conditional statements](1.5_Cond_Statements.ipynb)>\n",
        "\n",
        "<a href=\"https://colab.research.google.com/github/csaybar/EEwPython/blob/master/1.4_Features.ipynb\"><img align=\"left\" src=\"https://colab.research.google.com/assets/colab-badge.svg\" alt=\"Open in Colab\" title=\"Open and Execute in Google Colaboratory\"></a>"
      ]
    },
    {
      "cell_type": "code",
      "metadata": {
        "id": "JLw0KlKhrnJJ",
        "colab_type": "code",
        "cellView": "form",
        "outputId": "49f49232-f21e-482c-9d62-120816576521",
        "colab": {
          "base_uri": "https://localhost:8080/",
          "height": 335
        }
      },
      "source": [
        "#@title # Geometry, Features & FeaturesCollection\n",
        "from IPython.display import HTML\n",
        "HTML('<center><iframe width=\"560\" height=\"315\" src=\"https://www.youtube.com/embed/LzxQH0Ze0iI\" frameborder=\"0\" allow=\"accelerometer; autoplay; encrypted-media; gyroscope; picture-in-picture\" allowfullscreen></iframe></center>')"
      ],
      "execution_count": 0,
      "outputs": [
        {
          "output_type": "execute_result",
          "data": {
            "text/html": [
              "<center><iframe width=\"560\" height=\"315\" src=\"https://www.youtube.com/embed/LzxQH0Ze0iI\" frameborder=\"0\" allow=\"accelerometer; autoplay; encrypted-media; gyroscope; picture-in-picture\" allowfullscreen></iframe></center>"
            ],
            "text/plain": [
              "<IPython.core.display.HTML object>"
            ]
          },
          "metadata": {
            "tags": []
          },
          "execution_count": 1
        }
      ]
    },
    {
      "cell_type": "code",
      "metadata": {
        "id": "6rHacn9mskla",
        "colab_type": "code",
        "cellView": "form",
        "colab": {}
      },
      "source": [
        "#@title Function to visualize thumbnail URL\n",
        "from IPython.display import Image\n",
        "from IPython.display import HTML\n",
        "\n",
        "def display_image(url,title=\"\",CSS_row=False):\n",
        "  img_link = \"<center> <h1>%s</h1> <img title='%s' src= '%s'></center>\" % (title,title,url)\n",
        "  return HTML(img_link)"
      ],
      "execution_count": 0,
      "outputs": []
    },
    {
      "cell_type": "markdown",
      "metadata": {
        "id": "u789tt7jtFcI",
        "colab_type": "text"
      },
      "source": [
        "### Connecting GEE, Colab and Google Drive"
      ]
    },
    {
      "cell_type": "markdown",
      "metadata": {
        "id": "p2d64Hzi8NNT",
        "colab_type": "text"
      },
      "source": [
        "- **Colab & Google Drive synchronization**"
      ]
    },
    {
      "cell_type": "code",
      "metadata": {
        "id": "vS2vm3h5-jbz",
        "colab_type": "code",
        "colab": {}
      },
      "source": [
        "#from google.colab import drive\n",
        "#drive.mount('/content/drive')"
      ],
      "execution_count": 0,
      "outputs": []
    },
    {
      "cell_type": "markdown",
      "metadata": {
        "id": "0UH2asC7CB1N",
        "colab_type": "text"
      },
      "source": [
        "- **Colab & Earth Engine synchronization**"
      ]
    },
    {
      "cell_type": "code",
      "metadata": {
        "id": "ZGbB_ztw-jwR",
        "colab_type": "code",
        "colab": {}
      },
      "source": [
        "!pip install earthengine-api #Firstly we need the earth-engine API"
      ],
      "execution_count": 0,
      "outputs": []
    },
    {
      "cell_type": "code",
      "metadata": {
        "id": "B3ed9DzvCPEU",
        "colab_type": "code",
        "colab": {}
      },
      "source": [
        "!earthengine authenticate "
      ],
      "execution_count": 0,
      "outputs": []
    },
    {
      "cell_type": "code",
      "metadata": {
        "id": "-fHzvUqJCW9k",
        "colab_type": "code",
        "colab": {}
      },
      "source": [
        "import ee\n",
        "ee.Initialize()"
      ],
      "execution_count": 0,
      "outputs": []
    },
    {
      "cell_type": "markdown",
      "metadata": {
        "id": "RuPQiiWnlok8",
        "colab_type": "text"
      },
      "source": [
        "### 1.  Geometry overview\n",
        "\n",
        "Earth Engine handles vector data with the `Geometry` type. The [GeoJSON spec](https://geojson.org/geojson-spec.html) describes in detail the type of geometries supported by Earth Engine, including `Point` (a list of coordinates in some projection), `LineString` (a list of points), `LinearRing` (a closed `LineString`), and `Polygon` (a list of `LinearRings` where the first is a shell and subsequent rings are holes). Earth Engine also supports `MultiPoint`, `MultiLineString`, and `MultiPolygon`. The GeoJSON GeometryCollection is also supported, although it has the name `MultiGeometry` within Earth Engine.\n",
        "\n",
        "\n",
        "#### Creating Geometry objects\n",
        " To create a Geometry programmatically, provide the constructor with the proper list(s) of coordinates. For example:"
      ]
    },
    {
      "cell_type": "code",
      "metadata": {
        "id": "BKm3W-m6mDcX",
        "colab_type": "code",
        "colab": {}
      },
      "source": [
        "point = ee.Geometry.Point([1.5, 1.5])\n",
        "lineString = ee.Geometry.LineString([[-35, -10], [35, -10], [35, 10], [-35, 10]])\n",
        "linearRing = ee.Geometry.LinearRing([[-35, -10], [35, -10], [35, 10], [-35, 10], [-35, -10]])\n",
        "rectangle = ee.Geometry.Rectangle([-40, -20, 40, 20])\n",
        "polygon = ee.Geometry.Polygon([[[-5, 40], [65, 40], [65, 60], [-5, 60], [-5, 60]]])"
      ],
      "execution_count": 0,
      "outputs": []
    },
    {
      "cell_type": "markdown",
      "metadata": {
        "id": "-Vxmy0Zpq1Q5",
        "colab_type": "text"
      },
      "source": [
        "In the previous examples, note that the distinction between a `LineString` and a `LinearRing` is that the `LinearRing` is “closed” by having the same coordinate at both the start and end of the list.\n",
        "\n",
        "An individual `Geometry` may consist of multiple geometries. To break a multi-part `Geometry` into its constituent geometries, use `geometry.geometries()`. For example:"
      ]
    },
    {
      "cell_type": "code",
      "metadata": {
        "id": "GI2C6jm6q0wR",
        "colab_type": "code",
        "colab": {}
      },
      "source": [
        "# Create a multi-part feature.\n",
        "multiPoint = ee.Geometry.MultiPoint([[-121.68, 39.91], [-97.38, 40.34]])\n",
        "\n",
        "# Get the individual geometries as a list.\n",
        "geometries = multiPoint.geometries()\n",
        "\n",
        "# Get each individual geometry from the list and print it.\n",
        "pt1 = geometries.get(0)\n",
        "pt2 = geometries.get(1)\n",
        "print('Point 1', pt1)\n",
        "print('Point 2', pt2)     "
      ],
      "execution_count": 0,
      "outputs": []
    },
    {
      "cell_type": "markdown",
      "metadata": {
        "id": "E5Hj0LwDrEmw",
        "colab_type": "text"
      },
      "source": [
        "#### Geometry information and metadata\n",
        "\n",
        "To view information about a geometry, print it. To access the information programmatically, Earth Engine provides several methods. For example, to get information about the polygon created previously, use:\n",
        "\n",
        "\n"
      ]
    },
    {
      "cell_type": "code",
      "metadata": {
        "id": "znJfxtpRrC9y",
        "colab_type": "code",
        "outputId": "95b0fb5c-edcd-439a-cd25-163f3b15dfdc",
        "colab": {
          "base_uri": "https://localhost:8080/",
          "height": 163
        }
      },
      "source": [
        "print('Polygon printout: ', polygon.getInfo())\n",
        "\n",
        "# Print polygon area in square kilometers.\n",
        "print('Polygon area: ', polygon.area().divide(1000 * 1000).getInfo())\n",
        "\n",
        "# Print polygon perimeter length in kilometers.\n",
        "print('Polygon perimeter: ', polygon.perimeter().divide(1000).getInfo())\n",
        "\n",
        "# Print the geometry as a GeoJSON string.\n",
        "print('Polygon GeoJSON: ', polygon.toGeoJSONString())\n",
        "\n",
        "# Print the GeoJSON 'type'\n",
        "print('Geometry type: ', polygon.type().getInfo())\n",
        "\n",
        "# Print the coordinates as lists\n",
        "print('Polygon coordinates: ', polygon.coordinates().getInfo())\n",
        "\n",
        "# Print whether the geometry is geodesic.\n",
        "print('Geodesic? ', polygon.geodesic().getInfo())      "
      ],
      "execution_count": 0,
      "outputs": [
        {
          "output_type": "stream",
          "text": [
            "Polygon printout:  {'type': 'Polygon', 'coordinates': [[[-5.0, 40.0], [65.0, 40.0], [65.0, 60.0], [-5.0, 60.0], [-5.0, 60.0], [-5.0, 40.0]]]}\n",
            "Polygon area:  9918985.748240016\n",
            "Polygon perimeter:  13979.88727044261\n",
            "Polygon GeoJSON:  {\"type\": \"Polygon\", \"coordinates\": [[[-5, 40], [65, 40], [65, 60], [-5, 60], [-5, 60]]], \"evenOdd\": true}\n",
            "Geometry type:  Polygon\n",
            "Polygon coordinates:  [[[-5.0, 40.0], [65.0, 40.0], [65.0, 60.0], [-5.0, 60.0], [-5.0, 60.0], [-5.0, 40.0]]]\n",
            "Geodesic?  True\n"
          ],
          "name": "stdout"
        }
      ]
    },
    {
      "cell_type": "markdown",
      "metadata": {
        "id": "eM4Z8KRnrdkJ",
        "colab_type": "text"
      },
      "source": [
        "Observe that the perimeter (or length) of a geometry is returned in meters and the area is returned in square meters unless a projection is specified. By default, the computation is performed on the WGS84 spheroid and the result is computed in meters or square meters."
      ]
    },
    {
      "cell_type": "markdown",
      "metadata": {
        "id": "-_5S4eSqrk-K",
        "colab_type": "text"
      },
      "source": [
        "### 2. Feature Overview\n",
        "\n",
        "A `Feature` in Earth Engine is defined as a GeoJSON `Feature`. Specifically, a `Feature` is an object with a geometry property storing a `Geometry` object (or null) and a `properties` property storing a dictionary of other properties."
      ]
    },
    {
      "cell_type": "markdown",
      "metadata": {
        "id": "K6efx1Ymr8ci",
        "colab_type": "text"
      },
      "source": [
        "#### Creating Feature objects\n",
        "To create a `Feature`, provide the constructor with a `Geometry` and (optionally) a dictionary of other properties. For example:"
      ]
    },
    {
      "cell_type": "code",
      "metadata": {
        "id": "lG-XG586rfrN",
        "colab_type": "code",
        "colab": {}
      },
      "source": [
        "# Create an ee.Geometry.\n",
        "polygon = ee.Geometry.Polygon([[[-35, -10], [35, -10], [35, 10], [-35, 10], [-35, -10]]])\n",
        "\n",
        "# Create a Feature from the Geometry.\n",
        "polyFeature = ee.Feature(polygon, {'foo': 42, 'bar': 'tart'})"
      ],
      "execution_count": 0,
      "outputs": []
    },
    {
      "cell_type": "markdown",
      "metadata": {
        "id": "qCSB8hzAsQdr",
        "colab_type": "text"
      },
      "source": [
        "As with a `Geometry`, a `Feature` may be printed or added to the map for inspection and visualization:\n",
        "\n"
      ]
    },
    {
      "cell_type": "code",
      "metadata": {
        "id": "qGBhEPHisOLl",
        "colab_type": "code",
        "outputId": "811971ef-bbe9-449d-a365-1e91ae1998e6",
        "colab": {
          "base_uri": "https://localhost:8080/",
          "height": 161
        }
      },
      "source": [
        "polyFeature.getInfo()"
      ],
      "execution_count": 0,
      "outputs": [
        {
          "output_type": "execute_result",
          "data": {
            "text/plain": [
              "{'geometry': {'coordinates': [[[-35.0, -10.0],\n",
              "    [35.0, -10.0],\n",
              "    [35.0, 10.0],\n",
              "    [-35.0, 10.0],\n",
              "    [-35.0, -10.0]]],\n",
              "  'type': 'Polygon'},\n",
              " 'properties': {'bar': 'tart', 'foo': 42},\n",
              " 'type': 'Feature'}"
            ]
          },
          "metadata": {
            "tags": []
          },
          "execution_count": 13
        }
      ]
    },
    {
      "cell_type": "markdown",
      "metadata": {
        "id": "p7I5BeQSsilK",
        "colab_type": "text"
      },
      "source": [
        "A `Feature` need not have a Geometry and may simply wrap a dictionary of properties. For example:\n",
        "\n"
      ]
    },
    {
      "cell_type": "code",
      "metadata": {
        "id": "rZEQrst7saYW",
        "colab_type": "code",
        "colab": {}
      },
      "source": [
        "# Create a dictionary of properties, some of which may be computed values.\n",
        "dict = {'foo': ee.Number(8).add(88), 'bar': 'nihao'}\n",
        "\n",
        "# Create a null geometry feature with the dictionary of properties.\n",
        "nowhereFeature = ee.Feature(None, dict)"
      ],
      "execution_count": 0,
      "outputs": []
    },
    {
      "cell_type": "markdown",
      "metadata": {
        "id": "kPc_YRFRst8T",
        "colab_type": "text"
      },
      "source": [
        "In this example, note that the dictionary supplied to the `Feature` contains a computed value. Creating features in this manner is useful for exporting long-running computations with a `Dictionary` result (e.g. `image.reduceRegion()`). See the [FeatureCollections](https://developers.google.com/earth-engine/feature_collections) and [Importing](https://developers.google.com/earth-engine/importing) or [Exporting](https://developers.google.com/earth-engine/exporting) sections for details.\n",
        "\n",
        "Each `Feature` has one primary `Geometry` stored in the `geometry` property. Additional geometries may be stored in other properties. `Geometry` methods such as intersection and buffer also exist on `Feature` as a convenience for getting the primary `Geometry`, applying the operation, and setting the result as the new primary `Geometry`. The result will retain all the other properties of the `Feature` on which the method is called. There are also methods for getting and setting the non-geometry properties of the `Feature`. For example:"
      ]
    },
    {
      "cell_type": "code",
      "metadata": {
        "id": "hGtvf6MzsrDC",
        "colab_type": "code",
        "outputId": "274d0384-c0a3-47ff-e380-b4f23e7351ea",
        "colab": {
          "base_uri": "https://localhost:8080/",
          "height": 73
        }
      },
      "source": [
        "# Make a feature and set some properties.\n",
        "feature = ee.Feature(ee.Geometry.Point([-122.22599, 37.17605]))\\\n",
        "            .set('genus', 'Sequoia').set('species', 'sempervirens')\n",
        "\n",
        "# Get a property from the feature.\n",
        "species = feature.get('species')\n",
        "print(species.getInfo())\n",
        "\n",
        "# Set a new property.\n",
        "feature = feature.set('presence', 1)\n",
        "\n",
        "# Overwrite the old properties with a new dictionary.\n",
        "newDict = {'genus': 'Brachyramphus', 'species': 'marmoratus'}\n",
        "feature = feature.set(newDict)\n",
        "\n",
        "# Check the result.\n",
        "print(feature.getInfo())"
      ],
      "execution_count": 0,
      "outputs": [
        {
          "output_type": "stream",
          "text": [
            "sempervirens\n",
            "{'type': 'Feature', 'geometry': {'type': 'Point', 'coordinates': [-122.22599, 37.17605]}, 'properties': {'genus': 'Brachyramphus', 'presence': 1, 'species': 'marmoratus'}}\n"
          ],
          "name": "stdout"
        }
      ]
    },
    {
      "cell_type": "markdown",
      "metadata": {
        "id": "wiRDSVb2tmyk",
        "colab_type": "text"
      },
      "source": [
        "In the previous example, note that properties can be set with either a key: value pair, or with a dictionary as a JavaScript literal. Also note that `feature.set()` overwrites existing properties."
      ]
    },
    {
      "cell_type": "markdown",
      "metadata": {
        "id": "0sSslnFUt70j",
        "colab_type": "text"
      },
      "source": [
        "### 3. FeatureCollection Overview\n",
        "\n",
        "Groups of related features can be combined into a `FeatureCollection`, to enable additional operations on the entire set such as filtering, sorting and rendering. Besides just simple features (geometry + properties), feature collections can also contain other collections.\n",
        "\n",
        "#### The FeatureCollection constructor\n",
        "\n",
        "One way to create a `FeatureCollection` is to provide the constructor with a list of features. The features do not need to have the same geometry type or the same properties. For example:"
      ]
    },
    {
      "cell_type": "code",
      "metadata": {
        "id": "Ape7XO5jt9_H",
        "colab_type": "code",
        "outputId": "6ebad0b4-5f64-432c-c0b5-11ced037c0d7",
        "colab": {
          "base_uri": "https://localhost:8080/",
          "height": 359
        }
      },
      "source": [
        "# Make a list of Features.\n",
        "features = [\n",
        "  ee.Feature(ee.Geometry.Rectangle(30.01, 59.80, 30.59, 60.15), {'name': 'Voronoi'}),\n",
        "  ee.Feature(ee.Geometry.Point(-73.96, 40.781), {'name': 'Thiessen'}),\n",
        "  ee.Feature(ee.Geometry.Point(6.4806, 50.8012), {'name': 'Dirichlet'})\n",
        "]\n",
        "\n",
        "# Create a FeatureCollection from the list and print it.\n",
        "fromList = ee.FeatureCollection(features)\n",
        "fromList.getInfo()"
      ],
      "execution_count": 0,
      "outputs": [
        {
          "output_type": "execute_result",
          "data": {
            "text/plain": [
              "{'columns': {'name': 'String', 'system:index': 'String'},\n",
              " 'features': [{'geometry': {'coordinates': [[[30.01, 59.8],\n",
              "      [30.59, 59.8],\n",
              "      [30.59, 60.15],\n",
              "      [30.01, 60.15],\n",
              "      [30.01, 59.8]]],\n",
              "    'type': 'Polygon'},\n",
              "   'id': '0',\n",
              "   'properties': {'name': 'Voronoi'},\n",
              "   'type': 'Feature'},\n",
              "  {'geometry': {'coordinates': [-73.96, 40.781], 'type': 'Point'},\n",
              "   'id': '1',\n",
              "   'properties': {'name': 'Thiessen'},\n",
              "   'type': 'Feature'},\n",
              "  {'geometry': {'coordinates': [6.4806, 50.8012], 'type': 'Point'},\n",
              "   'id': '2',\n",
              "   'properties': {'name': 'Dirichlet'},\n",
              "   'type': 'Feature'}],\n",
              " 'type': 'FeatureCollection'}"
            ]
          },
          "metadata": {
            "tags": []
          },
          "execution_count": 21
        }
      ]
    },
    {
      "cell_type": "markdown",
      "metadata": {
        "id": "uMqzI8YUuUG0",
        "colab_type": "text"
      },
      "source": [
        "Individual geometries can also be turned into a `FeatureCollection` of just one Feature:\n",
        "\n"
      ]
    },
    {
      "cell_type": "code",
      "metadata": {
        "id": "WqKAU1jZuReU",
        "colab_type": "code",
        "outputId": "d9830172-d526-48d8-ec74-f2d115107258",
        "colab": {
          "base_uri": "https://localhost:8080/",
          "height": 125
        }
      },
      "source": [
        "# Create a FeatureCollection from a single geometry and print it.\n",
        "fromGeom = ee.FeatureCollection(ee.Geometry.Point(16.37, 48.225))\n",
        "fromGeom.getInfo()"
      ],
      "execution_count": 0,
      "outputs": [
        {
          "output_type": "execute_result",
          "data": {
            "text/plain": [
              "{'columns': {'system:index': 'String'},\n",
              " 'features': [{'geometry': {'coordinates': [16.37, 48.225], 'type': 'Point'},\n",
              "   'id': '0',\n",
              "   'properties': {},\n",
              "   'type': 'Feature'}],\n",
              " 'type': 'FeatureCollection'}"
            ]
          },
          "metadata": {
            "tags": []
          },
          "execution_count": 22
        }
      ]
    },
    {
      "cell_type": "markdown",
      "metadata": {
        "id": "CwlihjiaXQTs",
        "colab_type": "text"
      },
      "source": [
        "<!--NAVIGATION-->\n",
        " < [Image & ImageCollection](1.3_Images.ipynb) | [Contents](index.ipynb) |  [Conditional statements](1.5_Cond_Statements.ipynb)>\n",
        "\n",
        "<a href=\"https://colab.research.google.com/github/csaybar/EEwPython/blob/master/1.4_Features.ipynb\"><img align=\"left\" src=\"https://colab.research.google.com/assets/colab-badge.svg\" alt=\"Open in Colab\" title=\"Open and Execute in Google Colaboratory\"></a>"
      ]
    }
  ]
}