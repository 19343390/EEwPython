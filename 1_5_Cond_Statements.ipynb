{
  "nbformat": 4,
  "nbformat_minor": 0,
  "metadata": {
    "colab": {
      "name": "1.5_Cond_Statements.ipynb",
      "version": "0.3.2",
      "provenance": [],
      "collapsed_sections": [],
      "toc_visible": true,
      "include_colab_link": true
    },
    "kernelspec": {
      "name": "python3",
      "display_name": "Python 3"
    },
    "accelerator": "GPU"
  },
  "cells": [
    {
      "cell_type": "markdown",
      "metadata": {
        "id": "view-in-github",
        "colab_type": "text"
      },
      "source": [
        "<a href=\"https://colab.research.google.com/github/csaybar/EEwPython/blob/master/1_5_Cond_Statements.ipynb\" target=\"_parent\"><img src=\"https://colab.research.google.com/assets/colab-badge.svg\" alt=\"Open In Colab\"/></a>"
      ]
    },
    {
      "cell_type": "markdown",
      "metadata": {
        "id": "_rUp3DC76g8u",
        "colab_type": "text"
      },
      "source": [
        "<!--COURSE_INFORMATION-->\n",
        "<img align=\"left\" style=\"padding-right:10px;\" src=\"https://sitejerk.com/images/google-earth-logo-png-5.png\" width=5% >\n",
        "<img align=\"right\" style=\"padding-left:10px;\" src=\"https://colab.research.google.com/img/colab_favicon_256px.png\" width=6% >\n",
        "\n",
        "\n",
        ">> *This notebook is part from the free course [EEwPython](https://github.com/csaybar/EEwPython); the content is available [on GitHub](https://github.com/csaybar/EEwPython)* and released under the [Apache 2.0 License](https://www.gnu.org/licenses/gpl-3.0.en.html).\n",
        "\n"
      ]
    },
    {
      "cell_type": "markdown",
      "metadata": {
        "id": "-N6YfkO8XsLP",
        "colab_type": "text"
      },
      "source": [
        "<!--NAVIGATION-->\n",
        " < [Feature & FeatureCollection](1.4_Features.ipynb) | [Contents](index.ipynb) |  [Map and filter](1.6_Map_filter.ipynb)>\n",
        "\n",
        "<a href=\"https://colab.research.google.com/github/csaybar/EEwPython/blob/master/1.5_Cond_Statements.ipynb\"><img align=\"left\" src=\"https://colab.research.google.com/assets/colab-badge.svg\" alt=\"Open in Colab\" title=\"Open and Execute in Google Colaboratory\"></a>"
      ]
    },
    {
      "cell_type": "code",
      "metadata": {
        "id": "JLw0KlKhrnJJ",
        "colab_type": "code",
        "cellView": "form",
        "outputId": "3fe6c479-5f4e-4562-c854-f8ab305fc998",
        "colab": {
          "base_uri": "https://localhost:8080/",
          "height": 335
        }
      },
      "source": [
        "#@title # Conditional Statements\n",
        "from IPython.display import HTML\n",
        "HTML('<center><iframe width=\"560\" height=\"315\" src=\"https://www.youtube.com/embed/LzxQH0Ze0iI\" frameborder=\"0\" allow=\"accelerometer; autoplay; encrypted-media; gyroscope; picture-in-picture\" allowfullscreen></iframe></center>')"
      ],
      "execution_count": 0,
      "outputs": [
        {
          "output_type": "execute_result",
          "data": {
            "text/html": [
              "<center><iframe width=\"560\" height=\"315\" src=\"https://www.youtube.com/embed/LzxQH0Ze0iI\" frameborder=\"0\" allow=\"accelerometer; autoplay; encrypted-media; gyroscope; picture-in-picture\" allowfullscreen></iframe></center>"
            ],
            "text/plain": [
              "<IPython.core.display.HTML object>"
            ]
          },
          "metadata": {
            "tags": []
          },
          "execution_count": 1
        }
      ]
    },
    {
      "cell_type": "code",
      "metadata": {
        "id": "6rHacn9mskla",
        "colab_type": "code",
        "cellView": "form",
        "colab": {}
      },
      "source": [
        "#@title Function to visualize thumbnail URL\n",
        "from IPython.display import Image\n",
        "from IPython.display import HTML\n",
        "\n",
        "def display_image(url,title=\"\",CSS_row=False):\n",
        "  img_link = \"<center> <h1>%s</h1> <img title='%s' src= '%s'></center>\" % (title,title,url)\n",
        "  return HTML(img_link)"
      ],
      "execution_count": 0,
      "outputs": []
    },
    {
      "cell_type": "markdown",
      "metadata": {
        "id": "u789tt7jtFcI",
        "colab_type": "text"
      },
      "source": [
        "### Connecting GEE, Colab and Google Drive"
      ]
    },
    {
      "cell_type": "markdown",
      "metadata": {
        "id": "p2d64Hzi8NNT",
        "colab_type": "text"
      },
      "source": [
        "- **Colab & Google Drive synchronization**"
      ]
    },
    {
      "cell_type": "code",
      "metadata": {
        "id": "vS2vm3h5-jbz",
        "colab_type": "code",
        "colab": {}
      },
      "source": [
        "#from google.colab import drive\n",
        "#drive.mount('/content/drive')"
      ],
      "execution_count": 0,
      "outputs": []
    },
    {
      "cell_type": "markdown",
      "metadata": {
        "id": "0UH2asC7CB1N",
        "colab_type": "text"
      },
      "source": [
        "- **Colab & Earth Engine synchronization**"
      ]
    },
    {
      "cell_type": "code",
      "metadata": {
        "id": "ZGbB_ztw-jwR",
        "colab_type": "code",
        "colab": {}
      },
      "source": [
        "!pip install earthengine-api #Firstly we need the earth-engine API"
      ],
      "execution_count": 0,
      "outputs": []
    },
    {
      "cell_type": "code",
      "metadata": {
        "id": "B3ed9DzvCPEU",
        "colab_type": "code",
        "colab": {}
      },
      "source": [
        "!earthengine authenticate "
      ],
      "execution_count": 0,
      "outputs": []
    },
    {
      "cell_type": "code",
      "metadata": {
        "id": "-fHzvUqJCW9k",
        "colab_type": "code",
        "colab": {}
      },
      "source": [
        "import ee\n",
        "ee.Initialize()"
      ],
      "execution_count": 0,
      "outputs": []
    },
    {
      "cell_type": "markdown",
      "metadata": {
        "id": "tSXKbB-br7_q",
        "colab_type": "text"
      },
      "source": [
        "### Relational, conditional and Boolean operations\n",
        "\n",
        "To perform per-pixel comparisons between images, use relational operators. To extract urbanized areas in an image, this example uses relational operators to threshold spectral indices, combining the thresholds with `And()`:\n"
      ]
    },
    {
      "cell_type": "code",
      "metadata": {
        "id": "uutgWBT1r7XK",
        "colab_type": "code",
        "outputId": "01ee6e69-7b8f-467a-c851-3616d9d7bfb1",
        "colab": {
          "base_uri": "https://localhost:8080/",
          "height": 589
        }
      },
      "source": [
        "# Load a Landsat 8 image.\n",
        "image = ee.Image('LANDSAT/LC08/C01/T1_TOA/LC08_044034_20140318')\n",
        "\n",
        "# Create NDVI and NDWI spectral indices.\n",
        "ndvi = image.normalizedDifference(['B5', 'B4'])\n",
        "ndwi = image.normalizedDifference(['B3', 'B5'])\n",
        "\n",
        "# Create a binary layer using logical operations.\n",
        "bare = ndvi.lt(0.2).And(ndwi.lt(0))\n",
        "\n",
        "# Mask and display the binary layer.\n",
        "SF_area = ee.Geometry.Rectangle(-122.3578-0.1, 37.7726-0.1,-122.3578+0.1, 37.7726+0.1)\n",
        "\n",
        "display_image(bare.updateMask(bare).clip(SF_area).getThumbUrl(),'BARE AREA IN SF')"
      ],
      "execution_count": 0,
      "outputs": [
        {
          "output_type": "execute_result",
          "data": {
            "text/html": [
              "<center> <h1>BARE AREA IN SF</h1> <img title='BARE AREA IN SF' src= 'https://earthengine.googleapis.com/api/thumb?thumbid=3469b7a7a465297948ca45ebe5710932&token=68b73326ac97d3a966d555b38f49cb4f'></center>"
            ],
            "text/plain": [
              "<IPython.core.display.HTML object>"
            ]
          },
          "metadata": {
            "tags": []
          },
          "execution_count": 17
        }
      ]
    },
    {
      "cell_type": "markdown",
      "metadata": {
        "id": "i1DgyCWuuRkN",
        "colab_type": "text"
      },
      "source": [
        "The binary images that are returned by relational and boolean operators can be used with mathematical operators. This example creates zones of urbanization in a nighttime lights image using relational operators and `image.add()`:"
      ]
    },
    {
      "cell_type": "code",
      "metadata": {
        "id": "sIbdpjqgucMj",
        "colab_type": "code",
        "outputId": "aaa465d3-1479-4ba7-8057-482d7454d0d4",
        "colab": {
          "base_uri": "https://localhost:8080/",
          "height": 589
        }
      },
      "source": [
        "# Load a 2012 nightlights image.\n",
        "nl2012 = ee.Image('NOAA/DMSP-OLS/NIGHTTIME_LIGHTS/F182012')\n",
        "lights = nl2012.select('stable_lights')\n",
        "\n",
        "# Define arbitrary thresholds on the 6-bit stable lights band.\n",
        "zones = lights.gt(30).add(lights.gt(55)).add(lights.gt(62))\n",
        "\n",
        "# Display the thresholded image as three distinct zones near Paris.\n",
        "palette = ['000000', '0000FF', '00FF00', 'FF0000'];\n",
        "viz_params = {'min': 0, 'max': 3, 'palette': palette}\n",
        "\n",
        "crop_image = ee.Geometry.Rectangle([2.373-1, 48.8683-1,2.373+1, 48.8683+1])\n",
        "zonesx = zones.clip(crop_image)\n",
        "display_image(zonesx.getThumbURL(viz_params),'NIGHTTIME LIGHTS')"
      ],
      "execution_count": 0,
      "outputs": [
        {
          "output_type": "execute_result",
          "data": {
            "text/html": [
              "<center> <h1>NIGHTTIME LIGHTS</h1> <img title='NIGHTTIME LIGHTS' src= 'https://earthengine.googleapis.com/api/thumb?thumbid=cb05a67990e3a3111d152e82fbe0f7ef&token=b77b49d9cad75f1eca15dae6e2a1f496'></center>"
            ],
            "text/plain": [
              "<IPython.core.display.HTML object>"
            ]
          },
          "metadata": {
            "tags": []
          },
          "execution_count": 23
        }
      ]
    },
    {
      "cell_type": "markdown",
      "metadata": {
        "id": "67BzBnDzvVAn",
        "colab_type": "text"
      },
      "source": [
        "Note that the code in the previous example is equivalent to using a [**ternary operator**](https://en.wikipedia.org/wiki/%3F:) implemented by `expression()`:\n",
        "\n"
      ]
    },
    {
      "cell_type": "code",
      "metadata": {
        "id": "eIrFdHJyvhX0",
        "colab_type": "code",
        "outputId": "766264fa-71a7-420d-85fb-ab9403512d38",
        "colab": {
          "base_uri": "https://localhost:8080/",
          "height": 589
        }
      },
      "source": [
        "# Create zones using an expression, display.\n",
        "zonesExp = nl2012.expression(\n",
        "    \"(b('stable_lights') > 62) ? 3\" +\n",
        "      \": (b('stable_lights') > 55) ? 2\" +\n",
        "        \": (b('stable_lights') > 30) ? 1\" +\n",
        "          \": 0\"\n",
        ")\n",
        "\n",
        "\n",
        "# Display the thresholded image as three distinct zones near Paris.\n",
        "crop_image = ee.Geometry.Rectangle([2.373-1, 48.8683-1,2.373+1, 48.8683+1])\n",
        "zonesx2 = zonesExp.clip(crop_image)\n",
        "display_image(zonesx2.getThumbURL(viz_params),'NIGHTTIME LIGHTS')"
      ],
      "execution_count": 0,
      "outputs": [
        {
          "output_type": "execute_result",
          "data": {
            "text/html": [
              "<center> <h1>NIGHTTIME LIGHTS</h1> <img title='NIGHTTIME LIGHTS' src= 'https://earthengine.googleapis.com/api/thumb?thumbid=57d70ad6aa0e2b44e391a550b9f014a3&token=326ac59bda60c498d6b1e4197185d467'></center>"
            ],
            "text/plain": [
              "<IPython.core.display.HTML object>"
            ]
          },
          "metadata": {
            "tags": []
          },
          "execution_count": 25
        }
      ]
    },
    {
      "cell_type": "markdown",
      "metadata": {
        "id": "JroTcvdxxCqN",
        "colab_type": "text"
      },
      "source": [
        "Observe that in the previous expression example, the band of interest is referenced using the `b()` function, rather than a dictionary of variable names. (Learn more about image expressions on [this page](https://developers.google.com/earth-engine/image_math#expressions). Using either mathematical operators or an expression, the output is the same.\n",
        "\n"
      ]
    },
    {
      "cell_type": "markdown",
      "metadata": {
        "id": "PCI3VOf8YEVN",
        "colab_type": "text"
      },
      "source": [
        "<!--NAVIGATION-->\n",
        " < [Feature & FeatureCollection](1.4_Features.ipynb) | [Contents](index.ipynb) |  [Map and filter](1.6_Map_filter.ipynb)>\n",
        "\n",
        "<a href=\"https://colab.research.google.com/github/csaybar/EEwPython/blob/master/1.5_Cond_Statements.ipynb\"><img align=\"left\" src=\"https://colab.research.google.com/assets/colab-badge.svg\" alt=\"Open in Colab\" title=\"Open and Execute in Google Colaboratory\"></a>"
      ]
    }
  ]
}