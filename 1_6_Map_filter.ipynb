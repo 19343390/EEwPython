{
  "nbformat": 4,
  "nbformat_minor": 0,
  "metadata": {
    "colab": {
      "name": "1.6_Map_filter.ipynb",
      "version": "0.3.2",
      "provenance": [],
      "collapsed_sections": [],
      "toc_visible": true,
      "include_colab_link": true
    },
    "kernelspec": {
      "name": "python3",
      "display_name": "Python 3"
    },
    "accelerator": "GPU"
  },
  "cells": [
    {
      "cell_type": "markdown",
      "metadata": {
        "id": "view-in-github",
        "colab_type": "text"
      },
      "source": [
        "<a href=\"https://colab.research.google.com/github/csaybar/EEwPython/blob/master/1_6_Map_filter.ipynb\" target=\"_parent\"><img src=\"https://colab.research.google.com/assets/colab-badge.svg\" alt=\"Open In Colab\"/></a>"
      ]
    },
    {
      "cell_type": "markdown",
      "metadata": {
        "id": "_rUp3DC76g8u",
        "colab_type": "text"
      },
      "source": [
        "<!--COURSE_INFORMATION-->\n",
        "<img align=\"left\" style=\"padding-right:10px;\" src=\"https://sitejerk.com/images/google-earth-logo-png-5.png\" width=5% >\n",
        "<img align=\"right\" style=\"padding-left:10px;\" src=\"https://colab.research.google.com/img/colab_favicon_256px.png\" width=6% >\n",
        "\n",
        "\n",
        ">> *This notebook is part from the free course [EEwPython](https://github.com/csaybar/EEwPython); the content is available [on GitHub](https://github.com/csaybar/EEwPython)* and released under the [Apache 2.0 License](https://www.gnu.org/licenses/gpl-3.0.en.html)."
      ]
    },
    {
      "cell_type": "markdown",
      "metadata": {
        "id": "a4RvG76TYrCu",
        "colab_type": "text"
      },
      "source": [
        "<!--NAVIGATION-->\n",
        " < [Conditional statements](1.5_Cond_Statements.ipynb) | [Contents](index.ipynb) |  [Spatial Temporal Reducers](1.7_Reducers.ipynb)>\n",
        "\n",
        "<a href=\"https://colab.research.google.com/github/csaybar/EEwPython/blob/master/1.6_Map_filter.ipynb\"><img align=\"left\" src=\"https://colab.research.google.com/assets/colab-badge.svg\" alt=\"Open in Colab\" title=\"Open and Execute in Google Colaboratory\"></a>"
      ]
    },
    {
      "cell_type": "code",
      "metadata": {
        "id": "JLw0KlKhrnJJ",
        "colab_type": "code",
        "cellView": "form",
        "outputId": "862610a3-cbea-461c-d437-3ce5cc85afda",
        "colab": {
          "base_uri": "https://localhost:8080/",
          "height": 335
        }
      },
      "source": [
        "#@title # Filtering an Mapping over an ImageCollection\n",
        "\n",
        "from IPython.display import HTML\n",
        "HTML('<center><iframe width=\"560\" height=\"315\" src=\"https://www.youtube.com/embed/LzxQH0Ze0iI\" frameborder=\"0\" allow=\"accelerometer; autoplay; encrypted-media; gyroscope; picture-in-picture\" allowfullscreen></iframe></center>')"
      ],
      "execution_count": 0,
      "outputs": [
        {
          "output_type": "execute_result",
          "data": {
            "text/html": [
              "<center><iframe width=\"560\" height=\"315\" src=\"https://www.youtube.com/embed/LzxQH0Ze0iI\" frameborder=\"0\" allow=\"accelerometer; autoplay; encrypted-media; gyroscope; picture-in-picture\" allowfullscreen></iframe></center>"
            ],
            "text/plain": [
              "<IPython.core.display.HTML object>"
            ]
          },
          "metadata": {
            "tags": []
          },
          "execution_count": 30
        }
      ]
    },
    {
      "cell_type": "code",
      "metadata": {
        "id": "6rHacn9mskla",
        "colab_type": "code",
        "cellView": "form",
        "colab": {}
      },
      "source": [
        "#@title Function to visualize thumbnail URL\n",
        "from IPython.display import Image\n",
        "from IPython.display import HTML\n",
        "\n",
        "def display_image(url,title=\"\",CSS_row=False):\n",
        "  img_link = \"<center> <h1>%s</h1> <img title='%s' src= '%s'></center>\" % (title,title,url)\n",
        "  return HTML(img_link)"
      ],
      "execution_count": 0,
      "outputs": []
    },
    {
      "cell_type": "markdown",
      "metadata": {
        "id": "u789tt7jtFcI",
        "colab_type": "text"
      },
      "source": [
        "### Connecting GEE, Colab and Google Drive"
      ]
    },
    {
      "cell_type": "markdown",
      "metadata": {
        "id": "p2d64Hzi8NNT",
        "colab_type": "text"
      },
      "source": [
        "- **Colab & Google Drive synchronization**"
      ]
    },
    {
      "cell_type": "code",
      "metadata": {
        "id": "vS2vm3h5-jbz",
        "colab_type": "code",
        "colab": {}
      },
      "source": [
        "#from google.colab import drive\n",
        "#drive.mount('/content/drive')"
      ],
      "execution_count": 0,
      "outputs": []
    },
    {
      "cell_type": "markdown",
      "metadata": {
        "id": "0UH2asC7CB1N",
        "colab_type": "text"
      },
      "source": [
        "- **Colab & Earth Engine synchronization**"
      ]
    },
    {
      "cell_type": "code",
      "metadata": {
        "id": "ZGbB_ztw-jwR",
        "colab_type": "code",
        "colab": {}
      },
      "source": [
        "!pip install earthengine-api #Firstly we need the earth-engine API"
      ],
      "execution_count": 0,
      "outputs": []
    },
    {
      "cell_type": "code",
      "metadata": {
        "id": "B3ed9DzvCPEU",
        "colab_type": "code",
        "colab": {}
      },
      "source": [
        "!earthengine authenticate "
      ],
      "execution_count": 0,
      "outputs": []
    },
    {
      "cell_type": "code",
      "metadata": {
        "id": "-fHzvUqJCW9k",
        "colab_type": "code",
        "colab": {}
      },
      "source": [
        "import ee\n",
        "ee.Initialize()"
      ],
      "execution_count": 0,
      "outputs": []
    },
    {
      "cell_type": "markdown",
      "metadata": {
        "id": "tSXKbB-br7_q",
        "colab_type": "text"
      },
      "source": [
        "### 1. Filtering an ImageCollection\n",
        "\n",
        "\n",
        "Earth Engine provides a variety of convenience methods for filtering image collections. Specifically, many common use cases are handled by `imageCollection.filterDate()`, and `imageCollection.filterBounds()`. For general purpose filtering, use `imageCollection.filter()` with an `ee.Filter` as an argument. \n",
        "\n",
        "The following example demonstrates both convenience methods and `filter()` to identify and remove images with bad registration from an ImageCollection:"
      ]
    },
    {
      "cell_type": "code",
      "metadata": {
        "id": "du5eLjIN4ZO6",
        "colab_type": "code",
        "outputId": "2994edef-68ab-413b-f8d9-7de4753ad818",
        "colab": {
          "base_uri": "https://localhost:8080/",
          "height": 1161
        }
      },
      "source": [
        "# Load Landsat 5 data, filter by date and bounds.\n",
        "collection = ee.ImageCollection('LANDSAT/LT05/C01/T2')\\\n",
        "               .filterDate('1987-01-01', '1990-05-01')\\\n",
        "               .filterBounds(ee.Geometry.Point(25.8544, -18.08874))\n",
        "\n",
        "# Also filter the collection by the IMAGE_QUALITY property.\n",
        "filtered = collection.filterMetadata('IMAGE_QUALITY', 'equals', 9)\n",
        "\n",
        "# Create two composites to check the effect of filtering by IMAGE_QUALITY.\n",
        "badComposite = ee.Algorithms.Landsat.simpleComposite(collection, 75, 3)\n",
        "goodComposite = ee.Algorithms.Landsat.simpleComposite(filtered, 75, 3)\n",
        "\n",
        "# Display the composites.\n",
        "viz_params = {'bands': ['B3', 'B2', 'B1'], 'gain': 3.5}\n",
        "crop_image = ee.Geometry.Rectangle([25.8544-1, -18.08874-1,25.8544+1, -18.08874+1])\n",
        "\n",
        "img1 = display_image(badComposite.clip(crop_image).getThumbURL(viz_params),'Bad Composite')\n",
        "img2 = display_image(goodComposite.clip(crop_image).getThumbURL(viz_params),'Good Composite')\n",
        "\n",
        "display(img1,img2)"
      ],
      "execution_count": 0,
      "outputs": [
        {
          "output_type": "display_data",
          "data": {
            "text/html": [
              "<center> <h1>Bad Composite</h1> <img title='Bad Composite' src= 'https://earthengine.googleapis.com/api/thumb?thumbid=ad4888c90fcd89b0a8d41f44701be09b&token=5f675aacd902c6507e202413096c4e0a'></center>"
            ],
            "text/plain": [
              "<IPython.core.display.HTML object>"
            ]
          },
          "metadata": {
            "tags": []
          }
        },
        {
          "output_type": "display_data",
          "data": {
            "text/html": [
              "<center> <h1>Good Composite</h1> <img title='Good Composite' src= 'https://earthengine.googleapis.com/api/thumb?thumbid=9a2dd4c682cb811284ad09674823185d&token=a1a88a4b475080e493cdf2c39fdee2f9'></center>"
            ],
            "text/plain": [
              "<IPython.core.display.HTML object>"
            ]
          },
          "metadata": {
            "tags": []
          }
        }
      ]
    },
    {
      "cell_type": "markdown",
      "metadata": {
        "id": "_C4fhlOg7XRO",
        "colab_type": "text"
      },
      "source": [
        "### 2. Mapping over an ImageCollection\n",
        "\n",
        "To apply a function to every `Image` in an `ImageCollection` use `imageCollection.map()`. The only argument to map() is a function which takes one parameter: an `ee.Image`. For example, the following code adds a timestamp band to every image in the collection:"
      ]
    },
    {
      "cell_type": "code",
      "metadata": {
        "id": "kSI4BsJ140ZI",
        "colab_type": "code",
        "colab": {}
      },
      "source": [
        "# Load a Landsat 8 collection for a single path-row.\n",
        "collection = ee.ImageCollection('LANDSAT/LC08/C01/T1_TOA')\\\n",
        "               .filter(ee.Filter.eq('WRS_PATH', 44))\\\n",
        "               .filter(ee.Filter.eq('WRS_ROW', 34))\n",
        "\n",
        "# This function adds a band representing the image timestamp.\n",
        "def addTime(img):\n",
        "  return img.addBands(img.metadata('system:time_start'))\n",
        "\n",
        "# Map the function over the collection and display the result.\n",
        "collection.map(addTime).getInfo()"
      ],
      "execution_count": 0,
      "outputs": []
    },
    {
      "cell_type": "markdown",
      "metadata": {
        "id": "ioe9l6CH8AmS",
        "colab_type": "text"
      },
      "source": [
        "Note that in the predefined function, the `metadata()` method is used to create a new `Image` from the value of a property.es.\n",
        "\n",
        "The mapped function is limited in the operations it can perform. Specifically, it can’t modify variables outside the function; it can’t print anything; it can’t use Python ‘if’ or ‘for’ statements. However, you can use `ee.Algorithms.If()` to perform conditional operations in a mapped function. For example:"
      ]
    },
    {
      "cell_type": "code",
      "metadata": {
        "id": "SWt0p7KD8ASQ",
        "colab_type": "code",
        "colab": {}
      },
      "source": [
        "# Load a Landsat 8 collection for a single path-row.\n",
        "collection = ee.ImageCollection('LANDSAT/LC8_L1T_TOA')\\\n",
        "               .filter(ee.Filter.eq('WRS_PATH', 44))\\\n",
        "               .filter(ee.Filter.eq('WRS_ROW', 34))\n",
        "\n",
        "# This function uses a conditional statement to return the image if\n",
        "# the solar elevation > 40 degrees.  Otherwise it returns a zero image.\n",
        "def conditional(img):\n",
        "  return ee.Algorithms.If(ee.Number(img.get('SUN_ELEVATION')).gt(40),\n",
        "                          img,\n",
        "                          ee.Image(0))\n",
        "\n",
        "# Map the function over the collection, convert to a List and print the result.\n",
        "print('Expand this to see the result: ')\n",
        "collection.map(conditional).getInfo()"
      ],
      "execution_count": 0,
      "outputs": []
    },
    {
      "cell_type": "markdown",
      "metadata": {
        "id": "_4or6Grm_Qoq",
        "colab_type": "text"
      },
      "source": [
        "Inspect the list of images in the output ImageCollection and note that the when the condition evaluated by the `If()` algorithm is true, the output contains a constant image. Although this demonstrates a server-side conditional function (learn more about client vs. server in Earth Engine on [this page](https://developers.google.com/earth-engine/client_server)), avoid `If()` in general and use filters instead.\n",
        "\n"
      ]
    },
    {
      "cell_type": "markdown",
      "metadata": {
        "id": "hH9SHl5OY_vl",
        "colab_type": "text"
      },
      "source": [
        "<!--NAVIGATION-->\n",
        " < [Conditional statements](1.5_Cond_Statements.ipynb) | [Contents](index.ipynb) |  [Spatial Temporal Reducers](1.7_Reducers.ipynb)>\n",
        "\n",
        "<a href=\"https://colab.research.google.com/github/csaybar/EEwPython/blob/master/1.6_Map_filter.ipynb\"><img align=\"left\" src=\"https://colab.research.google.com/assets/colab-badge.svg\" alt=\"Open in Colab\" title=\"Open and Execute in Google Colaboratory\"></a>"
      ]
    }
  ]
}