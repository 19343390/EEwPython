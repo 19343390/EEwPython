{
  "nbformat": 4,
  "nbformat_minor": 0,
  "metadata": {
    "colab": {
      "name": "1.7_Reducers.ipynb",
      "version": "0.3.2",
      "provenance": [],
      "collapsed_sections": [],
      "toc_visible": true,
      "include_colab_link": true
    },
    "kernelspec": {
      "name": "python3",
      "display_name": "Python 3"
    },
    "accelerator": "GPU"
  },
  "cells": [
    {
      "cell_type": "markdown",
      "metadata": {
        "id": "view-in-github",
        "colab_type": "text"
      },
      "source": [
        "<a href=\"https://colab.research.google.com/github/csaybar/EEwPython/blob/master/1_7_Reducers.ipynb\" target=\"_parent\"><img src=\"https://colab.research.google.com/assets/colab-badge.svg\" alt=\"Open In Colab\"/></a>"
      ]
    },
    {
      "cell_type": "markdown",
      "metadata": {
        "id": "_rUp3DC76g8u",
        "colab_type": "text"
      },
      "source": [
        "<!--COURSE_INFORMATION-->\n",
        "<img align=\"left\" style=\"padding-right:10px;\" src=\"https://sitejerk.com/images/google-earth-logo-png-5.png\" width=5% >\n",
        "<img align=\"right\" style=\"padding-left:10px;\" src=\"https://colab.research.google.com/img/colab_favicon_256px.png\" width=6% >\n",
        "\n",
        "\n",
        ">> *This notebook is part from the free course [EEwPython](https://github.com/csaybar/EEwPython); the content is available [on GitHub](https://github.com/csaybar/EEwPython)* and released under the [Apache 2.0 License](https://www.gnu.org/licenses/gpl-3.0.en.html)."
      ]
    },
    {
      "cell_type": "markdown",
      "metadata": {
        "id": "sXIW6opAc5aX",
        "colab_type": "text"
      },
      "source": [
        "<!--NAVIGATION-->\n",
        " < [Map and filter](1.6_Map_filter.ipynb) | [Contents](index.ipynb) |  [Iterations](1.8_Iterations.ipynb)>\n",
        "\n",
        "<a href=\"https://colab.research.google.com/github/csaybar/EEwPython/blob/master/1.7_Reducers.ipynb\"><img align=\"left\" src=\"https://colab.research.google.com/assets/colab-badge.svg\" alt=\"Open in Colab\" title=\"Open and Execute in Google Colaboratory\"></a>"
      ]
    },
    {
      "cell_type": "code",
      "metadata": {
        "id": "JLw0KlKhrnJJ",
        "colab_type": "code",
        "cellView": "form",
        "outputId": "ebe458b6-9a7c-42c9-ae88-8c041ad633f6",
        "colab": {
          "base_uri": "https://localhost:8080/",
          "height": 335
        }
      },
      "source": [
        "#@title # Reducers\n",
        "\n",
        "\n",
        "\n",
        "from IPython.display import HTML\n",
        "HTML('<center><iframe width=\"560\" height=\"315\" src=\"https://www.youtube.com/embed/LzxQH0Ze0iI\" frameborder=\"0\" allow=\"accelerometer; autoplay; encrypted-media; gyroscope; picture-in-picture\" allowfullscreen></iframe></center>')"
      ],
      "execution_count": 0,
      "outputs": [
        {
          "output_type": "execute_result",
          "data": {
            "text/html": [
              "<center><iframe width=\"560\" height=\"315\" src=\"https://www.youtube.com/embed/LzxQH0Ze0iI\" frameborder=\"0\" allow=\"accelerometer; autoplay; encrypted-media; gyroscope; picture-in-picture\" allowfullscreen></iframe></center>"
            ],
            "text/plain": [
              "<IPython.core.display.HTML object>"
            ]
          },
          "metadata": {
            "tags": []
          },
          "execution_count": 2
        }
      ]
    },
    {
      "cell_type": "code",
      "metadata": {
        "id": "6rHacn9mskla",
        "colab_type": "code",
        "cellView": "form",
        "colab": {}
      },
      "source": [
        "#@title Function to visualize thumbnail URL\n",
        "from IPython.display import Image\n",
        "from IPython.display import HTML\n",
        "\n",
        "def display_image(url,title=\"\",CSS_row=False):\n",
        "  img_link = \"<center> <h1>%s</h1> <img title='%s' src= '%s'></center>\" % (title,title,url)\n",
        "  return HTML(img_link)"
      ],
      "execution_count": 0,
      "outputs": []
    },
    {
      "cell_type": "markdown",
      "metadata": {
        "id": "u789tt7jtFcI",
        "colab_type": "text"
      },
      "source": [
        "### Connecting GEE, Colab and Google Drive"
      ]
    },
    {
      "cell_type": "markdown",
      "metadata": {
        "id": "p2d64Hzi8NNT",
        "colab_type": "text"
      },
      "source": [
        "- **Colab & Google Drive synchronization**"
      ]
    },
    {
      "cell_type": "code",
      "metadata": {
        "id": "vS2vm3h5-jbz",
        "colab_type": "code",
        "colab": {}
      },
      "source": [
        "#from google.colab import drive\n",
        "#drive.mount('/content/drive')"
      ],
      "execution_count": 0,
      "outputs": []
    },
    {
      "cell_type": "markdown",
      "metadata": {
        "id": "0UH2asC7CB1N",
        "colab_type": "text"
      },
      "source": [
        "- **Colab & Earth Engine synchronization**"
      ]
    },
    {
      "cell_type": "code",
      "metadata": {
        "id": "ZGbB_ztw-jwR",
        "colab_type": "code",
        "colab": {}
      },
      "source": [
        "!pip install earthengine-api #Firstly we need the earth-engine API"
      ],
      "execution_count": 0,
      "outputs": []
    },
    {
      "cell_type": "code",
      "metadata": {
        "id": "B3ed9DzvCPEU",
        "colab_type": "code",
        "colab": {}
      },
      "source": [
        "!earthengine authenticate "
      ],
      "execution_count": 0,
      "outputs": []
    },
    {
      "cell_type": "code",
      "metadata": {
        "id": "-fHzvUqJCW9k",
        "colab_type": "code",
        "colab": {}
      },
      "source": [
        "import ee\n",
        "ee.Initialize()"
      ],
      "execution_count": 0,
      "outputs": []
    },
    {
      "cell_type": "markdown",
      "metadata": {
        "id": "tSXKbB-br7_q",
        "colab_type": "text"
      },
      "source": [
        "### 1. Reducer overview\n",
        "\n",
        "Reducers are the way to aggregate data over time, space, bands, arrays and other data structures in Earth Engine. The `ee.Reducer` class specifies how data is aggregated. The reducers in this class can specify a simple statistic to use for the aggregation (e.g. minimum, maximum, mean, median, standard deviation, etc.), or a more complex summary of the input data (e.g. histogram, linear regression, list). Reductions may occur over time (`imageCollection.reduce()`), space (`image.reduceRegion()`, `image.reduceNeighborhood()`), bands (`image.reduce()`), or the attribute space of a `FeatureCollection` (`featureCollection.reduceColumns()` or `FeatureCollection` methods that start with `aggregate_`).\n"
      ]
    },
    {
      "cell_type": "markdown",
      "metadata": {
        "id": "PiWQZI4gCAgi",
        "colab_type": "text"
      },
      "source": [
        "####  Reducers have inputs and outputs\n",
        "\n",
        "Reducers take an input dataset and produce a single output. When a single input reducer is applied to a multi-band image, Earth Engine automatically replicates the reducer and applies it separately to each band. As a result, the output image has the same number of bands as the input image; each band in the output is the reduction of pixels from the corresponding band in the input data. Some reducers take tuples of input datasets. These reducers will not be automatically replicated for each band. For example, `ee.Reducer.LinearRegression()` takes multiple predictor datasets (representing independent variables in the regression) in a particular order (see [Regression reducers](https://developers.google.com/earth-engine/reducers_regression)).\n",
        "\n",
        "Some reducers produce multiple outputs, for example `ee.Reducer.minMax()`, `ee.Reducer.histogram()` or `ee.Reducer.toList()`. For example:\n",
        "\n",
        "\n",
        "\n"
      ]
    },
    {
      "cell_type": "code",
      "metadata": {
        "id": "MCCtDV0KCaXQ",
        "colab_type": "code",
        "colab": {}
      },
      "source": [
        "# Load and filter the Sentinel-2 image collection.\n",
        "collection = ee.ImageCollection('COPERNICUS/S2')\\\n",
        "               .filterDate('2016-01-01', '2016-12-31')\\\n",
        "               .filterBounds(ee.Geometry.Point([-81.31, 29.90]))\n",
        "\n",
        "# Reduce the collection.\n",
        "extrema = collection.reduce(ee.Reducer.minMax())\n",
        "extrema.getInfo()"
      ],
      "execution_count": 0,
      "outputs": []
    },
    {
      "cell_type": "markdown",
      "metadata": {
        "id": "cNNEDTJ5C5LK",
        "colab_type": "text"
      },
      "source": [
        "This will produce an output with twice the number of bands of the inputs, where band names in the output have ‘\\_min’ or ‘\\_max’ appended to the band name.\n",
        "\n",
        "The output type should match the computation. For example, a reducer applied to an `ImageCollection` has an `Image` output. Because the output is interpreted as a pixel value, you must use reducers with a numeric output to reduce an `ImageCollection` (reducers like `toList()` or `histogram()` won’t work)."
      ]
    },
    {
      "cell_type": "markdown",
      "metadata": {
        "id": "vjts7M-5DMdE",
        "colab_type": "text"
      },
      "source": [
        "### 2. ImageCollection Reductions\n",
        "\n",
        "Consider the example of needing to take the median over a time series of images represented by an `ImageCollection`. To reduce an `ImageCollection`, use `imageCollection.reduce()`. This reduces the collection of images to an individual image as illustrated in Figure 1. Specifically, the output is computed pixel-wise, such that each pixel in the output is composed of the median value of all the images in the collection at that location. To get other statistics, such as mean, sum, variance, an arbitrary percentile, etc., the appropriate reducer should be selected and applied. For basic statistics like min, max, mean, etc., ImageCollection has shortcut methods like `min()`, `max()`, `mean()`, etc. They function in exactly the same way as calling `reduce()`, except the resultant band names will not have the name of the reducer appended.\n",
        "\n",
        "<figure>\n",
        "<center>\n",
        "<img src=\"https://developers.google.com/earth-engine/images/Reduce_ImageCollection.png\">\n",
        "<figcaption>\n",
        "  Figure 1. Illustration of an ee.Reducer applied to an ImageCollection.\n",
        "</figcaption>\n",
        "</center>\n",
        "</figure>\n"
      ]
    },
    {
      "cell_type": "markdown",
      "metadata": {
        "id": "i0b2BK1fEcy1",
        "colab_type": "text"
      },
      "source": [
        "For an example of reducing an ImageCollection, consider a collection of Landsat 5 images, filtered by path and row. The following code uses `reduce()` to reduce the collection to one `Image` (here a median reducer is used simply for illustrative purposes):"
      ]
    },
    {
      "cell_type": "code",
      "metadata": {
        "id": "pHnZAp8bDRlS",
        "colab_type": "code",
        "outputId": "7eb75403-a1a1-4ddd-df66-0d630043d64f",
        "colab": {
          "base_uri": "https://localhost:8080/",
          "height": 589
        }
      },
      "source": [
        "# Load an image collection, filtered so it's not too much data.\n",
        "collection = ee.ImageCollection('LANDSAT/LT05/C01/T1')\\\n",
        "               .filterDate('2008-01-01', '2008-12-31')\\\n",
        "               .filter(ee.Filter.eq('WRS_PATH', 44))\\\n",
        "               .filter(ee.Filter.eq('WRS_ROW', 34))\n",
        "\n",
        "# Compute the median in each band, each pixel.\n",
        "# Band names are B1_median, B2_median, etc.\n",
        "median = collection.reduce(ee.Reducer.median())\n",
        "\n",
        "# The output is an Image.  Visualize!\n",
        "vis_param = {'bands': ['B4_median', 'B3_median', 'B2_median'], 'gamma': 1.6}\n",
        "area= ee.Geometry.Rectangle(-122.3355-1.2, 37.7924-1.2, -122.3355+1.2, 37.7924+1.2)\n",
        "display_image(median.clip(area).getThumbUrl(vis_param),'Landsat-5')"
      ],
      "execution_count": 0,
      "outputs": [
        {
          "output_type": "execute_result",
          "data": {
            "text/html": [
              "<center> <h1>Landsat-5</h1> <img title='Landsat-5' src= 'https://earthengine.googleapis.com/api/thumb?thumbid=78ebdd7ae4dc6729941f468c63f6d019&token=992a85bd4dac1d35264dca76a4e44869'></center>"
            ],
            "text/plain": [
              "<IPython.core.display.HTML object>"
            ]
          },
          "metadata": {
            "tags": []
          },
          "execution_count": 17
        }
      ]
    },
    {
      "cell_type": "markdown",
      "metadata": {
        "id": "xR5ao3vDGBeF",
        "colab_type": "text"
      },
      "source": [
        "### 3. Image Reductions\n",
        "\n",
        "To reduce an `Image`, use `image.reduce()`. Reducing an image functions in an analogous way to `imageCollection.reduce()`, except the bands of the image are input to the reducer rather than the images in the collection. The output is also an image with number of bands equal to number of reducer outputs. For example:\n",
        "\n"
      ]
    },
    {
      "cell_type": "code",
      "metadata": {
        "id": "FIe4M3aMGQhG",
        "colab_type": "code",
        "outputId": "eff9e330-c964-445b-879d-821b089e3dfc",
        "colab": {
          "base_uri": "https://localhost:8080/",
          "height": 551
        }
      },
      "source": [
        "# Load an image and select some bands of interest.\n",
        "image = ee.Image('LANDSAT/LC08/C01/T1/LC08_044034_20140318')\\\n",
        "          .select(['B4', 'B3', 'B2'])\n",
        "\n",
        "# Reduce the image to get a one-band maximum value image.\n",
        "maxValue = image.reduce(ee.Reducer.max())\n",
        "\n",
        "# Display the result.\n",
        "display_image(maxValue.getThumbURL({'max': 13000}))"
      ],
      "execution_count": 0,
      "outputs": [
        {
          "output_type": "execute_result",
          "data": {
            "text/html": [
              "<center> <h1></h1> <img title='' src= 'https://earthengine.googleapis.com/api/thumb?thumbid=b1e1f48fe28388c85557ef2578b8426e&token=532e67621e9b843b193e95b575c3771c'></center>"
            ],
            "text/plain": [
              "<IPython.core.display.HTML object>"
            ]
          },
          "metadata": {
            "tags": []
          },
          "execution_count": 20
        }
      ]
    },
    {
      "cell_type": "markdown",
      "metadata": {
        "id": "e9BBPEGjGkOe",
        "colab_type": "text"
      },
      "source": [
        "### 4. Statistics of an Image Region\n",
        "\n",
        "Suppose there is need to calculate statistics over a region (or regions) of an `ee.Image`. To get statistics of pixel values in an image region, use `image.reduceRegion()`. This reduces all the pixels in the region(s) to a statistic or other compact representation of the pixel data in the region (e.g. histogram). The region is represented as a `Geometry`, which might be a polygon, containing many pixels, or it might be a single point, in which case there will only be one pixel in the region. In either case, as illustrated in Figure 2, the output is a statistic derived from the pixels in the region.\n",
        "\n",
        "<figure>\n",
        "<center>\n",
        "<img src=\"https://developers.google.com/earth-engine/images/Reduce_region_diagram.png\">\n",
        "<figcaption>\n",
        "  Figure 2.  An illustration of an ee.Reducer applied to an image and a region.\n",
        "</figcaption>\n",
        "</center>\n",
        "</figure>\n",
        "\n",
        "\n",
        "For an example of getting pixel statistics in a region of an image using reduceRegion(), consider finding the mean spectral values of a 5-year Landsat composite within the boundaries of the Sierra Nevada Coniferous Forest:"
      ]
    },
    {
      "cell_type": "code",
      "metadata": {
        "id": "qmdhg9o6Hm3M",
        "colab_type": "code",
        "colab": {}
      },
      "source": [
        "# Load input imagery: Landsat 7 5-year composite.\n",
        "image = ee.Image('LANDSAT/LE7_TOA_5YEAR/2008_2012')\n",
        "\n",
        "# Load an input region: Sierra Nevada mixed conifer forest.\n",
        "region = ee.Feature(ee.FeatureCollection(\n",
        "  'ft:1Ec8IWsP8asxN-ywSqgXWMuBaxI6pPaeh6hC64lA')\n",
        "  .filter(ee.Filter.eq('G200_REGIO', 'Sierra Nevada Coniferous Forests'))\n",
        "  .first())\n",
        "\n",
        "# Reduce the region. The region parameter is the Feature geometry.\n",
        "meanDictionary = image.reduceRegion(reducer = ee.Reducer.mean(),\n",
        "                                    geometry = region.geometry(),\n",
        "                                    scale = 30,\n",
        "                                    maxPixels = 1e9)\n",
        "\n",
        "# The result is a Dictionary.  Print it.\n",
        "meanDictionary.getInfo()"
      ],
      "execution_count": 0,
      "outputs": []
    },
    {
      "cell_type": "markdown",
      "metadata": {
        "id": "3Ew_sQSiIlFe",
        "colab_type": "text"
      },
      "source": [
        "Note that in this example the reduction is specified by providing the reducer (`ee.Reducer.mean()`), the geometry (`region.geometry()`), the scale (30 meters) and `maxPixels` for the maximum number of pixels to input to the reducer. A scale should always be specified in `reduceRegion()` calls. This is because in complex processing flows, which may involve data from different sources with different scales, the scale of the output will not be unambiguously determined from the inputs. In that case, the scale defaults to 1 degree, which generally produces unsatisfactory results. See this [page](https://developers.google.com/earth-engine/scale) for more information about how Earth Engine handles scale.\n",
        "\n"
      ]
    },
    {
      "cell_type": "markdown",
      "metadata": {
        "id": "qDx6-3msI64Y",
        "colab_type": "text"
      },
      "source": [
        "### 5. Statistics of Image Regions\n",
        "\n",
        "To get image statistics in multiple regions stored in a `FeatureCollection`, you can use `image.reduceRegions()` to reduce multiple regions at once. The input to `reduceRegions()` is an `Image` and a `FeatureCollection`. The output is another `FeatureCollection` with the `reduceRegions()` output set as properties on each `Feature`. In this example, means of the Landsat 7 annual composite bands in each feature geometry will be added as properties to the input features:\n",
        "\n"
      ]
    },
    {
      "cell_type": "code",
      "metadata": {
        "id": "sQxdaHR3I4LY",
        "colab_type": "code",
        "colab": {}
      },
      "source": [
        "# Load input imagery: Landsat 7 5-year composite.\n",
        "image = ee.Image('LANDSAT/LE7_TOA_5YEAR/2008_2012')\n",
        "\n",
        "# Load a FeatureCollection of counties in Maine.\n",
        "maineCounties = ee.FeatureCollection('ft:1S4EB6319wWW2sWQDPhDvmSBIVrD3iEmCLYB7nMM')\\\n",
        "                  .filter(ee.Filter.eq('StateName', 'Maine'))\n",
        "\n",
        "# Add reducer output to the Features in the collection.\n",
        "maineMeansFeatures = image.reduceRegions(collection = maineCounties,\n",
        "                                         reducer = ee.Reducer.mean(),\n",
        "                                         scale = 30)\n",
        "\n",
        "# Print the first feature, to illustrate the result.\n",
        "ee.Feature(maineMeansFeatures.first()).select(image.bandNames()).getInfo()"
      ],
      "execution_count": 0,
      "outputs": []
    },
    {
      "cell_type": "markdown",
      "metadata": {
        "id": "t14IxCFPJhMm",
        "colab_type": "text"
      },
      "source": [
        "Observe that new properties, keyed by band name, have been added to the `FeatureCollection` to store the mean of the composite in each `Feature` geometry. "
      ]
    },
    {
      "cell_type": "markdown",
      "metadata": {
        "id": "tFv1uPg1JxXg",
        "colab_type": "text"
      },
      "source": [
        "### 6. Statistics of Image Neighborhoods\n",
        "\n",
        "Rather than specifying a region over which to perform a reduction, it is also possible to specify a neighborhood in which to apply a reducer. To reduce image neighborhoods, use `image.reduceNeighborhood()`. In this case, the reduction will occur in a sliding window over the input image, with the window size and shape specified by an `ee.Kernel`. The output of `reduceNeighborhood()` will be another image, with each pixel value representing the output of the reduction in a neighborhood around that pixel in the input image. Figure 3 illustrates this type of reduction.\n",
        "\n",
        "<figure>\n",
        "<center>\n",
        "<img src=\"https://developers.google.com/earth-engine/images/Reduce_Neighborhood.png\">\n",
        "<figcaption>\n",
        "  Figure 3.  Illustration of reduceNeighborhood(), where the reducer is applied in a kernel.\n",
        "</figcaption>\n",
        "</center>\n",
        "</figure>"
      ]
    },
    {
      "cell_type": "markdown",
      "metadata": {
        "id": "ihxeCzHxKJLO",
        "colab_type": "text"
      },
      "source": [
        "For example, consider using National Agriculture Imagery Program (NAIP) imagery to quantify landscape differences resulting from logging in the California redwood forests. Specifically, use standard deviation (SD) in a neighborhood to represent the difference in texture between the logged area and the protected area. For example, to get texture of a NAIP Normalized Difference Vegetation Index (NDVI) image, use reduceNeighborhood() to compute SD in a neighborhood defined by a kernel:\n",
        "\n"
      ]
    },
    {
      "cell_type": "code",
      "metadata": {
        "id": "ldOFKFyyKEqe",
        "colab_type": "code",
        "outputId": "ef3ff185-52dc-43be-8ecd-609feb4da4f7",
        "colab": {
          "base_uri": "https://localhost:8080/",
          "height": 1135
        }
      },
      "source": [
        "# Define a region in the redwood forest.\n",
        "redwoods = ee.Geometry.Rectangle(-124.0665, 41.0739, -123.934, 41.2029);\n",
        "\n",
        "# Load input NAIP imagery and build a mosaic.\n",
        "naipCollection = ee.ImageCollection('USDA/NAIP/DOQQ')\\\n",
        "                   .filterBounds(redwoods)\\\n",
        "                   .filterDate('2012-01-01', '2012-12-31')\n",
        "naip = naipCollection.mosaic()\n",
        "\n",
        "# Compute NDVI from the NAIP imagery.\n",
        "naipNDVI = naip.normalizedDifference(['N', 'R'])\n",
        "\n",
        "# Compute standard deviation (SD) as texture of the NDVI.\n",
        "texture = naipNDVI.reduceNeighborhood(reducer = ee.Reducer.stdDev(),\n",
        "                                      kernel = ee.Kernel.circle(7))\n",
        "\n",
        "# Display the results.\n",
        "img1 = display_image(naip.clip(redwoods).getThumbURL(),\"NAIP imagery of the Northern California coast\")\n",
        "img2 = display_image(texture.clip(redwoods).getThumbURL({'min': 0, 'max': 0.3}),\"NDVI - reduceNeighborhood()\")\n",
        "display(img1,img2)"
      ],
      "execution_count": 0,
      "outputs": [
        {
          "output_type": "display_data",
          "data": {
            "text/html": [
              "<center> <h1>NAIP imagery of the Northern California coast</h1> <img title='NAIP imagery of the Northern California coast' src= 'https://earthengine.googleapis.com/api/thumb?thumbid=7406bb5335a8dafe6edd4e332d58a365&token=49c455c5862da7795d2d44c35772931c'></center>"
            ],
            "text/plain": [
              "<IPython.core.display.HTML object>"
            ]
          },
          "metadata": {
            "tags": []
          }
        },
        {
          "output_type": "display_data",
          "data": {
            "text/html": [
              "<center> <h1>NDVI - reduceNeighborhood()</h1> <img title='NDVI - reduceNeighborhood()' src= 'https://earthengine.googleapis.com/api/thumb?thumbid=3133b0074b8c388b36a8ab7805a56a60&token=9fdc616073a559ccb3c74e91badff0eb'></center>"
            ],
            "text/plain": [
              "<IPython.core.display.HTML object>"
            ]
          },
          "metadata": {
            "tags": []
          }
        }
      ]
    },
    {
      "cell_type": "markdown",
      "metadata": {
        "id": "a1LgLaLOdneP",
        "colab_type": "text"
      },
      "source": [
        "<!--NAVIGATION-->\n",
        " < [Map and filter](1.6_Map_filter.ipynb) | [Contents](index.ipynb) |  [Iterations](1.8_Iterations.ipynb)>\n",
        "\n",
        "<a href=\"https://colab.research.google.com/github/csaybar/EEwPython/blob/master/1.7_Reducers.ipynb\"><img align=\"left\" src=\"https://colab.research.google.com/assets/colab-badge.svg\" alt=\"Open in Colab\" title=\"Open and Execute in Google Colaboratory\"></a>"
      ]
    }
  ]
}