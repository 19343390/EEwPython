{
  "nbformat": 4,
  "nbformat_minor": 0,
  "metadata": {
    "colab": {
      "name": "1.8_Iterations.ipynb",
      "version": "0.3.2",
      "provenance": [],
      "collapsed_sections": [],
      "toc_visible": true,
      "include_colab_link": true
    },
    "kernelspec": {
      "name": "python3",
      "display_name": "Python 3"
    },
    "accelerator": "GPU"
  },
  "cells": [
    {
      "cell_type": "markdown",
      "metadata": {
        "id": "view-in-github",
        "colab_type": "text"
      },
      "source": [
        "<a href=\"https://colab.research.google.com/github/csaybar/EEwPython/blob/master/1_8_Iterations.ipynb\" target=\"_parent\"><img src=\"https://colab.research.google.com/assets/colab-badge.svg\" alt=\"Open In Colab\"/></a>"
      ]
    },
    {
      "cell_type": "markdown",
      "metadata": {
        "id": "_rUp3DC76g8u",
        "colab_type": "text"
      },
      "source": [
        "<!--COURSE_INFORMATION-->\n",
        "<img align=\"left\" style=\"padding-right:10px;\" src=\"https://sitejerk.com/images/google-earth-logo-png-5.png\" width=5% >\n",
        "<img align=\"right\" style=\"padding-left:10px;\" src=\"https://colab.research.google.com/img/colab_favicon_256px.png\" width=6% >\n",
        "\n",
        "\n",
        ">> *This notebook is part from the free course [EEwPython](https://github.com/csaybar/EEwPython); the content is available [on GitHub](https://github.com/csaybar/EEwPython)* and released under the [Apache 2.0 License](https://www.gnu.org/licenses/gpl-3.0.en.html)."
      ]
    },
    {
      "cell_type": "markdown",
      "metadata": {
        "id": "gRWkL3U9dzbO",
        "colab_type": "text"
      },
      "source": [
        "<!--NAVIGATION-->\n",
        " <[Spatial Temporal Reducers](1.7_Reducers.ipynb) | [Contents](index.ipynb) |  [Export Resutls](1.9_ExportResults.ipynb) >\n",
        "\n",
        "<a href=\"https://colab.research.google.com/github/csaybar/EEwPython/blob/master/1.8_Iterations.ipynb\"><img align=\"left\" src=\"https://colab.research.google.com/assets/colab-badge.svg\" alt=\"Open in Colab\" title=\"Open and Execute in Google Colaboratory\"></a>"
      ]
    },
    {
      "cell_type": "code",
      "metadata": {
        "id": "JLw0KlKhrnJJ",
        "colab_type": "code",
        "cellView": "form",
        "outputId": "ebe458b6-9a7c-42c9-ae88-8c041ad633f6",
        "colab": {
          "base_uri": "https://localhost:8080/",
          "height": 335
        }
      },
      "source": [
        "#@title # Iterating over an ImageCollection\n",
        "from IPython.display import HTML\n",
        "HTML('<center><iframe width=\"560\" height=\"315\" src=\"https://www.youtube.com/embed/LzxQH0Ze0iI\" frameborder=\"0\" allow=\"accelerometer; autoplay; encrypted-media; gyroscope; picture-in-picture\" allowfullscreen></iframe></center>')"
      ],
      "execution_count": 0,
      "outputs": [
        {
          "output_type": "execute_result",
          "data": {
            "text/html": [
              "<center><iframe width=\"560\" height=\"315\" src=\"https://www.youtube.com/embed/LzxQH0Ze0iI\" frameborder=\"0\" allow=\"accelerometer; autoplay; encrypted-media; gyroscope; picture-in-picture\" allowfullscreen></iframe></center>"
            ],
            "text/plain": [
              "<IPython.core.display.HTML object>"
            ]
          },
          "metadata": {
            "tags": []
          },
          "execution_count": 2
        }
      ]
    },
    {
      "cell_type": "code",
      "metadata": {
        "id": "6rHacn9mskla",
        "colab_type": "code",
        "cellView": "form",
        "colab": {}
      },
      "source": [
        "#@title Function to visualize thumbnail URL\n",
        "from IPython.display import Image\n",
        "from IPython.display import HTML\n",
        "\n",
        "def display_image(url,title=\"\",CSS_row=False):\n",
        "  img_link = \"<center> <h1>%s</h1> <img title='%s' src= '%s'></center>\" % (title,title,url)\n",
        "  return HTML(img_link)"
      ],
      "execution_count": 0,
      "outputs": []
    },
    {
      "cell_type": "markdown",
      "metadata": {
        "id": "u789tt7jtFcI",
        "colab_type": "text"
      },
      "source": [
        "### Connecting GEE, Colab and Google Drive"
      ]
    },
    {
      "cell_type": "markdown",
      "metadata": {
        "id": "p2d64Hzi8NNT",
        "colab_type": "text"
      },
      "source": [
        "- **Colab & Google Drive synchronization**"
      ]
    },
    {
      "cell_type": "code",
      "metadata": {
        "id": "vS2vm3h5-jbz",
        "colab_type": "code",
        "colab": {}
      },
      "source": [
        "#from google.colab import drive\n",
        "#drive.mount('/content/drive')"
      ],
      "execution_count": 0,
      "outputs": []
    },
    {
      "cell_type": "markdown",
      "metadata": {
        "id": "0UH2asC7CB1N",
        "colab_type": "text"
      },
      "source": [
        "- **Colab & Earth Engine synchronization**"
      ]
    },
    {
      "cell_type": "code",
      "metadata": {
        "id": "ZGbB_ztw-jwR",
        "colab_type": "code",
        "colab": {}
      },
      "source": [
        "!pip install earthengine-api #Firstly we need the earth-engine API"
      ],
      "execution_count": 0,
      "outputs": []
    },
    {
      "cell_type": "code",
      "metadata": {
        "id": "B3ed9DzvCPEU",
        "colab_type": "code",
        "colab": {}
      },
      "source": [
        "!earthengine authenticate "
      ],
      "execution_count": 0,
      "outputs": []
    },
    {
      "cell_type": "code",
      "metadata": {
        "id": "-fHzvUqJCW9k",
        "colab_type": "code",
        "colab": {}
      },
      "source": [
        "import ee\n",
        "ee.Initialize()"
      ],
      "execution_count": 0,
      "outputs": []
    },
    {
      "cell_type": "markdown",
      "metadata": {
        "id": "kYHnhCUAMmr4",
        "colab_type": "text"
      },
      "source": [
        "### 1. Iterating over an ImageCollection\n",
        "\n",
        "Although `map()` applies a function to every image in a collection, the function visits every image in the collection independently. For example, suppose you want to compute a cumulative anomaly ($A_t$) at time t from a time series. To obtain a recursively defined series of the form $A_t = f(Image_t, A_{t-1})$, mapping won't work because the function (f) depends on the previous result ($A{t-1}$). \n",
        "\n",
        "For example, suppose you want to compute a series of cumulative Normalized Difference Vegetation Index (NDVI) anomaly images relative to a baseline. Let $A_0 = 0$ and $f(Image_t, A_{t-1}) = Image_t + A_{t-1}$ where $A_{t-1}$ is the cumulative anomaly up to time $t-1$ and Image_t is the anomaly at time t. Use **imageCollection.iterate()** to make this recursively defined ImageCollection. In the following example, the function **accumulate()** takes two parameters: an image in the collection, and a list of all the previous outputs. With each call to **iterate()**, the anomaly is added to the running sum and the result is added to the list. The final result is passed to the **ImageCollection** constructor to get a new sequence of images:\n",
        "\n"
      ]
    },
    {
      "cell_type": "code",
      "metadata": {
        "id": "JSts6pRSMl7u",
        "colab_type": "code",
        "colab": {}
      },
      "source": [
        "# Load MODIS EVI imagery.\n",
        "collection = ee.ImageCollection('MODIS/006/MYD13A1').select('EVI');\n",
        "\n",
        "# Define reference conditions from the first 10 years of data.\n",
        "reference = collection.filterDate('2001-01-01', '2010-12-31')\\\n",
        "                      .sort('system:time_start', False) # Sort chronologically in descending order.\n",
        "\n",
        "# Compute the mean of the first 10 years.\n",
        "mean = reference.mean()\n",
        "\n",
        "# Compute anomalies by subtracting the 2001-2010 mean from each image in a\n",
        "# collection of 2011-2014 images. Copy the date metadata over to the\n",
        "# computed anomaly images in the new collection.\n",
        "series = collection.filterDate('2011-01-01', '2014-12-31')\\\n",
        "                   .map(lambda img: img.subtract(mean).set('system:time_start', img.get('system:time_start')))\n",
        "\n",
        "# Display cumulative anomalies.\n",
        "roi = ee.Geometry.Rectangle(-100.811-1, 40.2-1,-100.811+1, 40.2+1)\n",
        "geoviz = {'min': -60000, 'max': 60000, 'palette': ['FF0000', '000000', '00FF00']}\n",
        "dimg_1 = series.sum().clip(roi).getThumbUrl(geoviz)\n",
        "\n",
        "display_image(dimg_1,'EVI anomaly')    "
      ],
      "execution_count": 0,
      "outputs": []
    },
    {
      "cell_type": "code",
      "metadata": {
        "id": "4cJOxX3CVhLS",
        "colab_type": "code",
        "colab": {}
      },
      "source": [
        "# Get the timestamp from the most recent image in the reference collection.\n",
        "time0 = reference.first().get('system:time_start')\n",
        "\n",
        "# Use imageCollection.iterate() to make a collection of cumulative anomaly over time.\n",
        "# The initial value for iterate() is a list of anomaly images already processed.\n",
        "# The first anomaly image in the list is just 0, with the time0 timestamp.\n",
        "first = ee.List([ee.Image(0).set('system:time_start', time0).select([0], ['EVI'])]) # Rename the first band 'EVI'.\n",
        "\n",
        "# This is a function to pass to Iterate().\n",
        "# As anomaly images are computed, add them to the list.\n",
        "def accumulate(img,lista):\n",
        "  # Get the latest cumulative anomaly image from the end of the list with\n",
        "  # get(-1).  Since the type of the list argument to the function is unknown,\n",
        "  # it needs to be cast to a List.  Since the return type of get() is unknown,\n",
        "  # cast it to Image.\n",
        "  img = ee.Image(img)\n",
        "  previous = ee.Image(ee.List(lista).get(-1))\n",
        "  # Add the current anomaly to make a new cumulative anomaly image.\n",
        "  added = img.add(previous)\\\n",
        "               .set('system:time_start', img.get('system:time_start')) # Propagate metadata to the new image.\n",
        "  # Return the list with the cumulative anomaly inserted.\n",
        "  return ee.List(lista).add(added)\n",
        "\n",
        "# Create an ImageCollection of cumulative anomaly images by iterating.\n",
        "# Since the return type of iterate is unknown, it needs to be cast to a List.\n",
        "cumulative = ee.ImageCollection(ee.List(series.iterate(accumulate, first)))"
      ],
      "execution_count": 0,
      "outputs": []
    },
    {
      "cell_type": "code",
      "metadata": {
        "id": "LabRN6oKYU85",
        "colab_type": "code",
        "colab": {}
      },
      "source": [
        "def stackCollection(collection):\n",
        "  # Create an initial image.\n",
        "  first = ee.Image(collection.first()).select([])\n",
        "\n",
        "  # Write a function that appends a band to an image.\n",
        "  def appendBands(image, previous):\n",
        "    return ee.Image(previous).addBands(image)\n",
        "  return ee.Image(collection.iterate(appendBands, first))"
      ],
      "execution_count": 0,
      "outputs": []
    },
    {
      "cell_type": "code",
      "metadata": {
        "id": "eliLhIHkXEDT",
        "colab_type": "code",
        "outputId": "78813bad-d56f-4b82-8d76-422f7ae87db0",
        "colab": {
          "base_uri": "https://localhost:8080/",
          "height": 269
        }
      },
      "source": [
        "import numpy as np\n",
        "import matplotlib.pyplot as plt\n",
        "\n",
        "# Chart some interesting locations.\n",
        "pt1 = ee.Geometry.Point(116.4647, 40.1054)\n",
        "\n",
        "# ee.ImageCollection to ee.Image\n",
        "img_cumulative = stackCollection(cumulative)\n",
        "\n",
        "\n",
        "series = img_cumulative.reduceRegions(collection=pt1,\n",
        "                                      reducer=ee.Reducer.mean(),\n",
        "                                      scale=500)\n",
        "\n",
        "dic_series = series.getInfo()\n",
        "EVI_anom = np.array(list(dic_series['features'][0]['properties'].values()))\n",
        "\n",
        "plt.plot(EVI_anom)\n",
        "plt.show()"
      ],
      "execution_count": 0,
      "outputs": [
        {
          "output_type": "display_data",
          "data": {
            "image/png": "[encoded data removed]",
            "text/plain": [
              "<Figure size 432x288 with 1 Axes>"
            ]
          },
          "metadata": {
            "tags": []
          }
        }
      ]
    },
    {
      "cell_type": "markdown",
      "metadata": {
        "id": "cMHbbHsqeSST",
        "colab_type": "text"
      },
      "source": [
        "## TODO: \n",
        "- FIX BUG IN VALUES!\n",
        "- Add documentation"
      ]
    },
    {
      "cell_type": "markdown",
      "metadata": {
        "id": "NYo0qMc7eRik",
        "colab_type": "text"
      },
      "source": [
        "<!--NAVIGATION-->\n",
        " <[Spatial Temporal Reducers](1.7_Reducers.ipynb) | [Contents](index.ipynb) |  [Export Resutls](1.9_ExportResults.ipynb.ipynb) >\n",
        "\n",
        "<a href=\"https://colab.research.google.com/github/csaybar/EEwPython/blob/master/1.8_Iterations.ipynb\"><img align=\"left\" src=\"https://colab.research.google.com/assets/colab-badge.svg\" alt=\"Open in Colab\" title=\"Open and Execute in Google Colaboratory\"></a>"
      ]
    }
  ]
}