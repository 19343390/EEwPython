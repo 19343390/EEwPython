{
  "nbformat": 4,
  "nbformat_minor": 0,
  "metadata": {
    "colab": {
      "name": "ee_Image.ipynb",
      "version": "0.3.2",
      "provenance": [],
      "collapsed_sections": [
        "h-SbkLxfVRa7",
        "u789tt7jtFcI",
        "FfGsJdAhQDgz",
        "EB8yxPAjQJld",
        "gkvA7TdFQZRd",
        "ZZtzMQJEQeAw",
        "DLjJaMMGF68U",
        "eXfJJwRRQnRU",
        "QOxDtzd5tm5u",
        "M2ltWjMZ8c3j",
        "wt2yKCqp-5KE",
        "WNudwwQbEl7J",
        "P3AFSmaXIe_R",
        "3jgKaKuwMzGH",
        "1_5_VmRbPb4D",
        "a4SthZpi4kYt",
        "JTwFpEYGw4BB",
        "lxGo2vW2w-hD",
        "Xt-Xj7tVzVzV"
      ],
      "toc_visible": true
    },
    "kernelspec": {
      "name": "python3",
      "display_name": "Python 3"
    }
  },
  "cells": [
    {
      "cell_type": "markdown",
      "metadata": {
        "id": "_rUp3DC76g8u",
        "colab_type": "text"
      },
      "source": [
        "<!--COURSE_INFORMATION-->\n",
        "<img align=\"left\" style=\"padding-right:10px;\" src=\"https://sitejerk.com/images/google-earth-logo-png-5.png\" width=5% >\n",
        "<img align=\"right\" style=\"padding-left:10px;\" src=\"https://colab.research.google.com/img/colab_favicon_256px.png\" width=6% >\n",
        "\n",
        "\n",
        ">> *This notebook is part of the free course [EEwPython](https://colab.research.google.com/github/csaybar/EEwPython/blob/master/index.ipynb); the content is available [on GitHub](https://github.com/csaybar/EEwPython)* and released under the [Apache 2.0 License](https://www.gnu.org/licenses/gpl-3.0.en.html). 99% of this material has been adapted from [Google Earth Engine Guides](https://developers.google.com/earth-engine/)."
      ]
    },
    {
      "cell_type": "markdown",
      "metadata": {
        "id": "g-iMfR17vqXj",
        "colab_type": "text"
      },
      "source": [
        "<!--NAVIGATION-->\n",
        " < [Developer's Guide](1_Introduction.ipynb) | [Contents](index.ipynb) |  [ImageCollection](3_eeImageCollection.ipynb)>\n",
        "\n",
        "<a href=\"https://colab.research.google.com/github/csaybar/EEwPython/blob/master/3_eeImageCollection.ipynb\"><img align=\"left\" src=\"https://colab.research.google.com/assets/colab-badge.svg\" alt=\"Open in Colab\" title=\"Open and Execute in Google Colaboratory\"></a>"
      ]
    },
    {
      "cell_type": "markdown",
      "metadata": {
        "id": "bwe6E7bEnVLa",
        "colab_type": "text"
      },
      "source": [
        "<center>\n",
        "<h1>Google Earth Engine with Python </h1>\n",
        "<h2> ee.Image</h2>\n",
        "</center>\n",
        "<h2> Topics:</h2>\n",
        "\n",
        "1. Image Overview\n",
        "2. Image Visualization\n",
        "3. Image information and metadata\n",
        "4. Mathematical Expressions\n",
        "5. Relational, conditional and Boolean operations\n",
        "6. Convolutions\n",
        "7. Morphological Operations\n",
        "8. Gradients\n",
        "9. Edge Detection\n",
        "10. Spectral Transformations\n",
        "11. Texture\n",
        "12. Object-based Methods\n",
        "13. Cumulative Cost Mapping\n",
        "14. Registering Images"
      ]
    },
    {
      "cell_type": "markdown",
      "metadata": {
        "id": "h-SbkLxfVRa7",
        "colab_type": "text"
      },
      "source": [
        "# ee.Image"
      ]
    },
    {
      "cell_type": "markdown",
      "metadata": {
        "id": "VxW_4vQjg6tr",
        "colab_type": "text"
      },
      "source": [
        "Raster data are represented as Image objects in Earth Engine. Images are composed of one or more bands and each band has its own name, data type, scale, mask and projection. Each image can have metadata stored as a set of properties (Dictionary)."
      ]
    },
    {
      "cell_type": "markdown",
      "metadata": {
        "id": "u789tt7jtFcI",
        "colab_type": "text"
      },
      "source": [
        "### Connecting GEE and Colab"
      ]
    },
    {
      "cell_type": "markdown",
      "metadata": {
        "id": "p2d64Hzi8NNT",
        "colab_type": "text"
      },
      "source": [
        "- **Colab & Google Drive synchronization**"
      ]
    },
    {
      "cell_type": "code",
      "metadata": {
        "id": "vS2vm3h5-jbz",
        "colab_type": "code",
        "colab": {}
      },
      "source": [
        "from google.colab import drive\n",
        "drive.mount('/content/drive')"
      ],
      "execution_count": 0,
      "outputs": []
    },
    {
      "cell_type": "markdown",
      "metadata": {
        "id": "0UH2asC7CB1N",
        "colab_type": "text"
      },
      "source": [
        "- **Colab & Earth Engine synchronization**"
      ]
    },
    {
      "cell_type": "code",
      "metadata": {
        "id": "ZGbB_ztw-jwR",
        "colab_type": "code",
        "colab": {}
      },
      "source": [
        "!pip install earthengine-api #Firstly we need the earth-engine API"
      ],
      "execution_count": 0,
      "outputs": []
    },
    {
      "cell_type": "code",
      "metadata": {
        "id": "B3ed9DzvCPEU",
        "colab_type": "code",
        "colab": {}
      },
      "source": [
        "!earthengine authenticate "
      ],
      "execution_count": 0,
      "outputs": []
    },
    {
      "cell_type": "code",
      "metadata": {
        "id": "-fHzvUqJCW9k",
        "colab_type": "code",
        "colab": {}
      },
      "source": [
        "import ee\n",
        "ee.Initialize()"
      ],
      "execution_count": 0,
      "outputs": []
    },
    {
      "cell_type": "markdown",
      "metadata": {
        "id": "WZf_1vPEX3K0",
        "colab_type": "text"
      },
      "source": [
        "-  **Folium**\n",
        "\n"
      ]
    },
    {
      "cell_type": "code",
      "metadata": {
        "id": "qhYzUWrCYBrr",
        "colab_type": "code",
        "colab": {}
      },
      "source": [
        "import folium, math\n",
        "EE_TILES = 'https://earthengine.googleapis.com/map/{mapid}/{{z}}/{{x}}/{{y}}?token={token}'"
      ],
      "execution_count": 0,
      "outputs": []
    },
    {
      "cell_type": "code",
      "metadata": {
        "id": "LVFoIUV3kUQg",
        "colab_type": "code",
        "colab": {}
      },
      "source": [
        "def displayFollium(center, dicc, Tiles=\"OpensTreetMap\",zoom_start=10):\n",
        "    '''\n",
        "    :param center: Center of the map (Latitude and Longitude).\n",
        "    :param dicc: Earth Engine Geometries or Tiles dictionary\n",
        "    :param Tiles: Mapbox Bright,Mapbox Control Room,Stamen Terrain,Stamen Toner,stamenwatercolor,cartodbpositron.\n",
        "    :zoom_start: Initial zoom level for the map.\n",
        "    :return: A folium.Map object.\n",
        "    '''\n",
        "    mapViz = folium.Map(location=coords,tiles=Tiles, zoom_start=zoom_start)\n",
        "    for k,v in dicc.items():\n",
        "      if ee.image.Image in [type(x) for x in v.values()]:\n",
        "        folium.TileLayer(\n",
        "            tiles = EE_TILES.format(**v),\n",
        "            attr  = 'Google Earth Engine',\n",
        "            overlay =True,\n",
        "            name  = k\n",
        "          ).add_to(mapViz)\n",
        "      else:\n",
        "        folium.GeoJson(\n",
        "        data = v,\n",
        "        name = k\n",
        "          ).add_to(mapViz)\n",
        "    mapViz.add_child(folium.LayerControl())\n",
        "    return mapViz"
      ],
      "execution_count": 0,
      "outputs": []
    },
    {
      "cell_type": "markdown",
      "metadata": {
        "id": "FfGsJdAhQDgz",
        "colab_type": "text"
      },
      "source": [
        "# 1. Image Overview"
      ]
    },
    {
      "cell_type": "markdown",
      "metadata": {
        "id": "qfJ5hLl5tNzh",
        "colab_type": "text"
      },
      "source": [
        "\n",
        "\n",
        "In addition to loading images from the archive by an **image ID**, you can also create images from constants, lists or other suitable Earth Engine objects. This section illustrates methods for creating images, getting band subsets, and manipulating bands.\n",
        "\n",
        "Methods that you will use in this seccion:\n",
        " - **ee.Image.cat**\n",
        " - **ee.Image.addBands**\n",
        " - **ee.Image.Select**"
      ]
    },
    {
      "cell_type": "code",
      "metadata": {
        "id": "JL8bXuLov_hE",
        "colab_type": "code",
        "colab": {}
      },
      "source": [
        "# 2.1 Create a constant image.\n",
        "image1 = ee.Image(1)\n",
        "print(image1,'\\n')\n",
        "image1.getInfo()"
      ],
      "execution_count": 0,
      "outputs": []
    },
    {
      "cell_type": "markdown",
      "metadata": {
        "id": "z0sBOUeEkeS5",
        "colab_type": "text"
      },
      "source": [
        "- **ee.Image.cat(list)**: Concatenate the given images together into a single image.\n",
        "\n",
        "  "
      ]
    },
    {
      "cell_type": "code",
      "metadata": {
        "id": "8emZLqwWhsAE",
        "colab_type": "code",
        "colab": {}
      },
      "source": [
        "#2.2 Concatenate two images into one multi-band image.\n",
        "image2 = ee.Image(2)\n",
        "image3 = ee.Image.cat([image1, image2])\n",
        "print(image3,'\\n')\n",
        "image3.getInfo()"
      ],
      "execution_count": 0,
      "outputs": []
    },
    {
      "cell_type": "code",
      "metadata": {
        "id": "TLw4Ghd3h9MD",
        "colab_type": "code",
        "colab": {}
      },
      "source": [
        "# Create a multi-band image from a list of constants.\n",
        "multiband = ee.Image([1, 2, 3])\n",
        "print(multiband,'\\n')\n",
        "multiband.getInfo()"
      ],
      "execution_count": 0,
      "outputs": []
    },
    {
      "cell_type": "code",
      "metadata": {
        "id": "3KpTZWqKh-gV",
        "colab_type": "code",
        "colab": {}
      },
      "source": [
        "# Select and (optionally) rename bands.\n",
        "renamed = multiband.select(['constant', 'constant_1', 'constant_2'],\n",
        "                           ['band1', 'band2', 'band3'])\n",
        "print(renamed)"
      ],
      "execution_count": 0,
      "outputs": []
    },
    {
      "cell_type": "markdown",
      "metadata": {
        "id": "Fffx7suImrOh",
        "colab_type": "text"
      },
      "source": [
        "- **ee.Image.addBands**: Returns an image containing all bands copied from the first input and selected bands from the second input, optionally overwriting bands in the first image with the same name. The new image has the metadata and footprint from the first input image"
      ]
    },
    {
      "cell_type": "code",
      "metadata": {
        "id": "CIHOje0qh_r1",
        "colab_type": "code",
        "colab": {}
      },
      "source": [
        "# Add bands to an image.\n",
        "image4 = image3.addBands(ee.Image(42))\n",
        "print(image4)"
      ],
      "execution_count": 0,
      "outputs": []
    },
    {
      "cell_type": "markdown",
      "metadata": {
        "id": "EB8yxPAjQJld",
        "colab_type": "text"
      },
      "source": [
        "# 2. Image Vizualization"
      ]
    },
    {
      "cell_type": "markdown",
      "metadata": {
        "id": "FdD1dnNInVuw",
        "colab_type": "text"
      },
      "source": [
        "The Python API  a difference than the Code Editor do not support interactive vizualization (**Map.addLayer**). To achieve desirable visualization effects you could use **ee.Image.getThumbURL** in replacement of Map.addLayer. Both  ee.Image.getThumbURL and Map.addLayer have the same parameters:\n",
        "\n",
        "\n",
        "\n",
        "Parameter | Description | Type\n",
        "--------------|-------------|-------------\n",
        "bands\t| Comma-delimited list of three band names to be mapped to RGB| list\n",
        "min|\tValue(s) to map to 0\tnumber or list of three numbers, one for each |band\n",
        "max|\tValue(s) to map to 255\t|number or list of three numbers, one for each band\n",
        "gain|\tValue(s) by which to multiply each pixel value|\tnumber or list of three numbers, one for each band\n",
        "bias|\tValue(s) to add to each DN\t| number or list of three numbers, one for each band\n",
        "gamma|\tGamma correction factor(s)\t| number or list of three numbers, one for each band\n",
        "palette|\tList of CSS-style color strings (single-band images only)\t|comma-separated list of hex strings\n",
        "opacity|\tThe opacity of the layer (0.0 is fully transparent and 1.0 is fully opaque)\t| number\n",
        "format|\tEither \"jpg\" or \"png\"\t|string"
      ]
    },
    {
      "cell_type": "code",
      "metadata": {
        "id": "3U6Gcw4Ing2m",
        "colab_type": "code",
        "colab": {}
      },
      "source": [
        "# Load an image.\n",
        "image = ee.Image('LANDSAT/LC08/C01/T1_TOA/LC08_044034_20140318')\n",
        "\n",
        "mapid = image.getMapId({\n",
        "    'bands': ['B4', 'B3', 'B2'], \n",
        "    'min': 0, \n",
        "    'max': 0.3})\n",
        "\n",
        "mapViz = folium.Map(location=[38., -122.5])\n",
        "\n",
        "folium.TileLayer(\n",
        "    tiles=EE_TILES.format(**mapid),\n",
        "    attr='Google Earth Engine',\n",
        "    overlay=True,\n",
        "    name='median composite',\n",
        "  ).add_to(mapViz)\n",
        "mapViz.add_child(folium.LayerControl())\n",
        "mapViz"
      ],
      "execution_count": 0,
      "outputs": []
    },
    {
      "cell_type": "markdown",
      "metadata": {
        "id": "AlsSAlP11WZS",
        "colab_type": "text"
      },
      "source": [
        "## Masking\n",
        "\n",
        "You can use **`image.updateMask()`** to set the opacity of individual pixels based on where pixels in a mask image are non-zero. Pixels equal to zero in the mask are excluded from computations and the opacity is set to 0 for display. The following example uses an NDWI threshold (see the [Relational Operations section]() for information on thresholds) to update the mask on the NDWI layer created previously:\n",
        "\n"
      ]
    },
    {
      "cell_type": "code",
      "metadata": {
        "id": "frBqSRZr1gBh",
        "colab_type": "code",
        "colab": {}
      },
      "source": [
        "# Load an image.\n",
        "image = ee.Image('LANDSAT/LC08/C01/T1_TOA/LC08_044034_20140318')\n",
        "\n",
        "# Create an NDWI image, define visualization parameters and display.\n",
        "ndwi = image.normalizedDifference(['B3', 'B5'])\n",
        "\n",
        "# Mask the non-watery parts of the image, where NDWI < 0.4.\n",
        "ndwiMasked = ndwi.updateMask(ndwi.gte(0.4))\n",
        "ndwiId = ndwiMasked.getMapId({'min': 0.5, 'max': 1, 'palette': ['00FFFF', '0000FF']})\n",
        "\n",
        "mapViz = folium.Map(location=[38., -122.5])\n",
        "\n",
        "folium.TileLayer(\n",
        "    tiles=EE_TILES.format(**ndwiId),\n",
        "    attr='Google Earth Engine',\n",
        "    overlay=True,\n",
        "    name='NDWI masked',\n",
        "  ).add_to(mapViz)\n",
        "mapViz.add_child(folium.LayerControl())\n",
        "mapViz"
      ],
      "execution_count": 0,
      "outputs": []
    },
    {
      "cell_type": "markdown",
      "metadata": {
        "id": "SrMMdKzj4xqu",
        "colab_type": "text"
      },
      "source": [
        "## Clipping\n",
        "\n",
        "The **`image.clip()`** method is useful for achieving cartographic effects. The following example clips the Image **RGB_SF**."
      ]
    },
    {
      "cell_type": "code",
      "metadata": {
        "id": "jpIuRQz15McL",
        "colab_type": "code",
        "colab": {}
      },
      "source": [
        "# Create a circle by drawing a 20000 meter buffer around a point.\n",
        "roi = ee.Geometry.Point([-122.4481, 37.7599]).buffer(20000)\n",
        "\n",
        "mapRoi = image.clip(roi)\n",
        "mapId = mapRoi.getMapId()\n",
        "\n",
        "mapViz = folium.Map(location=[38., -122.5])\n",
        "\n",
        "folium.TileLayer(\n",
        "    tiles=EE_TILES.format(**mapId),\n",
        "    attr='Google Earth Engine',\n",
        "    overlay=True,\n",
        "    name='Mosaic',\n",
        "  ).add_to(mapViz)\n",
        "mapViz.add_child(folium.LayerControl())\n",
        "mapViz"
      ],
      "execution_count": 0,
      "outputs": []
    },
    {
      "cell_type": "markdown",
      "metadata": {
        "id": "T_xUM23o5eBo",
        "colab_type": "text"
      },
      "source": [
        "## Rendering categorical maps\n",
        "\n",
        "Palettes are also useful for rendering discrete valued maps, for example a land cover map. In the case of multiple classes, use the palette to supply a different color for each class. (The **`image.remap()`** method may be useful in this context, to convert arbitrary labels to consecutive integers). The following example uses a palette to render land cover categories:\n",
        "\n"
      ]
    },
    {
      "cell_type": "code",
      "metadata": {
        "id": "wJqDl2S65hvw",
        "colab_type": "code",
        "colab": {}
      },
      "source": [
        "cover = ee.Image('MODIS/051/MCD12Q1/2012_01_01').select('Land_Cover_Type_1')\n",
        "\n",
        "# Define a palette for the 18 distinct land cover classes.\n",
        "igbpPalette = [\n",
        "  'aec3d4', # water\n",
        "  '152106', '225129', '369b47', '30eb5b', '387242', # forest\n",
        "  '6a2325', 'c3aa69', 'b76031', 'd9903d', '91af40',  # shrub, grass\n",
        "  '111149', # wetlands\n",
        "  'cdb33b', # croplands\n",
        "  'cc0013', # urban\n",
        "  '33280d', # crop mosaic\n",
        "  'd7cdcc', # snow and ice\n",
        "  'f7e084', # barren\n",
        "  '6f6f6f'  # tundra\n",
        "]\n",
        "\n",
        "# Specify the min and max labels and the color palette matching the labels.\n",
        "vizParams = {'min': 0,\n",
        "             'max': 17,\n",
        "             'palette': igbpPalette}\n",
        "\n",
        "mapId = cover.getMapId(vizParams)\n",
        "\n",
        "mapViz = folium.Map(location=[38., -122.5])\n",
        "\n",
        "folium.TileLayer(\n",
        "    tiles=EE_TILES.format(**mapId),\n",
        "    attr='Google Earth Engine',\n",
        "    overlay=True,\n",
        "    name='Mosaic',\n",
        "  ).add_to(mapViz)\n",
        "mapViz.add_child(folium.LayerControl())\n",
        "mapViz"
      ],
      "execution_count": 0,
      "outputs": []
    },
    {
      "cell_type": "markdown",
      "metadata": {
        "id": "gkvA7TdFQZRd",
        "colab_type": "text"
      },
      "source": [
        "# 3. Image information and metadata"
      ]
    },
    {
      "cell_type": "markdown",
      "metadata": {
        "id": "QInLa5g88rUG",
        "colab_type": "text"
      },
      "source": [
        "To explore image bands and properties in the Python API, getInfo() the image and inspect the output in the console. This information can also be accessed programmatically. For example, the following demonstrates how to access information about bands, projections and other metadata:\n",
        "\n",
        "\n"
      ]
    },
    {
      "cell_type": "code",
      "metadata": {
        "id": "29eygRFu8id7",
        "colab_type": "code",
        "colab": {}
      },
      "source": [
        "# Load an image.\n",
        "image = ee.Image('LANDSAT/LC08/C01/T1/LC08_044034_20140318')\n",
        "\n",
        "# Get information about the bands as a list.\n",
        "bandNames = image.bandNames()\n",
        "print('Band names: ', bandNames.getInfo()) # ee.List of band names"
      ],
      "execution_count": 0,
      "outputs": []
    },
    {
      "cell_type": "code",
      "metadata": {
        "id": "gT2sTonS-67R",
        "colab_type": "code",
        "colab": {}
      },
      "source": [
        "# Get projection information from band 1.\n",
        "b1proj = image.select('B1').projection()\n",
        "print('Band 1 projection: \\n', b1proj.getInfo()) # ee.Projection object"
      ],
      "execution_count": 0,
      "outputs": []
    },
    {
      "cell_type": "code",
      "metadata": {
        "id": "VOv5uU7D-8P6",
        "colab_type": "code",
        "colab": {}
      },
      "source": [
        "# Get scale (in meters) information from band 1.\n",
        "b1scale = image.select('B1').projection().nominalScale()\n",
        "print('Band 1 scale: \\n', b1scale.getInfo()) # ee.Number"
      ],
      "execution_count": 0,
      "outputs": []
    },
    {
      "cell_type": "code",
      "metadata": {
        "id": "ME1zxhV6-9GV",
        "colab_type": "code",
        "colab": {}
      },
      "source": [
        "# Note that different bands can have different projections and scale.\n",
        "b8scale = image.select('B8').projection().nominalScale()\n",
        "print('Band 8 scale: \\n', b8scale.getInfo()) # ee.Number"
      ],
      "execution_count": 0,
      "outputs": []
    },
    {
      "cell_type": "code",
      "metadata": {
        "id": "-pEdDfTV--OA",
        "colab_type": "code",
        "colab": {}
      },
      "source": [
        "# Get a list of all metadata properties.\n",
        "properties = image.propertyNames()\n",
        "print('Metadata properties:', ) \n",
        "properties.getInfo() # ee.List of metadata properties"
      ],
      "execution_count": 0,
      "outputs": []
    },
    {
      "cell_type": "code",
      "metadata": {
        "id": "SJIOLkne-_MA",
        "colab_type": "code",
        "colab": {}
      },
      "source": [
        "# Get a specific metadata property.\n",
        "cloudiness = image.get('CLOUD_COVER')\n",
        "print('CLOUD_COVER: ')\n",
        "cloudiness.getInfo() # ee.Number"
      ],
      "execution_count": 0,
      "outputs": []
    },
    {
      "cell_type": "code",
      "metadata": {
        "id": "-XrdBSXs_AR5",
        "colab_type": "code",
        "colab": {}
      },
      "source": [
        "from datetime import datetime as dt\n",
        "\n",
        "# Get the timestamp and convert it to a date.\n",
        "date = ee.Date(image.get('system:time_start'))\n",
        "# We divide by 1000 because Earth Engine returns the timestamp in milisecond and Python in seconds.\n",
        "tmstp = date.getInfo()['value']/1000 \n",
        "\n",
        "print('Timestamp:', dt.utcfromtimestamp(tmstp).strftime('%Y-%m-%d %H:%M:%S'))"
      ],
      "execution_count": 0,
      "outputs": []
    },
    {
      "cell_type": "markdown",
      "metadata": {
        "id": "9OOhM1j_BrYy",
        "colab_type": "text"
      },
      "source": [
        "Note that the results of these queries are **server-side objects**. When you use the method \\*.getInfo(), you request that information describing the object be sent from the server to your client. (Learn more about client vs. server in Earth Engine on this [page](https://developers.google.com/earth-engine/client_server)). \n",
        "\n"
      ]
    },
    {
      "cell_type": "markdown",
      "metadata": {
        "id": "ZZtzMQJEQeAw",
        "colab_type": "text"
      },
      "source": [
        "# 4. Mathematical Expressions"
      ]
    },
    {
      "cell_type": "markdown",
      "metadata": {
        "id": "5T1btubjBoLG",
        "colab_type": "text"
      },
      "source": [
        "Earth Engine supports many basic mathematical operators. They share some common features. **Earth Engine performs math operations per pixel**. When an operator is applied to an image, it's applied to each unmasked pixel of each band. In the case of operations on two images, the operation is only applied at the locations where pixels in both images are unmasked. Earth Engine automatically matches bands between images. When an operator is applied to two images, the images are expected to have the same number of bands so they can be matched pairwise. However, if one of the images has only a single band, it is matched with all of the bands in the other image, essentially replicating that band enough times to match the other image.\n",
        "\n",
        "\n",
        "For a simple example, consider the task of creating the Normalized Difference Vegetation Index (NDVI) using Landsat imagery:\n",
        "\n"
      ]
    },
    {
      "cell_type": "code",
      "metadata": {
        "id": "wKc4Ma-UChy2",
        "colab_type": "code",
        "colab": {}
      },
      "source": [
        "# Load two 5-year Landsat 7 composites.\n",
        "landsat1999 = ee.Image('LANDSAT/LE7_TOA_5YEAR/1999_2003')\n",
        "landsat2008 = ee.Image('LANDSAT/LE7_TOA_5YEAR/2008_2012')\n",
        "\n",
        "# Compute NDVI the hard way.\n",
        "ndvi1999 = landsat1999.select('B4')\\\n",
        "                      .subtract(landsat1999.select('B3'))\\\n",
        "                      .divide(landsat1999.select('B4').add(landsat1999.select('B3')))\n",
        "\n",
        "# Compute NDVI the easy way.\n",
        "ndvi2008 = landsat2008.normalizedDifference(['B4', 'B3'])\n",
        "\n",
        "#Vizualization\n",
        "ndwiViz = {'min': 0, 'max': 1, 'palette': ['FF0000', '00FF00']}\n",
        "Peru = ee.Geometry.Rectangle(-85, -20, -65,0) \n",
        "\n",
        "ndvi1999 = ndvi1999.clip(Peru)\n",
        "ndvi2008 = ndvi2008.clip(Peru)\n",
        "\n",
        "tiles = {\n",
        "    \"NDVI PERU 1999\": ndvi1999.getMapId(ndwiViz), \n",
        "    \"NDVI PERU 2008\": ndvi2008.getMapId(ndwiViz)\n",
        "}\n",
        "coords = [-12., -75.]\n",
        "displayFollium(coords, tiles)"
      ],
      "execution_count": 0,
      "outputs": []
    },
    {
      "cell_type": "markdown",
      "metadata": {
        "id": "DLjJaMMGF68U",
        "colab_type": "text"
      },
      "source": [
        "####  Expressions\n",
        "\n",
        "To implement more complex mathematical expressions, it may be more convenient to use **`image.expression()`**, which parses a text representation of a math operation. The following example uses **`expression()`** to compute the Enhanced Vegetation Index (EVI):"
      ]
    },
    {
      "cell_type": "code",
      "metadata": {
        "id": "LYxu202kFz85",
        "colab_type": "code",
        "colab": {}
      },
      "source": [
        "# Load a Landsat 8 image.\n",
        "image = ee.Image('LANDSAT/LC08/C01/T1_TOA/LC08_044034_20140318')\n",
        "\n",
        "# Compute the EVI using an expression.\n",
        "evi = image.expression(\n",
        "      '2.5 * ((NIR - RED) / (NIR + 6 * RED - 7.5 * BLUE + 1))', {\n",
        "      'NIR': image.select('B5'),\n",
        "      'RED': image.select('B4'),\n",
        "      'BLUE': image.select('B2')})\n",
        "\n",
        "Eviviz = {'min': 0, 'max': 1, 'palette': ['FF0000', '00FF00']}\n",
        "\n",
        "tiles = {\n",
        "    \"EVI 2014\": evi.getMapId(Eviviz)\n",
        "}\n",
        "coords = [37,-122]\n",
        "displayFollium(coords, tiles)"
      ],
      "execution_count": 0,
      "outputs": []
    },
    {
      "cell_type": "markdown",
      "metadata": {
        "id": "3MgoiRlGTtWG",
        "colab_type": "text"
      },
      "source": [
        "Observe that the first argument to expression is the textual representation of the math operation, the second argument is a dictionary where the keys are variable names used in the expression and the values are the image bands to which the variables should be mapped. Bands in the image may be referred to as `b(\"band name\")` or `b(index)`, for example `b(0)`, instead of providing the dictionary. Note that division functions as it does in Python: dividing two integers results in an integer. For example `10 / 20 = 0`. To change this behavior, multiply one of the operands by `1.0: 10 * 1.0 / 20 = 0.5`. Supported expression operators are listed in the following table.\n",
        "\n",
        " _ | _ | Operators for expression()\n",
        "--------------|-------------|-------------\n",
        "Arithmetic\t|+ - * / % **\t|Add, Subtract, Multiply, Divide, Modulus, Exponent\n",
        "Comparison\t| == != < > <= >= |\tEqual, Not Equal, Less Than, Greater than, etc.\n",
        "Logical |\t&& \\|\\| ! ^\t| And, Or, Not, Xor\n",
        "Ternary\t| ? :\t| If then else"
      ]
    },
    {
      "cell_type": "markdown",
      "metadata": {
        "id": "eXfJJwRRQnRU",
        "colab_type": "text"
      },
      "source": [
        "# 5. Relational, conditional and Boolean operations"
      ]
    },
    {
      "cell_type": "markdown",
      "metadata": {
        "id": "mn6nSZnrQnOp",
        "colab_type": "text"
      },
      "source": [
        "To perform per-pixel comparisons between images, use relational operators. To extract urbanized areas in an image, this example uses relational operators to threshold spectral indices, combining the thresholds with and():"
      ]
    },
    {
      "cell_type": "code",
      "metadata": {
        "id": "Bcb_qgvM3Q-a",
        "colab_type": "code",
        "colab": {}
      },
      "source": [
        "# Load a Landsat 8 image.\n",
        "image = ee.Image('LANDSAT/LC08/C01/T1_TOA/LC08_044034_20140318')\n",
        "\n",
        "# Create NDVI and NDWI spectral indices.\n",
        "ndvi = image.normalizedDifference(['B5', 'B4'])\n",
        "ndwi = image.normalizedDifference(['B3', 'B5'])\n",
        "\n",
        "# Create a binary layer using logical operations.\n",
        "bare = ndvi.lt(0.2).And(ndwi.lt(0))\n",
        "\n",
        "bare = bare.updateMask(bare)\n",
        "BareId = bare.getMapId()\n",
        "\n",
        "tiles = {\n",
        "    \"Bare\": BareId\n",
        "}\n",
        "coords = [37.7726, -122.3578]\n",
        "displayFollium(coords, tiles, \"Stamen Terrain\")"
      ],
      "execution_count": 0,
      "outputs": []
    },
    {
      "cell_type": "markdown",
      "metadata": {
        "id": "BXVPhUv3FBUI",
        "colab_type": "text"
      },
      "source": [
        "As illustrated by this example, the output of relational and boolean operators is either true (1) or false (0). To mask the 0's, you can mask the resultant binary image with itself. The result from the previous example should look something.\n",
        "\n"
      ]
    },
    {
      "cell_type": "markdown",
      "metadata": {
        "id": "MtCLrkVYFRn3",
        "colab_type": "text"
      },
      "source": [
        "The binary images that are returned by relational and boolean operators can be used with mathematical operators. This example creates zones of urbanization in a nighttime lights image using relational operators and image.add():\n",
        "\n"
      ]
    },
    {
      "cell_type": "code",
      "metadata": {
        "id": "0Srflh5jFcAE",
        "colab_type": "code",
        "colab": {}
      },
      "source": [
        "# Load a 2012 nightlights image.\n",
        "nl2012 = ee.Image('NOAA/DMSP-OLS/NIGHTTIME_LIGHTS/F182012')\n",
        "lights = nl2012.select('stable_lights')\n",
        "\n",
        "# Define arbitrary thresholds on the 6-bit stable lights band.\n",
        "zones = lights.gt(30).add(lights.gt(55)).add(lights.gt(62))\n",
        "\n",
        "# Display the thresholded image as three distinct zones near Paris.\n",
        "palette = ['000000', '0000FF', '00FF00', 'FF0000']\n",
        "coords = [48.8683, 2.373]\n",
        "\n",
        "# Map.addLayer(zones, {min: 0, max: 3, palette: palette}, 'development zones');\n",
        "zonesId = zones.getMapId({'min': 0, 'max': 3, 'palette': palette})\n",
        "\n",
        "tiles = {\n",
        "    \"Zonas\": zonesId\n",
        "}\n",
        "displayFollium(coords, tiles)"
      ],
      "execution_count": 0,
      "outputs": []
    },
    {
      "cell_type": "markdown",
      "metadata": {
        "id": "-9pRgxtuJW79",
        "colab_type": "text"
      },
      "source": [
        "Note that the code in the previous example is equivalent to using a ternary operator implemented by expression()\n"
      ]
    },
    {
      "cell_type": "code",
      "metadata": {
        "id": "HicEUye6Jchu",
        "colab_type": "code",
        "colab": {}
      },
      "source": [
        "zonesExp = nl2012.expression(\n",
        "    \"(b('stable_lights') > 62) ? 3: (b('stable_lights') > 55) ? 2: (b('stable_lights') > 30) ? 1: 0\"\n",
        ")\n",
        "\n",
        "zonesId = zonesExp.getMapId({'min': 0, 'max': 3, 'palette': palette})\n",
        "\n",
        "tiles = {\n",
        "    \"Zonas\": zonesId\n",
        "}\n",
        "\n",
        "displayFollium(coords, tiles)"
      ],
      "execution_count": 0,
      "outputs": []
    },
    {
      "cell_type": "markdown",
      "metadata": {
        "id": "jGIUEpVNMUMc",
        "colab_type": "text"
      },
      "source": [
        "Another way to implement conditional operations on images is with the image.where() operator. Consider the need to replace masked pixels with some other data. In the following example, cloudy pixels are replaced by pixels from a cloud-free image using where()"
      ]
    },
    {
      "cell_type": "code",
      "metadata": {
        "id": "CK9dJzHuNNso",
        "colab_type": "code",
        "colab": {}
      },
      "source": [
        "# Load a cloudy Landsat 8 image.\n",
        "image = ee.Image('LANDSAT/LC08/C01/T1_TOA/LC08_044034_20130603')\n",
        "\n",
        "# Load another image to replace the cloudy pixels.\n",
        "replacement = ee.Image('LANDSAT/LC08/C01/T1_TOA/LC08_044034_20130416')\n",
        "\n",
        "# Compute a cloud score band.\n",
        "cloud = ee.Algorithms.Landsat.simpleCloudScore(image).select('cloud')\n",
        "\n",
        "# Set cloudy pixels to the other image.\n",
        "replaced = image.where(cloud.gt(10), replacement)\n",
        "\n",
        "# Display the result.\n",
        "replacedId = replaced.getMapId({'bands': ['B5', 'B4', 'B3'], 'min': 0, 'max': 0.5})\n",
        "\n",
        "tiles = {\n",
        "    \"Clouds replaced\": replacedId\n",
        "}\n",
        "\n",
        "coords = [37.5419, -121.9872]\n",
        "displayFollium(coords, tiles)"
      ],
      "execution_count": 0,
      "outputs": []
    },
    {
      "cell_type": "markdown",
      "metadata": {
        "id": "1NnJrDesNmyq",
        "colab_type": "text"
      },
      "source": [
        "In this example, observe the use of the simpleCloudScore() algorithm. This algorithm ranks pixels by cloudiness on a scale of 0-100, with 100 most cloudy. Learn more about simpleCloudScore() on the Landsat Algorithms page."
      ]
    },
    {
      "cell_type": "markdown",
      "metadata": {
        "id": "QOxDtzd5tm5u",
        "colab_type": "text"
      },
      "source": [
        "# 6. Convolutions"
      ]
    },
    {
      "cell_type": "markdown",
      "metadata": {
        "id": "5YTQPZDGt5a5",
        "colab_type": "text"
      },
      "source": [
        "To perform linear convolutions on images, use **image.convolve()**. The only argument to convolve is an ee.Kernel which is specified by a shape and the weights in the kernel. Each pixel of the image output by **convolve()** is the linear combination of the kernel values and the input image pixels covered by the kernel. The kernels are applied to each band individually. For example, you might want to use a low-pass (smoothing) kernel to remove high-frequency information. The following illustrates a 15x15 low-pass kernel applied to a Landsat 8 image"
      ]
    },
    {
      "cell_type": "code",
      "metadata": {
        "id": "pNmxQNISt8iC",
        "colab_type": "code",
        "colab": {}
      },
      "source": [
        "# Load and display an image\n",
        "image   = ee.Image('LANDSAT/LC08/C01/T1_TOA/LC08_044034_20140318')\n",
        "\n",
        "# Define a boxcar or low-pass kernel\n",
        "boxcar  = ee.Kernel.square(7, 'pixels', True)\n",
        "\n",
        "# Smooth the image by convolving with the boxcar kernel\n",
        "smooth = image.convolve(boxcar)\n",
        "  \n",
        "tiles = {\n",
        "    \"input image\": image.getMapId({'bands': ['B5', 'B4', 'B3'], 'max': 0.5}),\n",
        "    \"smoothed\": smooth.getMapId({'bands': ['B5', 'B4', 'B3'], 'max': 0.5})\n",
        "}\n",
        "\n",
        "coords = [37.8694, -121.9785]\n",
        "displayFollium(coords, tiles, \"Stamen Terrain\")"
      ],
      "execution_count": 0,
      "outputs": []
    },
    {
      "cell_type": "markdown",
      "metadata": {
        "id": "dlqAjHwg1tJs",
        "colab_type": "text"
      },
      "source": [
        "The output of convolution with the low-pass filter should look something like figure on top. Observe that the arguments to the kernel determine its size and coefficients. Specifically, with the units parameter set to pixels, the radius parameter specifies the number of pixels from the center that the kernel will cover. If normalize is set to true, the kernel coefficients will sum to one. If the magnitude parameter is set, the kernel coefficients will be multiplied by the magnitude (if normalize is also true, the coefficients will sum to magnitude). If there is a negative value in any of the kernel coefficients, setting normalize to true will make the coefficients sum to zero."
      ]
    },
    {
      "cell_type": "markdown",
      "metadata": {
        "id": "GRDxW0Zb2H1H",
        "colab_type": "text"
      },
      "source": [
        "Use other kernels to achieve the desired image processing effect. This example uses a Laplacian kernel for isotropic edge detection"
      ]
    },
    {
      "cell_type": "code",
      "metadata": {
        "id": "HW-sijry2zio",
        "colab_type": "code",
        "colab": {}
      },
      "source": [
        "# Define a Laplacian, or edge-detection kernel.\n",
        "laplacian = ee.Kernel.laplacian8(normalize = False)\n",
        "\n",
        "# Apply the edge-detection kernel.\n",
        "edgy = image.convolve(laplacian)\n",
        "  \n",
        "tiles = {\n",
        "    \"edges\": edgy.getMapId({'bands': ['B5', 'B4', 'B3'], 'max': 0.5})\n",
        "}\n",
        "\n",
        "coords = [37.8694, -121.9785]\n",
        "displayFollium(coords, tiles, \"Stamen Terrain\")"
      ],
      "execution_count": 0,
      "outputs": []
    },
    {
      "cell_type": "markdown",
      "metadata": {
        "id": "wAc-Mdiz7RjG",
        "colab_type": "text"
      },
      "source": [
        "Note the format specifier in the visualization parameters. Earth Engine sends display tiles to the Code Editor in JPEG format for efficiency, however edge tiles are sent in PNG format to handle transparency of pixels outside the image boundary. When a visual discontinuity results, setting the format to PNG results in a consistent display. The result of convolving with the Laplacian edge detection kernel should look something like to figure on top.\n"
      ]
    },
    {
      "cell_type": "markdown",
      "metadata": {
        "id": "VEnanydb7djI",
        "colab_type": "text"
      },
      "source": [
        "There are also anisotropic edge detection kernels (e.g. Sobel, Prewitt, Roberts), the direction of which can be changed with kernel.rotate(). Other low pass kernels include a Gaussian kernel and kernels of various shape with uniform weights. To create kernels with arbitrarily defined weights and shape, use ee.Kernel.fixed(). For example, this code creates a 9x9 kernel of 1’s with a zero in the middle"
      ]
    },
    {
      "cell_type": "code",
      "metadata": {
        "id": "qb_fqctG8Bfl",
        "colab_type": "code",
        "colab": {}
      },
      "source": [
        "# Create a list of weights for a 9x9 kernel.\n",
        "lista = [1, 1, 1, 1, 1, 1, 1, 1, 1]\n",
        "# The center of the kernel is zero.\n",
        "centerList = [1, 1, 1, 1, 0, 1, 1, 1, 1]\n",
        "# Assemble a list of lists: the 9x9 kernel weights as a 2-D matrix.\n",
        "lists = [lista, lista, lista, lista, centerList, lista, lista, lista, lista]\n",
        "# Create the kernel from the weights.\n",
        "kernel = ee.Kernel.fixed(9, 9, lists, -4, -4, False)\n",
        "print(kernel)"
      ],
      "execution_count": 0,
      "outputs": []
    },
    {
      "cell_type": "markdown",
      "metadata": {
        "id": "M2ltWjMZ8c3j",
        "colab_type": "text"
      },
      "source": [
        "# 7. Morphological Operations"
      ]
    },
    {
      "cell_type": "markdown",
      "metadata": {
        "id": "zaCXHwaI8h3L",
        "colab_type": "text"
      },
      "source": [
        "Earth Engine implements morphological operations as focal operations, specifically focal_max(), focal_min(), focal_median(), and focal_mode() instance methods in the Image class. (These are shortcuts for the more general reduceNeighborhood(), which can input the pixels in a kernel to any reducer with a numeric output. See this page for more information on reducing neighborhoods). The morphological operators are useful for performing operations such as erosion, dilation, opening and closing. For example, to perform an opening operation, use focal_min() followed by focal_max()."
      ]
    },
    {
      "cell_type": "code",
      "metadata": {
        "id": "8VVPRBs281b2",
        "colab_type": "code",
        "colab": {}
      },
      "source": [
        "# Load a Landsat 8 image, select the NIR band, threshold, display.\n",
        "image = ee.Image('LANDSAT/LC08/C01/T1_TOA/LC08_044034_20140318').select(4).gt(0.2);\n",
        "\n",
        "# Define a kernel.\n",
        "kernel = ee.Kernel.circle(radius=1)\n",
        "\n",
        "# Perform an erosion followed by a dilation, display.\n",
        "opened = image.focal_min(kernel=kernel, iterations=2).focal_max(kernel=kernel, iterations=2)\n",
        "\n",
        "tiles = {\n",
        "    'NIR threshold': image.getMapId(),\n",
        "    'opened'       : opened.getMapId()\n",
        "}\n",
        "\n",
        "coords = [37.5010, -122.1899]\n",
        "displayFollium(coords, tiles, \"Stamen Terrain\")"
      ],
      "execution_count": 0,
      "outputs": []
    },
    {
      "cell_type": "markdown",
      "metadata": {
        "id": "IVw7b3fb-K6l",
        "colab_type": "text"
      },
      "source": [
        "Note that in the previous example, a kernel argument is provided to the morphological operator. The pixels covered by non-zero elements of the kernel are used in the computation. The iterations argument indicates how many times to apply the operator."
      ]
    },
    {
      "cell_type": "markdown",
      "metadata": {
        "id": "wt2yKCqp-5KE",
        "colab_type": "text"
      },
      "source": [
        "# 8. Gradients"
      ]
    },
    {
      "cell_type": "markdown",
      "metadata": {
        "id": "p-hKQ4H1_Aod",
        "colab_type": "text"
      },
      "source": [
        "You can compute the gradient of each band of an image with image.gradient(). For example, the following code computes the gradient magnitude and direction of the Landsat 8 panchromatic band"
      ]
    },
    {
      "cell_type": "code",
      "metadata": {
        "id": "RZ_FhBMs_Dfu",
        "colab_type": "code",
        "colab": {}
      },
      "source": [
        "# Load a Landsat 8 image and select the panchromatic band.\n",
        "image = ee.Image('LANDSAT/LC08/C01/T1/LC08_044034_20140318').select('B8');\n",
        "\n",
        "# Compute the image gradient in the X and Y directions.\n",
        "xyGrad = image.gradient();\n",
        "\n",
        "# Compute the magnitude of the gradient.\n",
        "gradient = xyGrad.select('x').pow(2).add(xyGrad.select('y').pow(2)).sqrt();\n",
        "\n",
        "# Compute the direction of the gradient.\n",
        "direction = xyGrad.select('y').atan2(xyGrad.select('x'));\n",
        "\n",
        "# Display the results.\n",
        "tiles = {\n",
        "    'direction': direction.getMapId({'min': -2, 'max': 2}),\n",
        "    'gradient' : opened.getMapId({'min': -7, 'max': 7})\n",
        "}\n",
        "\n",
        "coords = [37.7295, -122.054]\n",
        "displayFollium(coords, tiles, \"Stamen Terrain\")\n",
        "    "
      ],
      "execution_count": 0,
      "outputs": []
    },
    {
      "cell_type": "markdown",
      "metadata": {
        "id": "WNudwwQbEl7J",
        "colab_type": "text"
      },
      "source": [
        "# 9. Edge Detection"
      ]
    },
    {
      "cell_type": "markdown",
      "metadata": {
        "id": "ls450E2xEpJU",
        "colab_type": "text"
      },
      "source": [
        "Edge detection is applicable to a wide range of image processing tasks. In addition to the edge detection kernels described in the convolutions section, there are several specialized edge detection algorithms in Earth Engine. The Canny edge detection algorithm (Canny 1986) uses four separate filters to identify the diagonal, vertical, and horizontal edges. The calculation extracts the first derivative value for the horizontal and vertical directions and computes the gradient magnitude. Gradients of smaller magnitude are suppressed. To eliminate high-frequency noise, optionally pre-filter the image with a Gaussian kernel. \n",
        "\n"
      ]
    },
    {
      "cell_type": "code",
      "metadata": {
        "id": "4G4Xe5KrE3A4",
        "colab_type": "code",
        "colab": {}
      },
      "source": [
        "# Load a Landsat 8 image, select the panchromatic band.\n",
        "image = ee.Image('LANDSAT/LC08/C01/T1/LC08_044034_20140318').select('B8')\n",
        "\n",
        "canny = ee.Algorithms.CannyEdgeDetector(image=image, threshold=10, sigma=1);\n",
        "\n",
        "# Display the results.\n",
        "tiles = {\n",
        "    'canny': canny.getMapId()\n",
        "}\n",
        "\n",
        "coords = [37.7295, -122.054]\n",
        "displayFollium(coords, tiles, \"Stamen Terrain\")"
      ],
      "execution_count": 0,
      "outputs": []
    },
    {
      "cell_type": "markdown",
      "metadata": {
        "id": "Emh8HV0iGITg",
        "colab_type": "text"
      },
      "source": [
        "Note that the threshold parameter determines the minimum gradient magnitude and the sigma parameter is the standard deviation (SD) of a Gaussian pre-filter to remove high-frequency noise. For line extraction from an edge detector, Earth Engine implements the Hough transform (Duda and Hart 1972). Now extract lines from the Canny detector."
      ]
    },
    {
      "cell_type": "code",
      "metadata": {
        "id": "QVBFGPpTGMXg",
        "colab_type": "code",
        "colab": {}
      },
      "source": [
        "# Perform Hough transform of the Canny result and display.\n",
        "hough = ee.Algorithms.HoughTransform(canny, 256, 600, 100);\n",
        "\n",
        "# Display the results.\n",
        "tiles = {\n",
        "    'hough': hough.getMapId()\n",
        "}\n",
        "\n",
        "coords = [37.7295, -122.054]\n",
        "displayFollium(coords, tiles, \"Stamen Terrain\")"
      ],
      "execution_count": 0,
      "outputs": []
    },
    {
      "cell_type": "markdown",
      "metadata": {
        "id": "2ElQmG-qGomg",
        "colab_type": "text"
      },
      "source": [
        "Another specialized algorithm in Earth Engine is zeroCrossing(). A zero-crossing is defined as any pixel where the right, bottom, or diagonal bottom-right pixel has the opposite sign. If any of these pixels is of opposite sign, the current pixel is set to 1 (zero-crossing); otherwise it's set to zero. To detect edges, the zero-crossings algorithm can be applied to an estimate of the image second derivative. The following demonstrates using zeroCrossing() for edge detection."
      ]
    },
    {
      "cell_type": "code",
      "metadata": {
        "id": "kWgdQrCiGsdq",
        "colab_type": "code",
        "colab": {}
      },
      "source": [
        "# Load a Landsat 8 image, select the panchromatic band.\n",
        "image = ee.Image('LANDSAT/LC08/C01/T1/LC08_044034_20140318').select('B8')\n",
        "\n",
        "# Define a \"fat\" Gaussian kernel.\n",
        "fat = ee.Kernel.gaussian(\n",
        "  radius=3,\n",
        "  sigma=3,\n",
        "  units='pixels',\n",
        "  normalize=True,\n",
        "  magnitude=-1\n",
        ")\n",
        "\n",
        "# Define a \"skinny\" Gaussian kernel.\n",
        "skinny = ee.Kernel.gaussian(\n",
        "  radius=3,\n",
        "  sigma=1,\n",
        "  units='pixels',\n",
        "  normalize=True,\n",
        ")\n",
        "\n",
        "# Compute a difference-of-Gaussians (DOG) kernel.\n",
        "dog = fat.add(skinny)\n",
        "\n",
        "# Compute the zero crossings of the second derivative, display.\n",
        "zeroXings = image.convolve(dog).zeroCrossing()\n",
        "\n",
        "# Display the results.\n",
        "tiles = {\n",
        "    'image': image.getMapId({'max': 12000}),\n",
        "    'zero crossings': zeroXings.updateMask(zeroXings).getMapId({'palette': 'FF0000'})\n",
        "}\n",
        "\n",
        "coords = [37.7295, -122.054]\n",
        "displayFollium(coords, tiles, \"Stamen Terrain\")"
      ],
      "execution_count": 0,
      "outputs": []
    },
    {
      "cell_type": "markdown",
      "metadata": {
        "id": "u6dJ8oM6GofZ",
        "colab_type": "text"
      },
      "source": [
        "Zero-crossings output (red) with the Landsat 8 panchromatic band in the background for an area near the San Francisco, California airport (right)."
      ]
    },
    {
      "cell_type": "markdown",
      "metadata": {
        "id": "P3AFSmaXIe_R",
        "colab_type": "text"
      },
      "source": [
        "# 10. Spectral Transformations"
      ]
    },
    {
      "cell_type": "markdown",
      "metadata": {
        "id": "kM52sIVDIpmg",
        "colab_type": "text"
      },
      "source": [
        "There are several spectral transformation methods in Earth Engine. These include instance methods on images such as normalizedDifference(), unmix(), rgbToHsv() and hsvToRgb(). The latter two methods are useful for pan sharpening."
      ]
    },
    {
      "cell_type": "code",
      "metadata": {
        "id": "IUILJe_oIpGp",
        "colab_type": "code",
        "colab": {}
      },
      "source": [
        "# Load a Landsat 8 top-of-atmosphere reflectance image.\n",
        "image = ee.Image('LANDSAT/LC08/C01/T1_TOA/LC08_044034_20140318')\n",
        "\n",
        "# Convert the RGB bands to the HSV color space.\n",
        "hsv = image.select(['B4', 'B3', 'B2']).rgbToHsv()\n",
        "\n",
        "# Swap in the panchromatic band and convert back to RGB.\n",
        "sharpened = ee.Image.cat([\n",
        "  hsv.select('hue'), hsv.select('saturation'), image.select('B8')\n",
        "]).hsvToRgb()\n",
        "\n",
        "# Display the results.\n",
        "tiles = {\n",
        "    'rgb': image.getMapId({'bands': ['B4', 'B3', 'B2'], \n",
        "                           'min': 0, \n",
        "                           'max': 0.25, \n",
        "                           'gamma': [1.1, 1.1, 1]}),\n",
        "    'pan-sharpened': sharpened.getMapId({'min': 0, \n",
        "                                         'max': 0.25, \n",
        "                                         'gamma': [1.3, 1.3, 1.3]})\n",
        "}\n",
        "\n",
        "coords = [37.76664, -122.44829]\n",
        "displayFollium(coords, tiles, \"Stamen Terrain\")"
      ],
      "execution_count": 0,
      "outputs": []
    },
    {
      "cell_type": "markdown",
      "metadata": {
        "id": "9YI39K8tLy9R",
        "colab_type": "text"
      },
      "source": [
        "Spectral unmixing is implemented in Earth Engine as the image.unmix() method. (For more flexible methods, see the Array Transformations page). The following is an example of unmixing Landsat 5 with predetermined urban, vegetation and water endmembers."
      ]
    },
    {
      "cell_type": "code",
      "metadata": {
        "id": "8Ysg5KhUL5Pn",
        "colab_type": "code",
        "colab": {}
      },
      "source": [
        "# Load a Landsat 5 image and select the bands we want to unmix.\n",
        "bands = ['B1', 'B2', 'B3', 'B4', 'B5', 'B6', 'B7'];\n",
        "image = ee.Image('LANDSAT/LT05/C01/T1/LT05_044034_20080214').select(bands)\n",
        "\n",
        "# Define spectral endmembers.\n",
        "urban = [88, 42, 48, 38, 86, 115, 59]\n",
        "veg = [50, 21, 20, 35, 50, 110, 23]\n",
        "water = [51, 20, 14, 9, 7, 116, 4]\n",
        "\n",
        "# Unmix the image.\n",
        "fractions = image.unmix([urban, veg, water])\n",
        "\n",
        "# Display the results.\n",
        "tiles = {\n",
        "    'image': image.getMapId({'bands': ['B4', 'B3', 'B2'], 'min': 0, 'max': 128}),\n",
        "    'unmixed': fractions.getMapId()\n",
        "}\n",
        "\n",
        "coords = [37.5010, -122.1899]\n",
        "displayFollium(coords, tiles, \"Stamen Terrain\")"
      ],
      "execution_count": 0,
      "outputs": []
    },
    {
      "cell_type": "markdown",
      "metadata": {
        "id": "gvEM-wYMMxlP",
        "colab_type": "text"
      },
      "source": [
        "The unmixing result should look something like figure on top.\n",
        "Landsat 5 imagery unmixed to urban (red), vegetation (green) and water (blue) fractions. San Francisco bay area, California, USA."
      ]
    },
    {
      "cell_type": "markdown",
      "metadata": {
        "id": "3jgKaKuwMzGH",
        "colab_type": "text"
      },
      "source": [
        "# 11. Texture"
      ]
    },
    {
      "cell_type": "markdown",
      "metadata": {
        "id": "uQiVJXeOM5C_",
        "colab_type": "text"
      },
      "source": [
        "Earth Engine has several special methods for estimating spatial texture. When the image is discrete valued (not floating point), you can use image.entropy() to compute the entropy in a neighborhood"
      ]
    },
    {
      "cell_type": "code",
      "metadata": {
        "id": "YocySh-AM4tw",
        "colab_type": "code",
        "colab": {}
      },
      "source": [
        "# Load a high-resolution NAIP image.\n",
        "image = ee.Image('USDA/NAIP/DOQQ/m_3712213_sw_10_1_20140613')\n",
        "\n",
        "# Get the NIR band.\n",
        "nir = image.select('N')\n",
        "\n",
        "# Define a neighborhood with a kernel.\n",
        "square = ee.Kernel.square(radius=4)\n",
        "\n",
        "# Compute entropy and display.\n",
        "entropy = nir.entropy(square)\n",
        "\n",
        "# Display the results.\n",
        "tiles = {\n",
        "    'image': image.getMapId({'max': 255}),\n",
        "    'entropy': entropy.getMapId({'min': 1, 'max': 5, 'palette': ['0000CC', 'CC0000']})\n",
        "}\n",
        "\n",
        "coords = [37.769833, -122.466123]\n",
        "displayFollium(coords, tiles, \"Stamen Terrain\")"
      ],
      "execution_count": 0,
      "outputs": []
    },
    {
      "cell_type": "markdown",
      "metadata": {
        "id": "WD7T0FyMNm8t",
        "colab_type": "text"
      },
      "source": [
        "Note that the NIR band is scaled to 8-bits prior to calling entropy() since the entropy computation takes discrete valued inputs. The non-zero elements in the kernel specify the neighborhood.\n",
        "\n",
        "Another way to measure texture is with a gray-level co-occurrence matrix (GLCM). Using the image and kernel from the previous example, compute the GLCM-based contrast as follows."
      ]
    },
    {
      "cell_type": "code",
      "metadata": {
        "id": "cUPAQQ_TNriI",
        "colab_type": "code",
        "colab": {}
      },
      "source": [
        "# Compute the gray-level co-occurrence matrix (GLCM), get contrast.\n",
        "glcm = nir.glcmTexture(size=4)\n",
        "contrast = glcm.select('N_contrast')\n",
        "\n",
        "# Display the results.\n",
        "tiles = {\n",
        "    'contrast': contrast.getMapId({'min': 0, 'max': 1500, 'palette': ['0000CC', 'CC0000']})\n",
        "}\n",
        "\n",
        "coords = [37.769833, -122.466123]\n",
        "displayFollium(coords, tiles, \"Stamen Terrain\")"
      ],
      "execution_count": 0,
      "outputs": []
    },
    {
      "cell_type": "markdown",
      "metadata": {
        "id": "ugKyH8kRONnB",
        "colab_type": "text"
      },
      "source": [
        "Many measures of texture are output by image.glcm(). For a complete reference on the outputs, see Haralick et al. (1973) and Conners et al. (1984).\n",
        "\n",
        "Local measures of spatial association such as Geary’s C (Anselin 1995) can be computed in Earth Engine using image.neighborhoodToBands(). "
      ]
    },
    {
      "cell_type": "code",
      "metadata": {
        "id": "L4hC0eBxOsM7",
        "colab_type": "code",
        "colab": {}
      },
      "source": [
        "import math\n",
        "# Create a list of weights for a 9x9 kernel.\n",
        "lista = [1, 1, 1, 1, 1, 1, 1, 1, 1]\n",
        "# The center of the kernel is zero.\n",
        "centerList = [1, 1, 1, 1, 0, 1, 1, 1, 1]\n",
        "# Assemble a list of lists: the 9x9 kernel weights as a 2-D matrix.\n",
        "lists = [lista, lista, lista, lista, centerList, lista, lista, lista, lista]\n",
        "# Create the kernel from the weights.\n",
        "# Non-zero weights represent the spatial neighborhood.\n",
        "kernel = ee.Kernel.fixed(9, 9, lists, -4, -4, False)\n",
        "\n",
        "# Convert the neighborhood into multiple bands.\n",
        "neighs = nir.neighborhoodToBands(kernel)\n",
        "\n",
        "# Compute local Geary's C, a measure of spatial association.\n",
        "gearys = nir.subtract(neighs).pow(2).reduce(ee.Reducer.sum()).divide(math.pow(9, 2))\n",
        "\n",
        "# Display the results.\n",
        "tiles = {\n",
        "    \"Geary's C\": gearys.getMapId({'min': 20, 'max': 2500, 'palette': ['0000CC', 'CC0000']})\n",
        "}\n",
        "\n",
        "coords = [37.769833, -122.466123]\n",
        "displayFollium(coords, tiles, \"Stamen Terrain\")"
      ],
      "execution_count": 0,
      "outputs": []
    },
    {
      "cell_type": "markdown",
      "metadata": {
        "id": "TjVevgO7O9Xe",
        "colab_type": "text"
      },
      "source": [
        "For an example of using neighborhood standard deviation to compute image texture, see the [Statistics of Image Neighborhoods](https://developers.google.com/earth-engine/reducers_reduce_neighborhood) page."
      ]
    },
    {
      "cell_type": "markdown",
      "metadata": {
        "id": "1_5_VmRbPb4D",
        "colab_type": "text"
      },
      "source": [
        "# 12. Object-based Methods"
      ]
    },
    {
      "cell_type": "markdown",
      "metadata": {
        "id": "WUfeysAvPhoD",
        "colab_type": "text"
      },
      "source": [
        "For treating landscape elements as objects, Earth Engine contains several methods. Specifically, when an image has distinct patches identified by unique pixel values, use image.connectedPixelCount() to compute the number of pixels in each patch and image.connectedComponents() to label each patch with a unique identifier. The unique identifiers can then be used to enumerate the patches and analyze the distribution of size or some other quality of interest. The following computes the size and unique identifiers of hot patches in a surface temperature image."
      ]
    },
    {
      "cell_type": "code",
      "metadata": {
        "id": "nyDUVZvyPyE6",
        "colab_type": "code",
        "colab": {}
      },
      "source": [
        "# Load a Landsat 8 image and display the thermal band.\n",
        "image = ee.Image('LANDSAT/LC08/C01/T1_TOA/LC08_044034_20140318')\n",
        "\n",
        "# Threshold the thermal band to find \"hot\" objects.\n",
        "hotspots = image.select('B10').gt(303)\n",
        "\n",
        "# Mask \"cold\" pixels.\n",
        "hotspots = hotspots.updateMask(hotspots)\n",
        "\n",
        "# Compute the number of pixels in each patch.\n",
        "patchsize = hotspots.connectedPixelCount(256, False)\n",
        "\n",
        "# Uniquely label the patches and visualize.\n",
        "patchid = hotspots.connectedComponents(ee.Kernel.plus(1), 256)\n",
        "    \n",
        "# Display the results.\n",
        "tiles = {\n",
        "    \"LST\": image.getMapId({'bands': ['B10'], 'min': 270, 'max': 310}),\n",
        "    \"hotspots\": hotspots.getMapId({'palette': 'FF0000'}),\n",
        "    \"patchsize\": patchsize.getMapId(),\n",
        "    \"patches\": patchid.getMapId()\n",
        "}\n",
        "\n",
        "coords = [37.5010, -122.1899]\n",
        "displayFollium(coords, tiles, \"Stamen Terrain\")"
      ],
      "execution_count": 0,
      "outputs": []
    },
    {
      "cell_type": "markdown",
      "metadata": {
        "id": "AHg6wTpm4fIc",
        "colab_type": "text"
      },
      "source": [
        "In the previous example, note that the maximum patch size is set to 256 pixels by the arguments to the connectedPixelCount() and connectedComponents() methods. The connectivity is also specified by the arguments, in the former method by a boolean and in the latter method by an ee.Kernel. In this example, only four neighbors are considered for each pixel.\n",
        "\n"
      ]
    },
    {
      "cell_type": "markdown",
      "metadata": {
        "id": "a4SthZpi4kYt",
        "colab_type": "text"
      },
      "source": [
        "# 13. Cumulative Cost Mapping"
      ]
    },
    {
      "cell_type": "markdown",
      "metadata": {
        "id": "mzGgoYNK4wVn",
        "colab_type": "text"
      },
      "source": [
        "Use image.cumulativeCost() to compute a cost map where every pixel contains the total cost of the lowest cost path to the nearest source location. This process is useful in a variety of contexts such as habitat analysis (Adriaensen et al. 2003), watershed delineation (Melles et al. 2011) and image segmentation (Falcao et al. 2004). Call the cumulative cost function on an image in which each pixel represents the cost per meter to traverse it. Paths are computed through any of a pixel's eight neighbors. Required inputs include a source image, in which each non-zero pixel represents a potential source (or start of a path), and a maxDistance (in meters) over which to compute paths. The algorithm finds the cumulative cost of all paths less than maxPixels = maxDistance/scale in length, where scale is the pixel resolution, or scale of analysis in Earth Engine.\n"
      ]
    },
    {
      "cell_type": "markdown",
      "metadata": {
        "id": "6_5sW6Gl42h2",
        "colab_type": "text"
      },
      "source": [
        "The following example demonstrates computing least-cost paths across a land cover image.\n"
      ]
    },
    {
      "cell_type": "code",
      "metadata": {
        "id": "GZ-1BSQQ44q8",
        "colab_type": "code",
        "colab": {}
      },
      "source": [
        "# A rectangle representing Bangui, Central African Republic.\n",
        "geometry = ee.Geometry.Rectangle([18.5229, 4.3491, 18.5833, 4.4066])\n",
        "\n",
        "# Create a source image where the geometry is 1, everything else is 0.\n",
        "sources = ee.Image().toByte().paint(geometry, 1)\n",
        "\n",
        "# Mask the sources image with itself.\n",
        "sources = sources.updateMask(sources)\n",
        "\n",
        "# The cost data is generated from classes in ESA/GLOBCOVER.\n",
        "cover = ee.Image('ESA/GLOBCOVER_L4_200901_200912_V2_3').select(0)\n",
        "\n",
        "# Classes 60, 80, 110, 140 have cost 1.\n",
        "# Classes 40, 90, 120, 130, 170 have cost 2.\n",
        "# Classes 50, 70, 150, 160 have cost 3.\n",
        "cost = cover.eq(60).Or(cover.eq(80)).Or(cover.eq(110)).Or(cover.eq(140)).multiply(1).add(cover.eq(40).Or(cover.eq(90)).Or(cover.eq(120)).Or(cover.eq(130)).Or(cover.eq(170)).multiply(2).add(cover.eq(50).Or(cover.eq(70)).Or(cover.eq(150)).Or(cover.eq(160)).multiply(3)))\n",
        "\n",
        "# Compute the cumulative cost to traverse the land cover.\n",
        "cumulativeCost = cost.cumulativeCost(\n",
        "  source = sources,\n",
        "  maxDistance = 80 * 1000 # 80 kilometers\n",
        ")\n",
        "\n",
        "dicc = {\n",
        "    'Globcover': cover.getMapId(),\n",
        "    'accumulated cost': cumulativeCost.getMapId({'min': 0, 'max': 5e4}),\n",
        "    \"source geometry\": geometry.getInfo()\n",
        "}\n",
        "\n",
        "# Display the results\n",
        "coords = [4.2, 18.71]\n",
        "displayFollium(coords, dicc, \"Stamen Terrain\", 10)"
      ],
      "execution_count": 0,
      "outputs": []
    },
    {
      "cell_type": "markdown",
      "metadata": {
        "id": "wUtWHg1IwT-E",
        "colab_type": "text"
      },
      "source": [
        "The top figure in which each output pixel represents the accumulated cost to the nearest source. Note that discontinuities can appear in places where the least cost path to the nearest source exceeds maxPixels in length."
      ]
    },
    {
      "cell_type": "markdown",
      "metadata": {
        "id": "ZacyAW9jwmOy",
        "colab_type": "text"
      },
      "source": [
        "The cumulative cost to the source pixels, where cost is determined by the land cover categories. Low costs are black, higher costs are white."
      ]
    },
    {
      "cell_type": "markdown",
      "metadata": {
        "id": "JTwFpEYGw4BB",
        "colab_type": "text"
      },
      "source": [
        "# 14. Registering Images"
      ]
    },
    {
      "cell_type": "markdown",
      "metadata": {
        "id": "QyWbaWWIQnL5",
        "colab_type": "text"
      },
      "source": [
        "The Earth Engine image registration algorithm is designed to be a final, post-ortho, fine-grained step in aligning images. It is assumed that the images to be registered have already gone through initial alignment stages, so they are already within a few degrees of rotation of one another, and differ by only small translations. The registration uses a “rubber-sheet” technique, allowing local image warping to correct for orthorectification errors and other artifacts from earlier processing. The underlying alignment technique is image correlation, so the bands for the input and reference images must be visually similar in order for the algorithm to compute an accurate alignment."
      ]
    },
    {
      "cell_type": "markdown",
      "metadata": {
        "id": "lxGo2vW2w-hD",
        "colab_type": "text"
      },
      "source": [
        "## Image displacement"
      ]
    },
    {
      "cell_type": "markdown",
      "metadata": {
        "id": "-F_TQkgjQnJS",
        "colab_type": "text"
      },
      "source": [
        "There are two steps to registering an image: Determining the displacement image using **displacement()**, and then applying it with **displace()**. The required inputs are the pair of images to register, and a maximum displacement parameter **(maxOffset)**.\n",
        "\n",
        "The **displacement()** algorithm takes a reference image, a maximum displacement parameter **(maxOffset)**, and two optional parameters that modify the algorithm behaviour. The output is a displacement image with bands **dx** and **dy** which give the X and Y components (in meters) of the displacement vector at each pixel.\n",
        "\n",
        "All bands of the calling and reference images are used for matching during registration, so the number of bands must be exactly equal. The input bands must be visually similar for registration to succeed. If that is not the case, it may be possible to pre-process them (e.g. smoothing, edge detection) to make them appear more similar. The registration computations are performed using a multiscale, coarse-to-fine process, with (multiscale) working projections that depend on three of the projections supplied to the algorithm:"
      ]
    },
    {
      "cell_type": "markdown",
      "metadata": {
        "id": "o1t55NRHQnGq",
        "colab_type": "text"
      },
      "source": [
        "1.   The default projection of the calling image (Pc)\n",
        "2.   The default projection of the reference image (Pr)\n",
        "3.   The output projection (Po)"
      ]
    },
    {
      "cell_type": "markdown",
      "metadata": {
        "id": "qmx9baLtxgGX",
        "colab_type": "text"
      },
      "source": [
        "The highest resolution working projection (*Pw* will be in the CRS of *Pr*, at a scale determined by the coarsest resolution of these 3 projections, to minimize computation. The results from Pr are then resampled to be in the projection specified by the input **'projection'** parameter."
      ]
    },
    {
      "cell_type": "markdown",
      "metadata": {
        "id": "ZP-57ygPxs8y",
        "colab_type": "text"
      },
      "source": [
        "The output is a displacement image with the following bands:\n",
        "\n",
        "**dx:**\n",
        "\n",
        "For a given reference image pixel location, this band contains the distance in the Y direction that must be travelled to arrive at the matching location in the calling image. Units are in geodesic meters.\n",
        "\n",
        "**dy:**\n",
        "\n",
        "For a given reference image pixel location, this band contains the distance in the Y direction that must be travelled to arrive at the matching location in the calling image. Units are in geodesic meters.\n",
        "\n",
        "**confidence:**\n",
        "\n",
        "This is a per-pixel estimate of displacement confidence (where 0 is low confidence and 1 is high confidence) based on the correlation scores in regions where valid matches were found. In regions where no matches were found, confidence is estimated from nearby correlations using a Gaussian kernel to provide higher weight to nearby correlations."
      ]
    },
    {
      "cell_type": "markdown",
      "metadata": {
        "id": "SOKCS_odx-EE",
        "colab_type": "text"
      },
      "source": [
        "The following example computes the magnitude and angle of displacement between two high-resolution Terra Bella images:"
      ]
    },
    {
      "cell_type": "code",
      "metadata": {
        "id": "7ZiUh3ugyEjp",
        "colab_type": "code",
        "colab": {}
      },
      "source": [
        "# Load the two images to be registered.\n",
        "image1 = ee.Image('SKYSAT/GEN-A/PUBLIC/ORTHO/MULTISPECTRAL/s01_20150502T082736Z')\n",
        "image2 = ee.Image('SKYSAT/GEN-A/PUBLIC/ORTHO/MULTISPECTRAL/s01_20150305T081019Z')\n",
        "\n",
        "# Use bicubic resampling during registration.\n",
        "image1Orig = image1.resample('bicubic')\n",
        "image2Orig = image2.resample('bicubic')\n",
        "\n",
        "# Choose to register using only the 'R' band.\n",
        "image1RedBand = image1Orig.select('R')\n",
        "image2RedBand = image2Orig.select('R')\n",
        "\n",
        "# Determine the displacement by matching only the 'R' bands.\n",
        "displacement = image2RedBand.displacement(\n",
        "  referenceImage = image1RedBand,\n",
        "  maxOffset  = 50.0,\n",
        "  patchWidth = 100.0\n",
        ")\n",
        "\n",
        "# Compute image offset and direction.\n",
        "offset = displacement.select('dx').hypot(displacement.select('dy'))\n",
        "angle = displacement.select('dx').atan2(displacement.select('dy'))\n",
        "\n",
        "dicc = {\n",
        "    'offset': offset.getMapId({'min':0, 'max': 20}),\n",
        "    'angle': angle.getMapId({'min': -math.pi, 'max': math.pi})\n",
        "}\n",
        "\n",
        "# Display the results\n",
        "coords = [0.58, 37.44]\n",
        "displayFollium(coords, dicc, \"Stamen Terrain\", 15)"
      ],
      "execution_count": 0,
      "outputs": []
    },
    {
      "cell_type": "markdown",
      "metadata": {
        "id": "Xt-Xj7tVzVzV",
        "colab_type": "text"
      },
      "source": [
        "## Warping an image"
      ]
    },
    {
      "cell_type": "markdown",
      "metadata": {
        "id": "NFKVWmXmzXHs",
        "colab_type": "text"
      },
      "source": [
        "There are two ways to warp an image to match another image: **displace()** or **register()**. The **displace()** algorithm takes a displacement image having **dx** and dy bands as the first two bands, and warps the image accordingly. The output image will be the result of warping the bands of the input image by the offsets present in the displacement image. Using the displacements computed in the previous example:"
      ]
    },
    {
      "cell_type": "code",
      "metadata": {
        "id": "dXZhlXp-zeU9",
        "colab_type": "code",
        "colab": {}
      },
      "source": [
        "# Use the computed displacement to register all original bands.\n",
        "registered = image2Orig.displace(displacement)\n",
        "\n",
        "# Show the results of co-registering the images.\n",
        "visParams = {'bands': ['R', 'G', 'B'], 'max': 4000}\n",
        "\n",
        "dicc = {\n",
        "    'Reference': image1Orig.getMapId(visParams),\n",
        "    'Before Registration': image2Orig.getMapId(visParams),\n",
        "    'After Registration':  registered.getMapId(visParams)\n",
        "}\n",
        "\n",
        "# Display the results\n",
        "coords = [0.58, 37.44]\n",
        "displayFollium(coords, dicc, \"Stamen Terrain\", 15)"
      ],
      "execution_count": 0,
      "outputs": []
    },
    {
      "cell_type": "markdown",
      "metadata": {
        "id": "Lp6R4VRf0Cli",
        "colab_type": "text"
      },
      "source": [
        "If you don't need the displacement bands, Earth Engine provides the **register()** method, which is a shortcut for calling **displacement()** followed by **displace()**."
      ]
    },
    {
      "cell_type": "code",
      "metadata": {
        "id": "j8LdqnMZ0GTD",
        "colab_type": "code",
        "colab": {}
      },
      "source": [
        "alsoRegistered = image2Orig.register(\n",
        "  referenceImage = image1Orig,\n",
        "  maxOffset = 50.0,\n",
        "  patchWidth = 100.0\n",
        ")\n",
        "\n",
        "dicc = {\n",
        "    'Also Registered': alsoRegistered.getMapId(visParams)\n",
        "}\n",
        "\n",
        "# Display the results\n",
        "coords = [0.58, 37.44]\n",
        "displayFollium(coords, dicc, zoom_start= 15)"
      ],
      "execution_count": 0,
      "outputs": []
    },
    {
      "cell_type": "markdown",
      "metadata": {
        "id": "8kvvneFM0pSp",
        "colab_type": "text"
      },
      "source": [
        "In this example, the results of **register()** differ from the results of **displace()**. This is because a different set of bands was used in the two approaches: **register()** always uses all bands of the input images, while the **displacement()** example used only the red band before feeding the result to **displace()**. Note that when multiple bands are used, if band variances are very different this could over-weight the high-variance bands, since the bands are jointly normalized when their spatial correlation scores are combined. This illustrates the importance of selecting band(s) that are visually the most similar when registering. As in the previous example, use **displacement()** and **displace()** for control over which bands are used to compute displacement."
      ]
    },
    {
      "cell_type": "markdown",
      "metadata": {
        "id": "vMCVgBFUp-mc",
        "colab_type": "text"
      },
      "source": [
        "<!--NAVIGATION-->\n",
        " < [Developer's Guide](1_Introduction.ipynb) | [Contents](index.ipynb) |  [ImageCollection](3_eeImageCollection.ipynb)>\n",
        "\n",
        "<a href=\"https://colab.research.google.com/github/csaybar/EEwPython/blob/master/3_eeImageCollection.ipynb\"><img align=\"left\" src=\"https://colab.research.google.com/assets/colab-badge.svg\" alt=\"Open in Colab\" title=\"Open and Execute in Google Colaboratory\"></a>"
      ]
    }
  ]
}