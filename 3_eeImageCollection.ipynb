{
  "nbformat": 4,
  "nbformat_minor": 0,
  "metadata": {
    "colab": {
      "name": "ee_ImageCollection.ipynb",
      "version": "0.3.2",
      "provenance": [],
      "collapsed_sections": [
        "wn46CWeD1fj8",
        "WZzMDoNFMQqj",
        "46iNcZViMhuq",
        "SRN5w_VqNRUU",
        "ufMTpJqnOWM5",
        "_2V04dYAPKQ-"
      ],
      "include_colab_link": true
    },
    "kernelspec": {
      "name": "python3",
      "display_name": "Python 3"
    }
  },
  "cells": [
    {
      "cell_type": "markdown",
      "metadata": {
        "id": "view-in-github",
        "colab_type": "text"
      },
      "source": [
        "<a href=\"https://colab.research.google.com/github/csaybar/EEwPython/blob/dev/ee_ImageCollection.ipynb\" target=\"_parent\"><img src=\"https://colab.research.google.com/assets/colab-badge.svg\" alt=\"Open In Colab\"/></a>"
      ]
    },
    {
      "cell_type": "markdown",
      "metadata": {
        "id": "wn46CWeD1fj8",
        "colab_type": "text"
      },
      "source": [
        "# ee.ImageCollection"
      ]
    },
    {
      "cell_type": "markdown",
      "metadata": {
        "id": "ZM8SYE4b1oEd",
        "colab_type": "text"
      },
      "source": [
        "An **ImageCollection** is a stack or time series of images. In addition to loading an **ImageCollection** using an Earth Engine collection ID, Earth Engine has methods to create image collections. The constructor **ee.ImageCollection()** or the convenience method **ee.ImageCollection.fromImages()** create image collections from lists of images. You can also create new image collections by merging existing collections."
      ]
    },
    {
      "cell_type": "markdown",
      "metadata": {
        "id": "WZzMDoNFMQqj",
        "colab_type": "text"
      },
      "source": [
        "### Connecting GEE and Colab"
      ]
    },
    {
      "cell_type": "markdown",
      "metadata": {
        "id": "yg5yf4UeMUNp",
        "colab_type": "text"
      },
      "source": [
        "- **Colab & Google Drive synchronization**"
      ]
    },
    {
      "cell_type": "code",
      "metadata": {
        "id": "yjagNoA5MVyu",
        "colab_type": "code",
        "colab": {}
      },
      "source": [
        "from google.colab import drive\n",
        "drive.mount('/content/drive')"
      ],
      "execution_count": 0,
      "outputs": []
    },
    {
      "cell_type": "markdown",
      "metadata": {
        "id": "HytVVE3PMYYB",
        "colab_type": "text"
      },
      "source": [
        "- **Colab & Earth Engine synchronization**"
      ]
    },
    {
      "cell_type": "code",
      "metadata": {
        "id": "Lb1cz-lZMaYB",
        "colab_type": "code",
        "colab": {}
      },
      "source": [
        "!pip install earthengine-api #Firstly we need the earth-engine API"
      ],
      "execution_count": 0,
      "outputs": []
    },
    {
      "cell_type": "code",
      "metadata": {
        "id": "WcmhCnxV1U0u",
        "colab_type": "code",
        "colab": {}
      },
      "source": [
        "!earthengine authenticate "
      ],
      "execution_count": 0,
      "outputs": []
    },
    {
      "cell_type": "code",
      "metadata": {
        "id": "s3wGdcS6Mdui",
        "colab_type": "code",
        "colab": {}
      },
      "source": [
        "import ee\n",
        "ee.Initialize()"
      ],
      "execution_count": 0,
      "outputs": []
    },
    {
      "cell_type": "markdown",
      "metadata": {
        "id": "fwamOxAuMfP6",
        "colab_type": "text"
      },
      "source": [
        "-  **Folium**"
      ]
    },
    {
      "cell_type": "code",
      "metadata": {
        "id": "6qMxZxObMjhj",
        "colab_type": "code",
        "colab": {}
      },
      "source": [
        "import folium, math\n",
        "EE_TILES = 'https://earthengine.googleapis.com/map/{mapid}/{{z}}/{{x}}/{{y}}?token={token}'"
      ],
      "execution_count": 0,
      "outputs": []
    },
    {
      "cell_type": "code",
      "metadata": {
        "id": "t2tnEtGVMk2y",
        "colab_type": "code",
        "colab": {}
      },
      "source": [
        "def displayFollium(center, dicc, Tiles=\"OpensTreetMap\",zoom_start=10):\n",
        "    '''\n",
        "    :param center: Center of the map (Latitude and Longitude).\n",
        "    :param dicc: Earth Engine Geometries or Tiles dictionary\n",
        "    :param Tiles: Mapbox Bright,Mapbox Control Room,Stamen Terrain,Stamen Toner,stamenwatercolor,cartodbpositron.\n",
        "    :zoom_start: Initial zoom level for the map.\n",
        "    :return: A folium.Map object.\n",
        "    '''\n",
        "    mapViz = folium.Map(location=coords,tiles=Tiles, zoom_start=zoom_start)\n",
        "    for k,v in dicc.items():\n",
        "      if ee.image.Image in [type(x) for x in v.values()]:\n",
        "        folium.TileLayer(\n",
        "            tiles = EE_TILES.format(**v),\n",
        "            attr  = 'Google Earth Engine',\n",
        "            overlay =True,\n",
        "            name  = k\n",
        "          ).add_to(mapViz)\n",
        "      else:\n",
        "        folium.GeoJson(\n",
        "        data = v,\n",
        "        name = k\n",
        "          ).add_to(mapViz)\n",
        "    mapViz.add_child(folium.LayerControl())\n",
        "    return mapViz"
      ],
      "execution_count": 0,
      "outputs": []
    },
    {
      "cell_type": "markdown",
      "metadata": {
        "id": "46iNcZViMhuq",
        "colab_type": "text"
      },
      "source": [
        "# 1. Image Collection Overview\n",
        "\n",
        "An `ImageCollection` is a **stack or time series of images**. In addition to loading an `ImageCollection` using an Earth Engine collection ID, Earth Engine has methods to create image collections. The constructor `ee.ImageCollection()` or the convenience method `ee.ImageCollection.fromImages()` create image collections from lists of images. You can also create new image collections by merging existing collections. For example:\n"
      ]
    },
    {
      "cell_type": "code",
      "metadata": {
        "id": "2MAaHWtYM20R",
        "colab_type": "code",
        "colab": {}
      },
      "source": [
        "# Create arbitrary constant images.\n",
        "constant1 = ee.Image(1)\n",
        "constant2 = ee.Image(2)\n",
        "\n",
        "# Create a collection by giving a list to the constructor.\n",
        "collectionFromConstructor = ee.ImageCollection([constant1, constant2])\n",
        "print('collectionFromConstructor: ')\n",
        "collectionFromConstructor.getInfo()"
      ],
      "execution_count": 0,
      "outputs": []
    },
    {
      "cell_type": "code",
      "metadata": {
        "id": "zq-2wOYAM7bw",
        "colab_type": "code",
        "colab": {}
      },
      "source": [
        "# Create a collection with fromImages().\n",
        "collectionFromImages = ee.ImageCollection.fromImages([ee.Image(3), ee.Image(4)])\n",
        "print('collectionFromImages: ')\n",
        "collectionFromImages.getInfo()"
      ],
      "execution_count": 0,
      "outputs": []
    },
    {
      "cell_type": "code",
      "metadata": {
        "id": "Rz3D_elIM8tA",
        "colab_type": "code",
        "colab": {}
      },
      "source": [
        "# Merge two collections.\n",
        "mergedCollection = collectionFromConstructor.merge(collectionFromImages)\n",
        "print('mergedCollection: ')\n",
        "mergedCollection.getInfo()"
      ],
      "execution_count": 0,
      "outputs": []
    },
    {
      "cell_type": "code",
      "metadata": {
        "id": "f1geuu5fM-Eg",
        "colab_type": "code",
        "colab": {}
      },
      "source": [
        "# Create a toy FeatureCollection\n",
        "features = ee.FeatureCollection(\n",
        "  [ee.Feature(None, {'foo': 1}), ee.Feature(None, {'foo': 2})])\n",
        "\n",
        "# Create an ImageCollection from the FeatureCollection\n",
        "# by mapping a function over the FeatureCollection.\n",
        "images = features.map(lambda feature:ee.Image(ee.Number(feature.get('foo'))))\n",
        "\n",
        "# Print the resultant collection.\n",
        "print('Image collection: ')\n",
        "images.getInfo()"
      ],
      "execution_count": 0,
      "outputs": []
    },
    {
      "cell_type": "markdown",
      "metadata": {
        "id": "WdRjFVu_M_4f",
        "colab_type": "text"
      },
      "source": [
        "Note that in this example an `ImageCollection` is created by mapping a function that returns an `Image` over a `FeatureCollection`. Learn more about mapping in the [Mapping over an ImageCollection section](https://developers.google.com/earth-engine/ic_mapping). Learn more about feature collections from the [FeatureCollection section](https://developers.google.com/earth-engine/feature_collections)."
      ]
    },
    {
      "cell_type": "markdown",
      "metadata": {
        "id": "SRN5w_VqNRUU",
        "colab_type": "text"
      },
      "source": [
        "# 2 . ImageCollection Information and Metadata\n",
        "\n",
        "As with Images, there are a variety of ways to get information about an ImageCollection. The collection can be printed directly to the console, but the console printout is **limited to 5000 elements**. Collections larger than 5000 images will need to be filtered before printing. Printing a large collection will be correspondingly slower. The following example shows various ways of getting information about image collections programmatically."
      ]
    },
    {
      "cell_type": "code",
      "metadata": {
        "id": "nxPzqAbzM9-O",
        "colab_type": "code",
        "colab": {}
      },
      "source": [
        "# Load a Landsat 8 ImageCollection for a single path-row.\n",
        "collection = ee.ImageCollection('LANDSAT/LC08/C01/T1_TOA')\\\n",
        "               .filter(ee.Filter.eq('WRS_PATH', 44))\\\n",
        "               .filter(ee.Filter.eq('WRS_ROW', 34))\\\n",
        "               .filterDate('2014-03-01', '2014-08-01')\n",
        "print('Collection: ')\n",
        "collection.getInfo()"
      ],
      "execution_count": 0,
      "outputs": []
    },
    {
      "cell_type": "code",
      "metadata": {
        "id": "zaAPnGOmNQFx",
        "colab_type": "code",
        "colab": {}
      },
      "source": [
        "# Get the number of images.\n",
        "count = collection.size()\n",
        "print('Count: ', count.getInfo())"
      ],
      "execution_count": 0,
      "outputs": []
    },
    {
      "cell_type": "code",
      "metadata": {
        "id": "rPeedHOqNas0",
        "colab_type": "code",
        "colab": {}
      },
      "source": [
        "from datetime import datetime as dt\n",
        "# Get the date range of images in the collection.\n",
        "rango = collection.reduceColumns(ee.Reducer.minMax(), [\"system:time_start\"])\n",
        "\n",
        "# Passing numeric date to standard\n",
        "init_date = ee.Date(rango.get('min')).getInfo()['value']/1000.\n",
        "init_date_f = dt.utcfromtimestamp(init_date).strftime('%Y-%m-%d %H:%M:%S')\n",
        "\n",
        "last_date = ee.Date(rango.get('max')).getInfo()['value']/1000.\n",
        "last_date_f = dt.utcfromtimestamp(last_date).strftime('%Y-%m-%d %H:%M:%S')\n",
        "\n",
        "print('Date range: ',init_date_f,' - ',last_date_f)"
      ],
      "execution_count": 0,
      "outputs": []
    },
    {
      "cell_type": "code",
      "metadata": {
        "id": "wLR8A8MTNb8D",
        "colab_type": "code",
        "colab": {}
      },
      "source": [
        "# Get statistics for a property of the images in the collection.\n",
        "sunStats = collection.aggregate_stats('SUN_ELEVATION')\n",
        "print('Sun elevation statistics: ')\n",
        "sunStats.getInfo()"
      ],
      "execution_count": 0,
      "outputs": []
    },
    {
      "cell_type": "code",
      "metadata": {
        "id": "tYTTGwxPNdH8",
        "colab_type": "code",
        "colab": {}
      },
      "source": [
        "# Sort by a cloud cover property, get the least cloudy image.\n",
        "image = ee.Image(collection.sort('CLOUD_COVER').first())\n",
        "print('Least cloudy image: ', )\n",
        "image.getInfo()"
      ],
      "execution_count": 0,
      "outputs": []
    },
    {
      "cell_type": "code",
      "metadata": {
        "id": "6N9uTHsnNeGU",
        "colab_type": "code",
        "colab": {}
      },
      "source": [
        "# Limit the collection to the 10 most recent images.\n",
        "recent = collection.sort('system:time_start', False).limit(10)\n",
        "print('Recent images: ')\n",
        "recent.getInfo()"
      ],
      "execution_count": 0,
      "outputs": []
    },
    {
      "cell_type": "markdown",
      "metadata": {
        "id": "ufMTpJqnOWM5",
        "colab_type": "text"
      },
      "source": [
        "# 3 . Filtering an ImageCollection\n",
        "\n",
        "As illustrated in the Get Started section and the ImageCollection Information section, Earth Engine provides a variety of convenience methods for filtering image collections. Specifically, many common use cases are handled by **imageCollection.filterDate()**, and **imageCollection.filterBounds()**. For general purpose filtering, use **imageCollection.filter()** with an **ee.Filter** as an argument. The following example demonstrates both convenience methods and **filter()** to identify and remove images with bad registration from an **ImageCollection**."
      ]
    },
    {
      "cell_type": "code",
      "metadata": {
        "id": "gtahWxaDPN8W",
        "colab_type": "code",
        "colab": {}
      },
      "source": [
        "# Load Landsat 5 data, filter by date and bounds.\n",
        "collection = ee.ImageCollection('LANDSAT/LT05/C01/T2').filterDate('1987-01-01', '1990-05-01').filterBounds(ee.Geometry.Point(25.8544, -18.08874))\n",
        "\n",
        "# Also filter the collection by the IMAGE_QUALITY property.\n",
        "filtered = collection.filterMetadata('IMAGE_QUALITY', 'equals', 9)\n",
        "\n",
        "# Create two composites to check the effect of filtering by IMAGE_QUALITY.\n",
        "badComposite = ee.Algorithms.Landsat.simpleComposite(collection, 75, 3)\n",
        "goodComposite = ee.Algorithms.Landsat.simpleComposite(filtered, 75, 3)\n",
        "\n",
        "dicc = {\n",
        "    'Bad composite' : badComposite.getMapId({'bands': ['B3', 'B2', 'B1'], 'gain': 3.5}),\n",
        "    'Good composite': goodComposite.getMapId({'bands': ['B3', 'B2', 'B1'], 'gain': 3.5})\n",
        "}\n",
        "\n",
        "# Display the results\n",
        "coords = [-18.08874, 25.8544]\n",
        "displayFollium(coords, dicc, zoom_start= 13)"
      ],
      "execution_count": 0,
      "outputs": []
    },
    {
      "cell_type": "markdown",
      "metadata": {
        "id": "YO-IRM-nRDAa",
        "colab_type": "text"
      },
      "source": [
        "# 4. Mapping over an ImageCollection\n",
        "\n",
        "To apply a function to every Image in an ImageCollection use imageCollection.map(). The only argument to map() is a function which takes one parameter: an ee.Image. For example, the following code adds a timestamp band to every image in the collection."
      ]
    },
    {
      "cell_type": "code",
      "metadata": {
        "id": "YV008t1pRIoT",
        "colab_type": "code",
        "colab": {}
      },
      "source": [
        "# Load a Landsat 8 collection for a single path-row.\n",
        "collection = ee.ImageCollection('LANDSAT/LC08/C01/T1_TOA').filter(ee.Filter.eq('WRS_PATH', 44)).filter(ee.Filter.eq('WRS_ROW', 34))\n",
        "\n",
        "# This function adds a band representing the image timestamp.\n",
        "def addTime(image):\n",
        "\treturn image.addBands(image.metadata('system:time_start'))\n",
        "\n",
        "# Map the function over the collection and display the result.\n",
        "print(collection.map(addTime))"
      ],
      "execution_count": 0,
      "outputs": []
    },
    {
      "cell_type": "markdown",
      "metadata": {
        "id": "ZXxc82LqRq0B",
        "colab_type": "text"
      },
      "source": [
        "Note that in the predefined function, the **metadata()** method is used to create a new Image from the value of a property. As discussed in the *Reducing* and *Compositing* sections, having that time band is useful for the linear modeling of change and for making composites.\n",
        "\n",
        "The mapped function is limited in the operations it can perform. Specifically, it can’t modify variables outside the function; it can’t print anything; it can’t use JavaScript ‘if’ or ‘for’ statements. However, you can use **ee.Algorithms.If()** to perform conditional operations in a mapped function."
      ]
    },
    {
      "cell_type": "code",
      "metadata": {
        "id": "FBhel41HR02L",
        "colab_type": "code",
        "colab": {}
      },
      "source": [
        "# Load a Landsat 8 collection for a single path-row.\n",
        "collection = ee.ImageCollection('LANDSAT/LC8_L1T_TOA').filter(ee.Filter.eq('WRS_PATH', 44)).filter(ee.Filter.eq('WRS_ROW', 34))\n",
        "\n",
        "# This function uses a conditional statement to return the image if\n",
        "# the solar elevation > 40 degrees.  Otherwise it returns a zero image.\n",
        "def conditional(image):\n",
        "\treturn ee.Algorithms.If(ee.Number(image.get('SUN_ELEVATION')).gt(40), image, ee.Image(0))\n",
        "\n",
        "# Map the function over the collection, convert to a List and print the result.\n",
        "print('Expand this to see the result: ', collection.map(conditional))"
      ],
      "execution_count": 0,
      "outputs": []
    },
    {
      "cell_type": "markdown",
      "metadata": {
        "id": "jsp-ucH2Sna6",
        "colab_type": "text"
      },
      "source": [
        "Inspect the list of images in the output ImageCollection and note that the when the condition evaluated by the **If()** algorithm is true, the output contains a constant image. Although this demonstrates a server-side conditional function (learn more about client vs. server in Earth Engine on this page), avoid **If()** in general and use filters instead."
      ]
    },
    {
      "cell_type": "markdown",
      "metadata": {
        "id": "3SWzt2T0S5Jt",
        "colab_type": "text"
      },
      "source": [
        "# 5. Reducing an ImageCollection\n",
        "\n",
        "To composite images in an **ImageCollection**, use **imageCollection.reduce()**. This will composite all the images in the collection to a single image representing, for example, the min, max, mean or standard deviation of the images. (See the Reducers section for more information about reducers). For example, to create a median value image from a collection:"
      ]
    },
    {
      "cell_type": "code",
      "metadata": {
        "id": "odhdIiJ7TDzP",
        "colab_type": "code",
        "colab": {}
      },
      "source": [
        "# Load a Landsat 8 collection for a single path-row.\n",
        "collection = ee.ImageCollection('LANDSAT/LC08/C01/T1_TOA').filter(ee.Filter.eq('WRS_PATH', 44)).filter(ee.Filter.eq('WRS_ROW', 34)).filterDate('2014-01-01', '2015-01-01')\n",
        "\n",
        "# Compute a median image and display.\n",
        "median = collection.median()\n",
        "\n",
        "dicc = {\n",
        "    'median' : median.getMapId({'bands': ['B4', 'B3', 'B2'], 'max': 0.3})\n",
        "}\n",
        "\n",
        "# Display the results\n",
        "coords = [37.7726, -122.3578]\n",
        "displayFollium(coords, dicc, zoom_start= 12)"
      ],
      "execution_count": 0,
      "outputs": []
    },
    {
      "cell_type": "markdown",
      "metadata": {
        "id": "wPMy5STKTjmN",
        "colab_type": "text"
      },
      "source": [
        "At each location in the output image, in each band, the pixel value is the median of all unmasked pixels in the input imagery (the images in the collection). In the previous example, median() is a convenience method for the following call:"
      ]
    },
    {
      "cell_type": "code",
      "metadata": {
        "id": "UJc6NK2AT8I5",
        "colab_type": "code",
        "colab": {}
      },
      "source": [
        "# Reduce the collection with a median reducer.\n",
        "median = collection.reduce(ee.Reducer.median())\n",
        "\n",
        "# Display the median image.\n",
        "dicc = {\n",
        "    'also median' : median.getMapId({'bands': ['B4_median', 'B3_median', 'B2_median'], 'max': 0.3})\n",
        "}\n",
        "\n",
        "# Display the results\n",
        "coords = [37.7726, -122.3578]\n",
        "displayFollium(coords, dicc, zoom_start= 12)"
      ],
      "execution_count": 0,
      "outputs": []
    },
    {
      "cell_type": "markdown",
      "metadata": {
        "id": "PLEcUs_vUI9L",
        "colab_type": "text"
      },
      "source": [
        "Note that the band names differ as a result of using reduce() instead of the convenience method. Specifically, the names of the reducer have been appended to the band names.\n",
        "\n",
        "More complex reductions are also possible using reduce(). For example, to compute the long term linear trend over a collection, use one of the linear regression reducers. The following code computes the linear trend of MODIS Enhanced Vegetation Index (EVI)."
      ]
    },
    {
      "cell_type": "code",
      "metadata": {
        "id": "d_3oQp-fUK3l",
        "colab_type": "code",
        "colab": {}
      },
      "source": [
        "# This function adds a band representing the image timestamp.\n",
        "def addTime(image):\n",
        "  return image.addBands(image.metadata('system:time_start').divide(1000 * 60 * 60 * 24 * 365))\n",
        "\n",
        "# Load a MODIS collection, filter to several years of 16 day mosaics, and map the time band function over it.\n",
        "collection = ee.ImageCollection('MODIS/006/MYD13A1').filterDate('2004-01-01', '2010-10-31').map(addTime)\n",
        "\n",
        "# Select the bands to model with the independent variable first.\n",
        "# Compute the linear trend over time.\n",
        "trend = collection.select(['system:time_start', 'EVI']).reduce(ee.Reducer.linearFit())\n",
        "\n",
        "# Display the trend with increasing slopes in green, decreasing in red.\n",
        "dicc = {\n",
        "    'EVI trend' : trend.getMapId({'min': 0, 'max': [-100, 100, 10000], 'bands': ['scale', 'scale', 'offset']})\n",
        "}\n",
        "\n",
        "# Display the results\n",
        "coords = [39.436, -96.943]\n",
        "displayFollium(coords, dicc, zoom_start= 5)"
      ],
      "execution_count": 0,
      "outputs": []
    },
    {
      "cell_type": "markdown",
      "metadata": {
        "id": "WdSBilTMVhVh",
        "colab_type": "text"
      },
      "source": [
        "Note that the output of the reduction in this example is a two banded image with one band for the slope of a linear regression (**scale**) and one band for the intercept (**offset**). Explore the API documentation to see a list of the reducers that are available to reduce an **ImageCollection** to a single Image. See the **ImageCollection.reduce()** section for more information about reducing image collections.\n",
        "\n"
      ]
    },
    {
      "cell_type": "markdown",
      "metadata": {
        "id": "_2V04dYAPKQ-",
        "colab_type": "text"
      },
      "source": [
        "# ."
      ]
    },
    {
      "cell_type": "markdown",
      "metadata": {
        "id": "vibDZ0EgPHp2",
        "colab_type": "text"
      },
      "source": [
        "***"
      ]
    },
    {
      "cell_type": "markdown",
      "metadata": {
        "id": "yS9KAy82NQqK",
        "colab_type": "text"
      },
      "source": [
        "<!--NAVIGATION-->\n",
        " < [Data structures in GEE](1.2_DataStructures.ipynb) | [Contents](index.ipynb) |  [Feature & FeatureCollections](1.4_Features.ipynb)>\n",
        "\n",
        "<a href=\"https://colab.research.google.com/github/csaybar/EEwPython/blob/master/1.3_Images.ipynb\"><img align=\"left\" src=\"https://colab.research.google.com/assets/colab-badge.svg\" alt=\"Open in Colab\" title=\"Open and Execute in Google Colaboratory\"></a>"
      ]
    }
  ]
}