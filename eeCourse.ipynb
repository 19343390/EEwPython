{
  "nbformat": 4,
  "nbformat_minor": 0,
  "metadata": {
    "colab": {
      "name": "eeCourse.ipynb",
      "version": "0.3.2",
      "provenance": [],
      "collapsed_sections": [
        "Ou7alQ14Juu9"
      ],
      "include_colab_link": true
    },
    "kernelspec": {
      "name": "python3",
      "display_name": "Python 3"
    }
  },
  "cells": [
    {
      "cell_type": "markdown",
      "metadata": {
        "id": "view-in-github",
        "colab_type": "text"
      },
      "source": [
        "<a href=\"https://colab.research.google.com/github/csaybar/eeCourse/blob/master/eeCourse.ipynb\" target=\"_parent\"><img src=\"https://colab.research.google.com/assets/colab-badge.svg\" alt=\"Open In Colab\"/></a>"
      ]
    },
    {
      "metadata": {
        "id": "nFNtPYMsEEl9",
        "colab_type": "text"
      },
      "cell_type": "markdown",
      "source": [
        "# Learn about Earth Engine Python API using Colab\n",
        "\n",
        "<img class=\"center\"  height=\"500\" src=\"https://earthengine.google.com/static/images/trendy_lights.jpg\" >"
      ]
    },
    {
      "metadata": {
        "id": "Ou7alQ14Juu9",
        "colab_type": "text"
      },
      "cell_type": "markdown",
      "source": [
        "##### Copyright 2018 Cesar Luis Aybar Camacho.\n",
        "\n",
        "Licensed under the  License;"
      ]
    },
    {
      "metadata": {
        "id": "xSghDIToJhRY",
        "colab_type": "code",
        "colab": {}
      },
      "cell_type": "code",
      "source": [
        "#MIT License\n",
        "#\n",
        "#Copyright (c) 2018 Cesar Luis Aybar Camacho \n",
        "#\n",
        "#Permission is hereby granted, free of charge, to any person obtaining a copy\n",
        "#of this software and associated documentation files (the \"Software\"), to deal\n",
        "#in the Software without restriction, including without limitation the rights\n",
        "#to use, copy, modify, merge, publish, distribute, sublicense, and/or sell\n",
        "#copies of the Software, and to permit persons to whom the Software is\n",
        "#furnished to do so, subject to the following conditions:\n",
        "#\n",
        "#The above copyright notice and this permission notice shall be included in all\n",
        "#copies or substantial portions of the Software.\n",
        "#\n",
        "#THE SOFTWARE IS PROVIDED \"AS IS\", WITHOUT WARRANTY OF ANY KIND, EXPRESS OR\n",
        "#IMPLIED, INCLUDING BUT NOT LIMITED TO THE WARRANTIES OF MERCHANTABILITY,\n",
        "#FITNESS FOR A PARTICULAR PURPOSE AND NONINFRINGEMENT. IN NO EVENT SHALL THE\n",
        "#AUTHORS OR COPYRIGHT HOLDERS BE LIABLE FOR ANY CLAIM, DAMAGES OR OTHER\n",
        "#LIABILITY, WHETHER IN AN ACTION OF CONTRACT, TORT OR OTHERWISE, ARISING FROM,\n",
        "#OUT OF OR IN CONNECTION WITH THE SOFTWARE OR THE USE OR OTHER DEALINGS IN THE\n",
        "#SOFTWARE.\n"
      ],
      "execution_count": 0,
      "outputs": []
    },
    {
      "metadata": {
        "id": "Q4ZZm_YpWaHV",
        "colab_type": "text"
      },
      "cell_type": "markdown",
      "source": [
        "#  ¿What is colab?\n",
        "\n",
        "Google **colab** is a free cloud service (jupyter as service) with GPU and TPU support.\n",
        "\n",
        "<img class=\"center\"  height=\"200\" src=\"https://colab.research.google.com/img/colab_favicon_256px.png\" >\n",
        "\n",
        "### Try yourself!!"
      ]
    },
    {
      "metadata": {
        "id": "-S9I_lQTXmNT",
        "colab_type": "code",
        "outputId": "835ce12d-4726-4b4c-e3ad-c370c5af8038",
        "colab": {
          "base_uri": "https://localhost:8080/",
          "height": 289
        }
      },
      "cell_type": "code",
      "source": [
        "#check the SO\n",
        "!cat /etc/*release"
      ],
      "execution_count": 0,
      "outputs": [
        {
          "output_type": "stream",
          "text": [
            "DISTRIB_ID=Ubuntu\n",
            "DISTRIB_RELEASE=18.04\n",
            "DISTRIB_CODENAME=bionic\n",
            "DISTRIB_DESCRIPTION=\"Ubuntu 18.04.1 LTS\"\n",
            "NAME=\"Ubuntu\"\n",
            "VERSION=\"18.04.1 LTS (Bionic Beaver)\"\n",
            "ID=ubuntu\n",
            "ID_LIKE=debian\n",
            "PRETTY_NAME=\"Ubuntu 18.04.1 LTS\"\n",
            "VERSION_ID=\"18.04\"\n",
            "HOME_URL=\"https://www.ubuntu.com/\"\n",
            "SUPPORT_URL=\"https://help.ubuntu.com/\"\n",
            "BUG_REPORT_URL=\"https://bugs.launchpad.net/ubuntu/\"\n",
            "PRIVACY_POLICY_URL=\"https://www.ubuntu.com/legal/terms-and-policies/privacy-policy\"\n",
            "VERSION_CODENAME=bionic\n",
            "UBUNTU_CODENAME=bionic\n"
          ],
          "name": "stdout"
        }
      ]
    },
    {
      "metadata": {
        "id": "0xKgYVk7YPlz",
        "colab_type": "code",
        "outputId": "edf530f7-0eac-44d9-c54d-de35662585f1",
        "colab": {
          "base_uri": "https://localhost:8080/",
          "height": 445
        }
      },
      "cell_type": "code",
      "source": [
        "#How many cpu are there?\n",
        "!lscpu"
      ],
      "execution_count": 0,
      "outputs": [
        {
          "output_type": "stream",
          "text": [
            "Architecture:        x86_64\n",
            "CPU op-mode(s):      32-bit, 64-bit\n",
            "Byte Order:          Little Endian\n",
            "CPU(s):              2\n",
            "On-line CPU(s) list: 0,1\n",
            "Thread(s) per core:  2\n",
            "Core(s) per socket:  1\n",
            "Socket(s):           1\n",
            "NUMA node(s):        1\n",
            "Vendor ID:           GenuineIntel\n",
            "CPU family:          6\n",
            "Model:               79\n",
            "Model name:          Intel(R) Xeon(R) CPU @ 2.20GHz\n",
            "Stepping:            0\n",
            "CPU MHz:             2200.000\n",
            "BogoMIPS:            4400.00\n",
            "Hypervisor vendor:   KVM\n",
            "Virtualization type: full\n",
            "L1d cache:           32K\n",
            "L1i cache:           32K\n",
            "L2 cache:            256K\n",
            "L3 cache:            56320K\n",
            "NUMA node0 CPU(s):   0,1\n",
            "Flags:               fpu vme de pse tsc msr pae mce cx8 apic sep mtrr pge mca cmov pat pse36 clflush mmx fxsr sse sse2 ss ht syscall nx pdpe1gb rdtscp lm constant_tsc rep_good nopl xtopology nonstop_tsc cpuid pni pclmulqdq ssse3 fma cx16 sse4_1 sse4_2 x2apic movbe popcnt aes xsave avx f16c rdrand hypervisor lahf_lm abm 3dnowprefetch pti ssbd ibrs ibpb stibp fsgsbase tsc_adjust bmi1 hle avx2 smep bmi2 erms rtm rdseed adx smap xsaveopt arat arch_capabilities\n"
          ],
          "name": "stdout"
        }
      ]
    },
    {
      "metadata": {
        "id": "RgXgiM4mYSql",
        "colab_type": "code",
        "outputId": "732e31db-8bdf-4f39-92f2-9d8c68a28bb8",
        "colab": {
          "base_uri": "https://localhost:8080/",
          "height": 34
        }
      },
      "cell_type": "code",
      "source": [
        "# How much RAM does it have?\n",
        "!grep MemTotal /proc/meminfo"
      ],
      "execution_count": 0,
      "outputs": [
        {
          "output_type": "stream",
          "text": [
            "MemTotal:       13335212 kB\n"
          ],
          "name": "stdout"
        }
      ]
    },
    {
      "metadata": {
        "id": "NvOlbqCrU77V",
        "colab_type": "text"
      },
      "cell_type": "markdown",
      "source": [
        "# Examples (Comming soon):"
      ]
    },
    {
      "metadata": {
        "id": "nSmsy9iwLMt9",
        "colab_type": "text"
      },
      "cell_type": "markdown",
      "source": [
        "# Tutorials:"
      ]
    },
    {
      "metadata": {
        "id": "5oYN4eOBKkQE",
        "colab_type": "text"
      },
      "cell_type": "markdown",
      "source": [
        "## 1. Spatial–Temporal Variability of Snow Cover Using SAM (Coming Soon!)\n",
        "\n",
        "<table align=\"left\"><td>\n",
        "  <a target=\"_blank\"  href=\"https://pa1.narvii.com/6732/b43d60e14ada36642c09c9ecf194886702b7bbaf_hq.gif\">\n",
        "    <img src=\"https://www.tensorflow.org/images/colab_logo_32px.png\" />Run in Google Colab\n",
        "  </a>\n",
        "</td><td>\n",
        "  <a target=\"_blank\"  href=\"https://pa1.narvii.com/6732/b43d60e14ada36642c09c9ecf194886702b7bbaf_hq.gif\">\n",
        "    <img width=32px src=\"https://www.tensorflow.org/images/GitHub-Mark-32px.png\" />View source on GitHub</a>\n",
        "</td></table>"
      ]
    },
    {
      "metadata": {
        "id": "LFRXKWfLOrt4",
        "colab_type": "text"
      },
      "cell_type": "markdown",
      "source": [
        "## 2. Download NEX-GDDP dataset (CMIP5 climate simulations)\n",
        "\n",
        "<table align=\"left\"><td>\n",
        "  <a target=\"_blank\"  href=\"https://colab.research.google.com/drive/1a0nnHhqnp9qX-LJV-d8vNSbhNVDanw4W\">\n",
        "    <img src=\"https://www.tensorflow.org/images/colab_logo_32px.png\" />Run in Google Colab\n",
        "  </a>\n",
        "</td><td>\n",
        "  <a target=\"_blank\"  href=\"https://github.com/csaybar/eeCourse/blob/master/example_02.ipynb\">\n",
        "    <img width=32px src=\"https://www.tensorflow.org/images/GitHub-Mark-32px.png\" />View source on GitHub</a>\n",
        "</td></table>"
      ]
    },
    {
      "metadata": {
        "id": "_RPV4yRqO81c",
        "colab_type": "text"
      },
      "cell_type": "markdown",
      "source": [
        "## 3. Mapping flooded areas using Sentinel 1 and Sentinel 2 (Coming Soon!)\n",
        "\n",
        "<table align=\"left\"><td>\n",
        "  <a target=\"_blank\"  href=\"https://colab.research.google.com/github/tensorflow/hub/blob/master/examples/colab/object_detection.ipynb\">\n",
        "    <img src=\"https://www.tensorflow.org/images/colab_logo_32px.png\" />Run in Google Colab\n",
        "  </a>\n",
        "</td><td>\n",
        "  <a target=\"_blank\"  href=\"https://github.com/tensorflow/hub/blob/master/examples/colab/object_detection.ipynb\">\n",
        "    <img width=32px src=\"https://www.tensorflow.org/images/GitHub-Mark-32px.png\" />View source on GitHub</a>\n",
        "</td></table>"
      ]
    },
    {
      "metadata": {
        "id": "PpbXBbKFimLE",
        "colab_type": "text"
      },
      "cell_type": "markdown",
      "source": [
        "## 4. Introducction to tensorflow and Earth Engine (Comming soon!)\n",
        "\n",
        "<table align=\"left\"><td>\n",
        "  <a target=\"_blank\"  href=\"https://colab.research.google.com/github/tensorflow/hub/blob/master/examples/colab/object_detection.ipynb\">\n",
        "    <img src=\"https://www.tensorflow.org/images/colab_logo_32px.png\" />Run in Google Colab\n",
        "  </a>\n",
        "</td><td>\n",
        "  <a target=\"_blank\"  href=\"https://github.com/tensorflow/hub/blob/master/examples/colab/object_detection.ipynb\">\n",
        "    <img width=32px src=\"https://www.tensorflow.org/images/GitHub-Mark-32px.png\" />View source on GitHub</a>\n",
        "</td></table>"
      ]
    },
    {
      "metadata": {
        "id": "g7T92aUoirb0",
        "colab_type": "text"
      },
      "cell_type": "markdown",
      "source": [
        "## 5. Land Cover Estimation using Tensorflow and Earth Engine (Comming soon!)\n",
        "\n",
        "<table align=\"left\"><td>\n",
        "  <a target=\"_blank\"  href=\"https://colab.research.google.com/github/tensorflow/hub/blob/master/examples/colab/object_detection.ipynb\">\n",
        "    <img src=\"https://www.tensorflow.org/images/colab_logo_32px.png\" />Run in Google Colab\n",
        "  </a>\n",
        "</td><td>\n",
        "  <a target=\"_blank\"  href=\"https://github.com/tensorflow/hub/blob/master/examples/colab/object_detection.ipynb\">\n",
        "    <img width=32px src=\"https://www.tensorflow.org/images/GitHub-Mark-32px.png\" />View source on GitHub</a>\n",
        "</td></table>"
      ]
    }
  ]
}
