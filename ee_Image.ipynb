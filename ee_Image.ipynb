{
  "nbformat": 4,
  "nbformat_minor": 0,
  "metadata": {
    "colab": {
      "name": "ee_Image.ipynb",
      "version": "0.3.2",
      "provenance": [],
      "collapsed_sections": [
        "h-SbkLxfVRa7",
        "u789tt7jtFcI",
        "FfGsJdAhQDgz",
        "EB8yxPAjQJld",
        "gkvA7TdFQZRd",
        "ZZtzMQJEQeAw",
        "DLjJaMMGF68U",
        "eXfJJwRRQnRU",
        "QOxDtzd5tm5u",
        "M2ltWjMZ8c3j"
      ],
      "include_colab_link": true
    },
    "kernelspec": {
      "name": "python3",
      "display_name": "Python 3"
    }
  },
  "cells": [
    {
      "cell_type": "markdown",
      "metadata": {
        "id": "view-in-github",
        "colab_type": "text"
      },
      "source": [
        "<a href=\"https://colab.research.google.com/github/csaybar/EEwPython/blob/dev/ee_Image.ipynb\" target=\"_parent\"><img src=\"https://colab.research.google.com/assets/colab-badge.svg\" alt=\"Open In Colab\"/></a>"
      ]
    },
    {
      "cell_type": "markdown",
      "metadata": {
        "id": "_rUp3DC76g8u",
        "colab_type": "text"
      },
      "source": [
        "<!--COURSE_INFORMATION-->\n",
        "<img align=\"left\" style=\"padding-right:10px;\" src=\"https://sitejerk.com/images/google-earth-logo-png-5.png\" width=5% >\n",
        "<img align=\"right\" style=\"padding-left:10px;\" src=\"https://colab.research.google.com/img/colab_favicon_256px.png\" width=6% >\n",
        "\n",
        "\n",
        ">> *This notebook is part from the free course [EEwPython](https://github.com/csaybar/EEwPython); the content is available [on GitHub](https://github.com/csaybar/EEwPython)* and released under the [Apache 2.0 License](https://www.gnu.org/licenses/gpl-3.0.en.html).\n",
        "\n"
      ]
    },
    {
      "cell_type": "markdown",
      "metadata": {
        "id": "g-iMfR17vqXj",
        "colab_type": "text"
      },
      "source": [
        "<!--NAVIGATION-->\n",
        " < [Data structures in GEE](1.2_DataStructures.ipynb) | [Contents](index.ipynb) |  [Feature & FeatureCollections](1.4_Features.ipynb)>\n",
        "\n",
        "<a href=\"https://colab.research.google.com/github/csaybar/EEwPython/blob/master/1.3_Images.ipynb\"><img align=\"left\" src=\"https://colab.research.google.com/assets/colab-badge.svg\" alt=\"Open in Colab\" title=\"Open and Execute in Google Colaboratory\"></a>"
      ]
    },
    {
      "cell_type": "markdown",
      "metadata": {
        "id": "h-SbkLxfVRa7",
        "colab_type": "text"
      },
      "source": [
        "# ee.Image"
      ]
    },
    {
      "cell_type": "markdown",
      "metadata": {
        "id": "VxW_4vQjg6tr",
        "colab_type": "text"
      },
      "source": [
        "Raster data are represented as Image objects in Earth Engine. Images are composed of one or more bands and each band has its own name, data type, scale, mask and projection. Each image can have metadata stored as a set of properties (Dictionary)."
      ]
    },
    {
      "cell_type": "markdown",
      "metadata": {
        "id": "u789tt7jtFcI",
        "colab_type": "text"
      },
      "source": [
        "### Connecting GEE and Colab"
      ]
    },
    {
      "cell_type": "markdown",
      "metadata": {
        "id": "p2d64Hzi8NNT",
        "colab_type": "text"
      },
      "source": [
        "- **Colab & Google Drive synchronization**"
      ]
    },
    {
      "cell_type": "code",
      "metadata": {
        "id": "vS2vm3h5-jbz",
        "colab_type": "code",
        "colab": {}
      },
      "source": [
        "from google.colab import drive\n",
        "drive.mount('/content/drive')"
      ],
      "execution_count": 0,
      "outputs": []
    },
    {
      "cell_type": "markdown",
      "metadata": {
        "id": "0UH2asC7CB1N",
        "colab_type": "text"
      },
      "source": [
        "- **Colab & Earth Engine synchronization**"
      ]
    },
    {
      "cell_type": "code",
      "metadata": {
        "id": "ZGbB_ztw-jwR",
        "colab_type": "code",
        "colab": {}
      },
      "source": [
        "!pip install earthengine-api #Firstly we need the earth-engine API"
      ],
      "execution_count": 0,
      "outputs": []
    },
    {
      "cell_type": "code",
      "metadata": {
        "id": "B3ed9DzvCPEU",
        "colab_type": "code",
        "colab": {}
      },
      "source": [
        "!earthengine authenticate "
      ],
      "execution_count": 0,
      "outputs": []
    },
    {
      "cell_type": "code",
      "metadata": {
        "id": "-fHzvUqJCW9k",
        "colab_type": "code",
        "colab": {}
      },
      "source": [
        "import ee\n",
        "ee.Initialize()"
      ],
      "execution_count": 0,
      "outputs": []
    },
    {
      "cell_type": "markdown",
      "metadata": {
        "id": "WZf_1vPEX3K0",
        "colab_type": "text"
      },
      "source": [
        "-  **Folium**\n",
        "\n"
      ]
    },
    {
      "cell_type": "code",
      "metadata": {
        "id": "qhYzUWrCYBrr",
        "colab_type": "code",
        "colab": {}
      },
      "source": [
        "import folium\n",
        "EE_TILES = 'https://earthengine.googleapis.com/map/{mapid}/{{z}}/{{x}}/{{y}}?token={token}'"
      ],
      "execution_count": 0,
      "outputs": []
    },
    {
      "cell_type": "markdown",
      "metadata": {
        "id": "FfGsJdAhQDgz",
        "colab_type": "text"
      },
      "source": [
        "# 1. Image Overview"
      ]
    },
    {
      "cell_type": "markdown",
      "metadata": {
        "id": "qfJ5hLl5tNzh",
        "colab_type": "text"
      },
      "source": [
        "\n",
        "\n",
        "In addition to loading images from the archive by an **image ID**, you can also create images from constants, lists or other suitable Earth Engine objects. This section illustrates methods for creating images, getting band subsets, and manipulating bands.\n",
        "\n",
        "Methods that you will use in this seccion:\n",
        " - **ee.Image.cat**\n",
        " - **ee.Image.addBands**\n",
        " - **ee.Image.Select**"
      ]
    },
    {
      "cell_type": "code",
      "metadata": {
        "id": "JL8bXuLov_hE",
        "colab_type": "code",
        "colab": {}
      },
      "source": [
        "# 2.1 Create a constant image.\n",
        "image1 = ee.Image(1)\n",
        "print(image1,'\\n')\n",
        "image1.getInfo()"
      ],
      "execution_count": 0,
      "outputs": []
    },
    {
      "cell_type": "markdown",
      "metadata": {
        "id": "z0sBOUeEkeS5",
        "colab_type": "text"
      },
      "source": [
        "- **ee.Image.cat(list)**: Concatenate the given images together into a single image.\n",
        "\n",
        "  "
      ]
    },
    {
      "cell_type": "code",
      "metadata": {
        "id": "8emZLqwWhsAE",
        "colab_type": "code",
        "colab": {}
      },
      "source": [
        "#2.2 Concatenate two images into one multi-band image.\n",
        "image2 = ee.Image(2)\n",
        "image3 = ee.Image.cat([image1, image2])\n",
        "print(image3,'\\n')\n",
        "image3.getInfo()"
      ],
      "execution_count": 0,
      "outputs": []
    },
    {
      "cell_type": "code",
      "metadata": {
        "id": "TLw4Ghd3h9MD",
        "colab_type": "code",
        "colab": {}
      },
      "source": [
        "# Create a multi-band image from a list of constants.\n",
        "multiband = ee.Image([1, 2, 3])\n",
        "print(multiband,'\\n')\n",
        "multiband.getInfo()"
      ],
      "execution_count": 0,
      "outputs": []
    },
    {
      "cell_type": "code",
      "metadata": {
        "id": "3KpTZWqKh-gV",
        "colab_type": "code",
        "colab": {}
      },
      "source": [
        "# Select and (optionally) rename bands.\n",
        "renamed = multiband.select(['constant', 'constant_1', 'constant_2'],\n",
        "                           ['band1', 'band2', 'band3'])\n",
        "print(renamed)"
      ],
      "execution_count": 0,
      "outputs": []
    },
    {
      "cell_type": "markdown",
      "metadata": {
        "id": "Fffx7suImrOh",
        "colab_type": "text"
      },
      "source": [
        "- **ee.Image.addBands**: Returns an image containing all bands copied from the first input and selected bands from the second input, optionally overwriting bands in the first image with the same name. The new image has the metadata and footprint from the first input image"
      ]
    },
    {
      "cell_type": "code",
      "metadata": {
        "id": "CIHOje0qh_r1",
        "colab_type": "code",
        "colab": {}
      },
      "source": [
        "# Add bands to an image.\n",
        "image4 = image3.addBands(ee.Image(42))\n",
        "print(image4)"
      ],
      "execution_count": 0,
      "outputs": []
    },
    {
      "cell_type": "markdown",
      "metadata": {
        "id": "EB8yxPAjQJld",
        "colab_type": "text"
      },
      "source": [
        "# 2. Image Vizualization"
      ]
    },
    {
      "cell_type": "markdown",
      "metadata": {
        "id": "FdD1dnNInVuw",
        "colab_type": "text"
      },
      "source": [
        "The Python API  a difference than the Code Editor do not support interactive vizualization (**Map.addLayer**). To achieve desirable visualization effects you could use **ee.Image.getThumbURL** in replacement of Map.addLayer. Both  ee.Image.getThumbURL and Map.addLayer have the same parameters:\n",
        "\n",
        "\n",
        "\n",
        "Parameter | Description | Type\n",
        "--------------|-------------|-------------\n",
        "bands\t| Comma-delimited list of three band names to be mapped to RGB| list\n",
        "min|\tValue(s) to map to 0\tnumber or list of three numbers, one for each |band\n",
        "max|\tValue(s) to map to 255\t|number or list of three numbers, one for each band\n",
        "gain|\tValue(s) by which to multiply each pixel value|\tnumber or list of three numbers, one for each band\n",
        "bias|\tValue(s) to add to each DN\t| number or list of three numbers, one for each band\n",
        "gamma|\tGamma correction factor(s)\t| number or list of three numbers, one for each band\n",
        "palette|\tList of CSS-style color strings (single-band images only)\t|comma-separated list of hex strings\n",
        "opacity|\tThe opacity of the layer (0.0 is fully transparent and 1.0 is fully opaque)\t| number\n",
        "format|\tEither \"jpg\" or \"png\"\t|string"
      ]
    },
    {
      "cell_type": "code",
      "metadata": {
        "id": "3U6Gcw4Ing2m",
        "colab_type": "code",
        "colab": {}
      },
      "source": [
        "# Load an image.\n",
        "image = ee.Image('LANDSAT/LC08/C01/T1_TOA/LC08_044034_20140318')\n",
        "\n",
        "mapid = image.getMapId({\n",
        "    'bands': ['B4', 'B3', 'B2'], \n",
        "    'min': 0, \n",
        "    'max': 0.3})\n",
        "\n",
        "mapViz = folium.Map(location=[38., -122.5])\n",
        "\n",
        "folium.TileLayer(\n",
        "    tiles=EE_TILES.format(**mapid),\n",
        "    attr='Google Earth Engine',\n",
        "    overlay=True,\n",
        "    name='median composite',\n",
        "  ).add_to(mapViz)\n",
        "mapViz.add_child(folium.LayerControl())\n",
        "mapViz"
      ],
      "execution_count": 0,
      "outputs": []
    },
    {
      "cell_type": "markdown",
      "metadata": {
        "id": "AlsSAlP11WZS",
        "colab_type": "text"
      },
      "source": [
        "## Masking\n",
        "\n",
        "You can use **`image.updateMask()`** to set the opacity of individual pixels based on where pixels in a mask image are non-zero. Pixels equal to zero in the mask are excluded from computations and the opacity is set to 0 for display. The following example uses an NDWI threshold (see the [Relational Operations section]() for information on thresholds) to update the mask on the NDWI layer created previously:\n",
        "\n"
      ]
    },
    {
      "cell_type": "code",
      "metadata": {
        "id": "frBqSRZr1gBh",
        "colab_type": "code",
        "colab": {}
      },
      "source": [
        "# Load an image.\n",
        "image = ee.Image('LANDSAT/LC08/C01/T1_TOA/LC08_044034_20140318')\n",
        "\n",
        "# Create an NDWI image, define visualization parameters and display.\n",
        "ndwi = image.normalizedDifference(['B3', 'B5'])\n",
        "\n",
        "# Mask the non-watery parts of the image, where NDWI < 0.4.\n",
        "ndwiMasked = ndwi.updateMask(ndwi.gte(0.4))\n",
        "ndwiId = ndwiMasked.getMapId({'min': 0.5, 'max': 1, 'palette': ['00FFFF', '0000FF']})\n",
        "\n",
        "mapViz = folium.Map(location=[38., -122.5])\n",
        "\n",
        "folium.TileLayer(\n",
        "    tiles=EE_TILES.format(**ndwiId),\n",
        "    attr='Google Earth Engine',\n",
        "    overlay=True,\n",
        "    name='NDWI masked',\n",
        "  ).add_to(mapViz)\n",
        "mapViz.add_child(folium.LayerControl())\n",
        "mapViz"
      ],
      "execution_count": 0,
      "outputs": []
    },
    {
      "cell_type": "markdown",
      "metadata": {
        "id": "SrMMdKzj4xqu",
        "colab_type": "text"
      },
      "source": [
        "## Clipping\n",
        "\n",
        "The **`image.clip()`** method is useful for achieving cartographic effects. The following example clips the Image **RGB_SF**."
      ]
    },
    {
      "cell_type": "code",
      "metadata": {
        "id": "jpIuRQz15McL",
        "colab_type": "code",
        "colab": {}
      },
      "source": [
        "# Create a circle by drawing a 20000 meter buffer around a point.\n",
        "roi = ee.Geometry.Point([-122.4481, 37.7599]).buffer(20000)\n",
        "\n",
        "mapRoi = image.clip(roi)\n",
        "mapId = mapRoi.getMapId()\n",
        "\n",
        "mapViz = folium.Map(location=[38., -122.5])\n",
        "\n",
        "folium.TileLayer(\n",
        "    tiles=EE_TILES.format(**mapId),\n",
        "    attr='Google Earth Engine',\n",
        "    overlay=True,\n",
        "    name='Mosaic',\n",
        "  ).add_to(mapViz)\n",
        "mapViz.add_child(folium.LayerControl())\n",
        "mapViz"
      ],
      "execution_count": 0,
      "outputs": []
    },
    {
      "cell_type": "markdown",
      "metadata": {
        "id": "T_xUM23o5eBo",
        "colab_type": "text"
      },
      "source": [
        "## Rendering categorical maps\n",
        "\n",
        "Palettes are also useful for rendering discrete valued maps, for example a land cover map. In the case of multiple classes, use the palette to supply a different color for each class. (The **`image.remap()`** method may be useful in this context, to convert arbitrary labels to consecutive integers). The following example uses a palette to render land cover categories:\n",
        "\n"
      ]
    },
    {
      "cell_type": "code",
      "metadata": {
        "id": "wJqDl2S65hvw",
        "colab_type": "code",
        "colab": {}
      },
      "source": [
        "cover = ee.Image('MODIS/051/MCD12Q1/2012_01_01').select('Land_Cover_Type_1')\n",
        "\n",
        "# Define a palette for the 18 distinct land cover classes.\n",
        "igbpPalette = [\n",
        "  'aec3d4', # water\n",
        "  '152106', '225129', '369b47', '30eb5b', '387242', # forest\n",
        "  '6a2325', 'c3aa69', 'b76031', 'd9903d', '91af40',  # shrub, grass\n",
        "  '111149', # wetlands\n",
        "  'cdb33b', # croplands\n",
        "  'cc0013', # urban\n",
        "  '33280d', # crop mosaic\n",
        "  'd7cdcc', # snow and ice\n",
        "  'f7e084', # barren\n",
        "  '6f6f6f'  # tundra\n",
        "]\n",
        "\n",
        "# Specify the min and max labels and the color palette matching the labels.\n",
        "vizParams = {'min': 0,\n",
        "             'max': 17,\n",
        "             'palette': igbpPalette}\n",
        "\n",
        "mapId = cover.getMapId(vizParams)\n",
        "\n",
        "mapViz = folium.Map(location=[38., -122.5])\n",
        "\n",
        "folium.TileLayer(\n",
        "    tiles=EE_TILES.format(**mapId),\n",
        "    attr='Google Earth Engine',\n",
        "    overlay=True,\n",
        "    name='Mosaic',\n",
        "  ).add_to(mapViz)\n",
        "mapViz.add_child(folium.LayerControl())\n",
        "mapViz"
      ],
      "execution_count": 0,
      "outputs": []
    },
    {
      "cell_type": "markdown",
      "metadata": {
        "id": "gkvA7TdFQZRd",
        "colab_type": "text"
      },
      "source": [
        "# 3. Image information and metadata"
      ]
    },
    {
      "cell_type": "markdown",
      "metadata": {
        "id": "QInLa5g88rUG",
        "colab_type": "text"
      },
      "source": [
        "To explore image bands and properties in the Python API, getInfo() the image and inspect the output in the console. This information can also be accessed programmatically. For example, the following demonstrates how to access information about bands, projections and other metadata:\n",
        "\n",
        "\n"
      ]
    },
    {
      "cell_type": "code",
      "metadata": {
        "id": "29eygRFu8id7",
        "colab_type": "code",
        "colab": {}
      },
      "source": [
        "# Load an image.\n",
        "image = ee.Image('LANDSAT/LC08/C01/T1/LC08_044034_20140318')\n",
        "\n",
        "# Get information about the bands as a list.\n",
        "bandNames = image.bandNames()\n",
        "print('Band names: ', bandNames.getInfo()) # ee.List of band names"
      ],
      "execution_count": 0,
      "outputs": []
    },
    {
      "cell_type": "code",
      "metadata": {
        "id": "gT2sTonS-67R",
        "colab_type": "code",
        "colab": {}
      },
      "source": [
        "# Get projection information from band 1.\n",
        "b1proj = image.select('B1').projection()\n",
        "print('Band 1 projection: \\n', b1proj.getInfo()) # ee.Projection object"
      ],
      "execution_count": 0,
      "outputs": []
    },
    {
      "cell_type": "code",
      "metadata": {
        "id": "VOv5uU7D-8P6",
        "colab_type": "code",
        "colab": {}
      },
      "source": [
        "# Get scale (in meters) information from band 1.\n",
        "b1scale = image.select('B1').projection().nominalScale()\n",
        "print('Band 1 scale: \\n', b1scale.getInfo()) # ee.Number"
      ],
      "execution_count": 0,
      "outputs": []
    },
    {
      "cell_type": "code",
      "metadata": {
        "id": "ME1zxhV6-9GV",
        "colab_type": "code",
        "colab": {}
      },
      "source": [
        "# Note that different bands can have different projections and scale.\n",
        "b8scale = image.select('B8').projection().nominalScale()\n",
        "print('Band 8 scale: \\n', b8scale.getInfo()) # ee.Number"
      ],
      "execution_count": 0,
      "outputs": []
    },
    {
      "cell_type": "code",
      "metadata": {
        "id": "-pEdDfTV--OA",
        "colab_type": "code",
        "colab": {}
      },
      "source": [
        "# Get a list of all metadata properties.\n",
        "properties = image.propertyNames()\n",
        "print('Metadata properties:', ) \n",
        "properties.getInfo() # ee.List of metadata properties"
      ],
      "execution_count": 0,
      "outputs": []
    },
    {
      "cell_type": "code",
      "metadata": {
        "id": "SJIOLkne-_MA",
        "colab_type": "code",
        "colab": {}
      },
      "source": [
        "# Get a specific metadata property.\n",
        "cloudiness = image.get('CLOUD_COVER')\n",
        "print('CLOUD_COVER: ')\n",
        "cloudiness.getInfo() # ee.Number"
      ],
      "execution_count": 0,
      "outputs": []
    },
    {
      "cell_type": "code",
      "metadata": {
        "id": "-XrdBSXs_AR5",
        "colab_type": "code",
        "colab": {}
      },
      "source": [
        "from datetime import datetime as dt\n",
        "\n",
        "# Get the timestamp and convert it to a date.\n",
        "date = ee.Date(image.get('system:time_start'))\n",
        "# We divide by 1000 because Earth Engine returns the timestamp in milisecond and Python in seconds.\n",
        "tmstp = date.getInfo()['value']/1000 \n",
        "\n",
        "print('Timestamp:', dt.utcfromtimestamp(tmstp).strftime('%Y-%m-%d %H:%M:%S'))"
      ],
      "execution_count": 0,
      "outputs": []
    },
    {
      "cell_type": "markdown",
      "metadata": {
        "id": "9OOhM1j_BrYy",
        "colab_type": "text"
      },
      "source": [
        "Note that the results of these queries are **server-side objects**. When you use the method \\*.getInfo(), you request that information describing the object be sent from the server to your client. (Learn more about client vs. server in Earth Engine on this [page](https://developers.google.com/earth-engine/client_server)). \n",
        "\n"
      ]
    },
    {
      "cell_type": "code",
      "metadata": {
        "id": "I9cIwmuMhTQi",
        "colab_type": "code",
        "colab": {}
      },
      "source": [
        "def displayFollium(coords, dicc, Tiles=\"OpensTreetMap\"):\n",
        "    '''\n",
        "    :param coords: Coordinates list\n",
        "    :param dicc: Tiles dictionary\n",
        "    :param Tiles: Mapbox Bright,Mapbox Control Room,Stamen Terrain,Stamen Toner,stamenwatercolor,cartodbpositron\n",
        "    :return: \n",
        "    '''\n",
        "    mapViz = folium.Map(location=coords,tiles=Tiles)\n",
        "    for k,v in dicc.items():\n",
        "      folium.TileLayer(\n",
        "          tiles=EE_TILES.format(**v),\n",
        "          attr='Google Earth Engine',\n",
        "          overlay=True,\n",
        "          name=k,\n",
        "        ).add_to(mapViz)\n",
        "    mapViz.add_child(folium.LayerControl())\n",
        "    return mapViz"
      ],
      "execution_count": 0,
      "outputs": []
    },
    {
      "cell_type": "markdown",
      "metadata": {
        "id": "ZZtzMQJEQeAw",
        "colab_type": "text"
      },
      "source": [
        "# 4. Mathematical Expressions"
      ]
    },
    {
      "cell_type": "markdown",
      "metadata": {
        "id": "5T1btubjBoLG",
        "colab_type": "text"
      },
      "source": [
        "Earth Engine supports many basic mathematical operators. They share some common features. **Earth Engine performs math operations per pixel**. When an operator is applied to an image, it's applied to each unmasked pixel of each band. In the case of operations on two images, the operation is only applied at the locations where pixels in both images are unmasked. Earth Engine automatically matches bands between images. When an operator is applied to two images, the images are expected to have the same number of bands so they can be matched pairwise. However, if one of the images has only a single band, it is matched with all of the bands in the other image, essentially replicating that band enough times to match the other image.\n",
        "\n",
        "\n",
        "For a simple example, consider the task of creating the Normalized Difference Vegetation Index (NDVI) using Landsat imagery:\n",
        "\n"
      ]
    },
    {
      "cell_type": "code",
      "metadata": {
        "id": "wKc4Ma-UChy2",
        "colab_type": "code",
        "colab": {}
      },
      "source": [
        "# Load two 5-year Landsat 7 composites.\n",
        "landsat1999 = ee.Image('LANDSAT/LE7_TOA_5YEAR/1999_2003')\n",
        "landsat2008 = ee.Image('LANDSAT/LE7_TOA_5YEAR/2008_2012')\n",
        "\n",
        "# Compute NDVI the hard way.\n",
        "ndvi1999 = landsat1999.select('B4')\\\n",
        "                      .subtract(landsat1999.select('B3'))\\\n",
        "                      .divide(landsat1999.select('B4').add(landsat1999.select('B3')))\n",
        "\n",
        "# Compute NDVI the easy way.\n",
        "ndvi2008 = landsat2008.normalizedDifference(['B4', 'B3'])\n",
        "\n",
        "#Vizualization\n",
        "ndwiViz = {'min': 0, 'max': 1, 'palette': ['FF0000', '00FF00']}\n",
        "Peru = ee.Geometry.Rectangle(-85, -20, -65,0) \n",
        "\n",
        "ndvi1999 = ndvi1999.clip(Peru)\n",
        "ndvi2008 = ndvi2008.clip(Peru)\n",
        "\n",
        "tiles = {\n",
        "    \"NDVI PERU 1999\": ndvi1999.getMapId(ndwiViz), \n",
        "    \"NDVI PERU 2008\": ndvi2008.getMapId(ndwiViz)\n",
        "}\n",
        "coords = [-12., -75.]\n",
        "displayFollium(coords, tiles)"
      ],
      "execution_count": 0,
      "outputs": []
    },
    {
      "cell_type": "markdown",
      "metadata": {
        "id": "DLjJaMMGF68U",
        "colab_type": "text"
      },
      "source": [
        "####  Expressions\n",
        "\n",
        "To implement more complex mathematical expressions, it may be more convenient to use **`image.expression()`**, which parses a text representation of a math operation. The following example uses **`expression()`** to compute the Enhanced Vegetation Index (EVI):"
      ]
    },
    {
      "cell_type": "code",
      "metadata": {
        "id": "LYxu202kFz85",
        "colab_type": "code",
        "colab": {}
      },
      "source": [
        "# Load a Landsat 8 image.\n",
        "image = ee.Image('LANDSAT/LC08/C01/T1_TOA/LC08_044034_20140318')\n",
        "\n",
        "# Compute the EVI using an expression.\n",
        "evi = image.expression(\n",
        "      '2.5 * ((NIR - RED) / (NIR + 6 * RED - 7.5 * BLUE + 1))', {\n",
        "      'NIR': image.select('B5'),\n",
        "      'RED': image.select('B4'),\n",
        "      'BLUE': image.select('B2')})\n",
        "\n",
        "Eviviz = {'min': 0, 'max': 1, 'palette': ['FF0000', '00FF00']}\n",
        "\n",
        "tiles = {\n",
        "    \"EVI 2014\": evi.getMapId(Eviviz)\n",
        "}\n",
        "coords = [37,-122]\n",
        "displayFollium(coords, tiles)"
      ],
      "execution_count": 0,
      "outputs": []
    },
    {
      "cell_type": "markdown",
      "metadata": {
        "id": "3MgoiRlGTtWG",
        "colab_type": "text"
      },
      "source": [
        "Observe that the first argument to expression is the textual representation of the math operation, the second argument is a dictionary where the keys are variable names used in the expression and the values are the image bands to which the variables should be mapped. Bands in the image may be referred to as `b(\"band name\")` or `b(index)`, for example `b(0)`, instead of providing the dictionary. Note that division functions as it does in Python: dividing two integers results in an integer. For example `10 / 20 = 0`. To change this behavior, multiply one of the operands by `1.0: 10 * 1.0 / 20 = 0.5`. Supported expression operators are listed in the following table.\n",
        "\n",
        " _ | _ | Operators for expression()\n",
        "--------------|-------------|-------------\n",
        "Arithmetic\t|+ - * / % **\t|Add, Subtract, Multiply, Divide, Modulus, Exponent\n",
        "Comparison\t| == != < > <= >= |\tEqual, Not Equal, Less Than, Greater than, etc.\n",
        "Logical |\t&& \\|\\| ! ^\t| And, Or, Not, Xor\n",
        "Ternary\t| ? :\t| If then else"
      ]
    },
    {
      "cell_type": "markdown",
      "metadata": {
        "id": "eXfJJwRRQnRU",
        "colab_type": "text"
      },
      "source": [
        "# 5. Relational, conditional and Boolean operations"
      ]
    },
    {
      "cell_type": "markdown",
      "metadata": {
        "id": "mn6nSZnrQnOp",
        "colab_type": "text"
      },
      "source": [
        "To perform per-pixel comparisons between images, use relational operators. To extract urbanized areas in an image, this example uses relational operators to threshold spectral indices, combining the thresholds with and():"
      ]
    },
    {
      "cell_type": "code",
      "metadata": {
        "id": "Bcb_qgvM3Q-a",
        "colab_type": "code",
        "colab": {}
      },
      "source": [
        "# Load a Landsat 8 image.\n",
        "image = ee.Image('LANDSAT/LC08/C01/T1_TOA/LC08_044034_20140318')\n",
        "\n",
        "# Create NDVI and NDWI spectral indices.\n",
        "ndvi = image.normalizedDifference(['B5', 'B4'])\n",
        "ndwi = image.normalizedDifference(['B3', 'B5'])\n",
        "\n",
        "# Create a binary layer using logical operations.\n",
        "bare = ndvi.lt(0.2).And(ndwi.lt(0))\n",
        "\n",
        "bare = bare.updateMask(bare)\n",
        "BareId = bare.getMapId()\n",
        "\n",
        "tiles = {\n",
        "    \"Bare\": BareId\n",
        "}\n",
        "coords = [37.7726, -122.3578]\n",
        "displayFollium(coords, tiles, \"Stamen Terrain\")"
      ],
      "execution_count": 0,
      "outputs": []
    },
    {
      "cell_type": "markdown",
      "metadata": {
        "id": "BXVPhUv3FBUI",
        "colab_type": "text"
      },
      "source": [
        "As illustrated by this example, the output of relational and boolean operators is either true (1) or false (0). To mask the 0's, you can mask the resultant binary image with itself. The result from the previous example should look something.\n",
        "\n"
      ]
    },
    {
      "cell_type": "markdown",
      "metadata": {
        "id": "MtCLrkVYFRn3",
        "colab_type": "text"
      },
      "source": [
        "The binary images that are returned by relational and boolean operators can be used with mathematical operators. This example creates zones of urbanization in a nighttime lights image using relational operators and image.add():\n",
        "\n"
      ]
    },
    {
      "cell_type": "code",
      "metadata": {
        "id": "0Srflh5jFcAE",
        "colab_type": "code",
        "colab": {}
      },
      "source": [
        "# Load a 2012 nightlights image.\n",
        "nl2012 = ee.Image('NOAA/DMSP-OLS/NIGHTTIME_LIGHTS/F182012')\n",
        "lights = nl2012.select('stable_lights')\n",
        "\n",
        "# Define arbitrary thresholds on the 6-bit stable lights band.\n",
        "zones = lights.gt(30).add(lights.gt(55)).add(lights.gt(62))\n",
        "\n",
        "# Display the thresholded image as three distinct zones near Paris.\n",
        "palette = ['000000', '0000FF', '00FF00', 'FF0000']\n",
        "coords = [48.8683, 2.373]\n",
        "\n",
        "# Map.addLayer(zones, {min: 0, max: 3, palette: palette}, 'development zones');\n",
        "zonesId = zones.getMapId({'min': 0, 'max': 3, 'palette': palette})\n",
        "\n",
        "tiles = {\n",
        "    \"Zonas\": zonesId\n",
        "}\n",
        "displayFollium(coords, tiles)"
      ],
      "execution_count": 0,
      "outputs": []
    },
    {
      "cell_type": "markdown",
      "metadata": {
        "id": "-9pRgxtuJW79",
        "colab_type": "text"
      },
      "source": [
        "Note that the code in the previous example is equivalent to using a ternary operator implemented by expression()\n"
      ]
    },
    {
      "cell_type": "code",
      "metadata": {
        "id": "HicEUye6Jchu",
        "colab_type": "code",
        "colab": {}
      },
      "source": [
        "zonesExp = nl2012.expression(\n",
        "    \"(b('stable_lights') > 62) ? 3: (b('stable_lights') > 55) ? 2: (b('stable_lights') > 30) ? 1: 0\"\n",
        ")\n",
        "\n",
        "zonesId = zonesExp.getMapId({'min': 0, 'max': 3, 'palette': palette})\n",
        "\n",
        "tiles = {\n",
        "    \"Zonas\": zonesId\n",
        "}\n",
        "\n",
        "displayFollium(coords, tiles)"
      ],
      "execution_count": 0,
      "outputs": []
    },
    {
      "cell_type": "markdown",
      "metadata": {
        "id": "jGIUEpVNMUMc",
        "colab_type": "text"
      },
      "source": [
        "Another way to implement conditional operations on images is with the image.where() operator. Consider the need to replace masked pixels with some other data. In the following example, cloudy pixels are replaced by pixels from a cloud-free image using where()"
      ]
    },
    {
      "cell_type": "code",
      "metadata": {
        "id": "CK9dJzHuNNso",
        "colab_type": "code",
        "colab": {}
      },
      "source": [
        "# Load a cloudy Landsat 8 image.\n",
        "image = ee.Image('LANDSAT/LC08/C01/T1_TOA/LC08_044034_20130603')\n",
        "\n",
        "# Load another image to replace the cloudy pixels.\n",
        "replacement = ee.Image('LANDSAT/LC08/C01/T1_TOA/LC08_044034_20130416')\n",
        "\n",
        "# Compute a cloud score band.\n",
        "cloud = ee.Algorithms.Landsat.simpleCloudScore(image).select('cloud')\n",
        "\n",
        "# Set cloudy pixels to the other image.\n",
        "replaced = image.where(cloud.gt(10), replacement)\n",
        "\n",
        "# Display the result.\n",
        "replacedId = replaced.getMapId({'bands': ['B5', 'B4', 'B3'], 'min': 0, 'max': 0.5})\n",
        "\n",
        "tiles = {\n",
        "    \"Clouds replaced\": replacedId\n",
        "}\n",
        "\n",
        "coords = [37.5419, -121.9872]\n",
        "displayFollium(coords, tiles)"
      ],
      "execution_count": 0,
      "outputs": []
    },
    {
      "cell_type": "markdown",
      "metadata": {
        "id": "1NnJrDesNmyq",
        "colab_type": "text"
      },
      "source": [
        "In this example, observe the use of the simpleCloudScore() algorithm. This algorithm ranks pixels by cloudiness on a scale of 0-100, with 100 most cloudy. Learn more about simpleCloudScore() on the Landsat Algorithms page."
      ]
    },
    {
      "cell_type": "markdown",
      "metadata": {
        "id": "QOxDtzd5tm5u",
        "colab_type": "text"
      },
      "source": [
        "# 6. Convolutions"
      ]
    },
    {
      "cell_type": "markdown",
      "metadata": {
        "id": "5YTQPZDGt5a5",
        "colab_type": "text"
      },
      "source": [
        "To perform linear convolutions on images, use **image.convolve()**. The only argument to convolve is an ee.Kernel which is specified by a shape and the weights in the kernel. Each pixel of the image output by **convolve()** is the linear combination of the kernel values and the input image pixels covered by the kernel. The kernels are applied to each band individually. For example, you might want to use a low-pass (smoothing) kernel to remove high-frequency information. The following illustrates a 15x15 low-pass kernel applied to a Landsat 8 image"
      ]
    },
    {
      "cell_type": "code",
      "metadata": {
        "id": "pNmxQNISt8iC",
        "colab_type": "code",
        "colab": {}
      },
      "source": [
        "# Load and display an image\n",
        "image   = ee.Image('LANDSAT/LC08/C01/T1_TOA/LC08_044034_20140318')\n",
        "\n",
        "# Define a boxcar or low-pass kernel\n",
        "boxcar  = ee.Kernel.square(7, 'pixels', True)\n",
        "\n",
        "# Smooth the image by convolving with the boxcar kernel\n",
        "smooth = image.convolve(boxcar)\n",
        "  \n",
        "tiles = {\n",
        "    \"input image\": image.getMapId({'bands': ['B5', 'B4', 'B3'], 'max': 0.5}),\n",
        "    \"smoothed\": smooth.getMapId({'bands': ['B5', 'B4', 'B3'], 'max': 0.5})\n",
        "}\n",
        "\n",
        "coords = [37.8694, -121.9785]\n",
        "displayFollium(coords, tiles, \"Stamen Terrain\")"
      ],
      "execution_count": 0,
      "outputs": []
    },
    {
      "cell_type": "markdown",
      "metadata": {
        "id": "dlqAjHwg1tJs",
        "colab_type": "text"
      },
      "source": [
        "The output of convolution with the low-pass filter should look something like figure on top. Observe that the arguments to the kernel determine its size and coefficients. Specifically, with the units parameter set to pixels, the radius parameter specifies the number of pixels from the center that the kernel will cover. If normalize is set to true, the kernel coefficients will sum to one. If the magnitude parameter is set, the kernel coefficients will be multiplied by the magnitude (if normalize is also true, the coefficients will sum to magnitude). If there is a negative value in any of the kernel coefficients, setting normalize to true will make the coefficients sum to zero."
      ]
    },
    {
      "cell_type": "markdown",
      "metadata": {
        "id": "GRDxW0Zb2H1H",
        "colab_type": "text"
      },
      "source": [
        "Use other kernels to achieve the desired image processing effect. This example uses a Laplacian kernel for isotropic edge detection"
      ]
    },
    {
      "cell_type": "code",
      "metadata": {
        "id": "HW-sijry2zio",
        "colab_type": "code",
        "colab": {}
      },
      "source": [
        "# Define a Laplacian, or edge-detection kernel.\n",
        "laplacian = ee.Kernel.laplacian8(normalize = False)\n",
        "\n",
        "# Apply the edge-detection kernel.\n",
        "edgy = image.convolve(laplacian)\n",
        "  \n",
        "tiles = {\n",
        "    \"edges\": edgy.getMapId({'bands': ['B5', 'B4', 'B3'], 'max': 0.5})\n",
        "}\n",
        "\n",
        "coords = [37.8694, -121.9785]\n",
        "displayFollium(coords, tiles, \"Stamen Terrain\")"
      ],
      "execution_count": 0,
      "outputs": []
    },
    {
      "cell_type": "markdown",
      "metadata": {
        "id": "wAc-Mdiz7RjG",
        "colab_type": "text"
      },
      "source": [
        "Note the format specifier in the visualization parameters. Earth Engine sends display tiles to the Code Editor in JPEG format for efficiency, however edge tiles are sent in PNG format to handle transparency of pixels outside the image boundary. When a visual discontinuity results, setting the format to PNG results in a consistent display. The result of convolving with the Laplacian edge detection kernel should look something like to figure on top.\n"
      ]
    },
    {
      "cell_type": "markdown",
      "metadata": {
        "id": "VEnanydb7djI",
        "colab_type": "text"
      },
      "source": [
        "There are also anisotropic edge detection kernels (e.g. Sobel, Prewitt, Roberts), the direction of which can be changed with kernel.rotate(). Other low pass kernels include a Gaussian kernel and kernels of various shape with uniform weights. To create kernels with arbitrarily defined weights and shape, use ee.Kernel.fixed(). For example, this code creates a 9x9 kernel of 1’s with a zero in the middle"
      ]
    },
    {
      "cell_type": "code",
      "metadata": {
        "id": "OVWXYyyk8AqN",
        "colab_type": "code",
        "colab": {}
      },
      "source": [
        "// Create a list of weights for a 9x9 kernel.\n",
        "var list = [1, 1, 1, 1, 1, 1, 1, 1, 1];\n",
        "// The center of the kernel is zero.\n",
        "var centerList = [1, 1, 1, 1, 0, 1, 1, 1, 1];\n",
        "// Assemble a list of lists: the 9x9 kernel weights as a 2-D matrix.\n",
        "var lists = [list, list, list, list, centerList, list, list, list, list];\n",
        "// Create the kernel from the weights.\n",
        "var kernel = ee.Kernel.fixed(9, 9, lists, -4, -4, false);\n",
        "print(kernel);\n",
        "    "
      ],
      "execution_count": 0,
      "outputs": []
    },
    {
      "cell_type": "code",
      "metadata": {
        "id": "qb_fqctG8Bfl",
        "colab_type": "code",
        "colab": {}
      },
      "source": [
        "# Create a list of weights for a 9x9 kernel.\n",
        "lista = [1, 1, 1, 1, 1, 1, 1, 1, 1]\n",
        "# The center of the kernel is zero.\n",
        "centerList = [1, 1, 1, 1, 0, 1, 1, 1, 1]\n",
        "# Assemble a list of lists: the 9x9 kernel weights as a 2-D matrix.\n",
        "lists = [lista, lista, lista, lista, centerList, lista, lista, lista, lista]\n",
        "# Create the kernel from the weights.\n",
        "kernel = ee.Kernel.fixed(9, 9, lists, -4, -4, False)\n",
        "print(kernel)"
      ],
      "execution_count": 0,
      "outputs": []
    },
    {
      "cell_type": "markdown",
      "metadata": {
        "id": "M2ltWjMZ8c3j",
        "colab_type": "text"
      },
      "source": [
        "# 7. Morphological Operations"
      ]
    },
    {
      "cell_type": "markdown",
      "metadata": {
        "id": "zaCXHwaI8h3L",
        "colab_type": "text"
      },
      "source": [
        "Earth Engine implements morphological operations as focal operations, specifically focal_max(), focal_min(), focal_median(), and focal_mode() instance methods in the Image class. (These are shortcuts for the more general reduceNeighborhood(), which can input the pixels in a kernel to any reducer with a numeric output. See this page for more information on reducing neighborhoods). The morphological operators are useful for performing operations such as erosion, dilation, opening and closing. For example, to perform an opening operation, use focal_min() followed by focal_max()."
      ]
    },
    {
      "cell_type": "code",
      "metadata": {
        "id": "8VVPRBs281b2",
        "colab_type": "code",
        "colab": {}
      },
      "source": [
        "# Load a Landsat 8 image, select the NIR band, threshold, display.\n",
        "image = ee.Image('LANDSAT/LC08/C01/T1_TOA/LC08_044034_20140318').select(4).gt(0.2);\n",
        "\n",
        "# Define a kernel.\n",
        "kernel = ee.Kernel.circle(radius=1)\n",
        "\n",
        "# Perform an erosion followed by a dilation, display.\n",
        "opened = image.focal_min(kernel=kernel, iterations=2).focal_max(kernel=kernel, iterations=2)\n",
        "\n",
        "tiles = {\n",
        "    'NIR threshold': image.getMapId(),\n",
        "    'opened'       : opened.getMapId()\n",
        "}\n",
        "\n",
        "coords = [37.5010, -122.1899]\n",
        "displayFollium(coords, tiles, \"Stamen Terrain\")"
      ],
      "execution_count": 0,
      "outputs": []
    },
    {
      "cell_type": "markdown",
      "metadata": {
        "id": "IVw7b3fb-K6l",
        "colab_type": "text"
      },
      "source": [
        "Note that in the previous example, a kernel argument is provided to the morphological operator. The pixels covered by non-zero elements of the kernel are used in the computation. The iterations argument indicates how many times to apply the operator."
      ]
    },
    {
      "cell_type": "markdown",
      "metadata": {
        "id": "wt2yKCqp-5KE",
        "colab_type": "text"
      },
      "source": [
        "# 8. Gradients"
      ]
    },
    {
      "cell_type": "markdown",
      "metadata": {
        "id": "p-hKQ4H1_Aod",
        "colab_type": "text"
      },
      "source": [
        "You can compute the gradient of each band of an image with image.gradient(). For example, the following code computes the gradient magnitude and direction of the Landsat 8 panchromatic band"
      ]
    },
    {
      "cell_type": "code",
      "metadata": {
        "id": "RZ_FhBMs_Dfu",
        "colab_type": "code",
        "colab": {
          "base_uri": "https://localhost:8080/",
          "height": 1072
        },
        "outputId": "f56b6847-d285-4a6e-b861-6c9db3be2fd3"
      },
      "source": [
        "# Load a Landsat 8 image and select the panchromatic band.\n",
        "image = ee.Image('LANDSAT/LC08/C01/T1/LC08_044034_20140318').select('B8');\n",
        "\n",
        "# Compute the image gradient in the X and Y directions.\n",
        "xyGrad = image.gradient();\n",
        "\n",
        "# Compute the magnitude of the gradient.\n",
        "gradient = xyGrad.select('x').pow(2).add(xyGrad.select('y').pow(2)).sqrt();\n",
        "\n",
        "# Compute the direction of the gradient.\n",
        "direction = xyGrad.select('y').atan2(xyGrad.select('x'));\n",
        "\n",
        "# Display the results.\n",
        "tiles = {\n",
        "    'direction': direction.getMapId({'min': -2, 'max': 2}),\n",
        "    'gradient' : opened.getMapId({'min': -7, 'max': 7})\n",
        "}\n",
        "\n",
        "coords = [37.7295, -122.054]\n",
        "displayFollium(coords, tiles, \"Stamen Terrain\")\n",
        "    "
      ],
      "execution_count": 46,
      "outputs": [
        {
          "output_type": "execute_result",
          "data": {
            "text/html": [
              "<div style=\"width:100%;\"><div style=\"position:relative;width:100%;height:0;padding-bottom:60%;\"><iframe src=\"data:text/html;charset=utf-8;base64,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\" style=\"position:absolute;width:100%;height:100%;left:0;top:0;border:none !important;\" allowfullscreen webkitallowfullscreen mozallowfullscreen></iframe></div></div>"
            ],
            "text/plain": [
              "<folium.folium.Map at 0x7f7672294668>"
            ]
          },
          "metadata": {
            "tags": []
          },
          "execution_count": 46
        }
      ]
    },
    {
      "cell_type": "markdown",
      "metadata": {
        "id": "QyWbaWWIQnL5",
        "colab_type": "text"
      },
      "source": [
        "***"
      ]
    },
    {
      "cell_type": "markdown",
      "metadata": {
        "id": "-F_TQkgjQnJS",
        "colab_type": "text"
      },
      "source": [
        "***"
      ]
    },
    {
      "cell_type": "markdown",
      "metadata": {
        "id": "o1t55NRHQnGq",
        "colab_type": "text"
      },
      "source": [
        "***"
      ]
    },
    {
      "cell_type": "markdown",
      "metadata": {
        "id": "wPcRyQttQnA5",
        "colab_type": "text"
      },
      "source": [
        "***"
      ]
    },
    {
      "cell_type": "markdown",
      "metadata": {
        "id": "wIbMDpm6g1Zs",
        "colab_type": "text"
      },
      "source": [
        "### 9. Image Collection Overview\n",
        "\n",
        "An `ImageCollection` is a **stack or time series of images**. In addition to loading an `ImageCollection` using an Earth Engine collection ID, Earth Engine has methods to create image collections. The constructor `ee.ImageCollection()` or the convenience method `ee.ImageCollection.fromImages()` create image collections from lists of images. You can also create new image collections by merging existing collections. For example:\n",
        "\n"
      ]
    },
    {
      "cell_type": "code",
      "metadata": {
        "id": "vZG34oSqhH4M",
        "colab_type": "code",
        "colab": {}
      },
      "source": [
        "# Create arbitrary constant images.\n",
        "constant1 = ee.Image(1)\n",
        "constant2 = ee.Image(2)\n",
        "\n",
        "# Create a collection by giving a list to the constructor.\n",
        "collectionFromConstructor = ee.ImageCollection([constant1, constant2])\n",
        "print('collectionFromConstructor: ')\n",
        "collectionFromConstructor.getInfo()"
      ],
      "execution_count": 0,
      "outputs": []
    },
    {
      "cell_type": "code",
      "metadata": {
        "id": "REqiD2lyhdmg",
        "colab_type": "code",
        "colab": {}
      },
      "source": [
        "# Create a collection with fromImages().\n",
        "collectionFromImages = ee.ImageCollection.fromImages([ee.Image(3), ee.Image(4)])\n",
        "print('collectionFromImages: ')\n",
        "collectionFromImages.getInfo()"
      ],
      "execution_count": 0,
      "outputs": []
    },
    {
      "cell_type": "code",
      "metadata": {
        "id": "1SHVQ5yWhjBp",
        "colab_type": "code",
        "colab": {}
      },
      "source": [
        "# Merge two collections.\n",
        "mergedCollection = collectionFromConstructor.merge(collectionFromImages)\n",
        "print('mergedCollection: ')\n",
        "mergedCollection.getInfo()"
      ],
      "execution_count": 0,
      "outputs": []
    },
    {
      "cell_type": "code",
      "metadata": {
        "id": "1yMKhTMDhqKC",
        "colab_type": "code",
        "colab": {}
      },
      "source": [
        "# Create a toy FeatureCollection\n",
        "features = ee.FeatureCollection(\n",
        "  [ee.Feature(None, {'foo': 1}), ee.Feature(None, {'foo': 2})])\n",
        "\n",
        "# Create an ImageCollection from the FeatureCollection\n",
        "# by mapping a function over the FeatureCollection.\n",
        "images = features.map(lambda feature:ee.Image(ee.Number(feature.get('foo'))))\n",
        "\n",
        "# Print the resultant collection.\n",
        "print('Image collection: ')\n",
        "images.getInfo()"
      ],
      "execution_count": 0,
      "outputs": []
    },
    {
      "cell_type": "markdown",
      "metadata": {
        "id": "Oc_4qa6riJgM",
        "colab_type": "text"
      },
      "source": [
        "Note that in this example an `ImageCollection` is created by mapping a function that returns an `Image` over a `FeatureCollection`. Learn more about mapping in the [Mapping over an ImageCollection section](https://developers.google.com/earth-engine/ic_mapping). Learn more about feature collections from the [FeatureCollection section](https://developers.google.com/earth-engine/feature_collections)."
      ]
    },
    {
      "cell_type": "markdown",
      "metadata": {
        "id": "AVp6O8xbimeF",
        "colab_type": "text"
      },
      "source": [
        "### 10 . ImageCollection Information and Metadata\n",
        "\n",
        "As with Images, there are a variety of ways to get information about an ImageCollection. The collection can be printed directly to the console, but the console printout is **limited to 5000 elements**. Collections larger than 5000 images will need to be filtered before printing. Printing a large collection will be correspondingly slower. The following example shows various ways of getting information about image collections programmatically."
      ]
    },
    {
      "cell_type": "code",
      "metadata": {
        "id": "qN8-wM01jWi-",
        "colab_type": "code",
        "colab": {}
      },
      "source": [
        "# Load a Landsat 8 ImageCollection for a single path-row.\n",
        "collection = ee.ImageCollection('LANDSAT/LC08/C01/T1_TOA')\\\n",
        "               .filter(ee.Filter.eq('WRS_PATH', 44))\\\n",
        "               .filter(ee.Filter.eq('WRS_ROW', 34))\\\n",
        "               .filterDate('2014-03-01', '2014-08-01')\n",
        "print('Collection: ')\n",
        "collection.getInfo()"
      ],
      "execution_count": 0,
      "outputs": []
    },
    {
      "cell_type": "code",
      "metadata": {
        "id": "la4qQ-PSjrUc",
        "colab_type": "code",
        "colab": {}
      },
      "source": [
        "# Get the number of images.\n",
        "count = collection.size()\n",
        "print('Count: ', count.getInfo())"
      ],
      "execution_count": 0,
      "outputs": []
    },
    {
      "cell_type": "code",
      "metadata": {
        "id": "j_25PV4lj-RT",
        "colab_type": "code",
        "colab": {}
      },
      "source": [
        "# Get the date range of images in the collection.\n",
        "rango = collection.reduceColumns(ee.Reducer.minMax(), [\"system:time_start\"])\n",
        "\n",
        "# Passing numeric date to standard\n",
        "init_date = ee.Date(rango.get('min')).getInfo()['value']/1000.\n",
        "init_date_f = dt.utcfromtimestamp(init_date).strftime('%Y-%m-%d %H:%M:%S')\n",
        "\n",
        "last_date = ee.Date(rango.get('max')).getInfo()['value']/1000.\n",
        "last_date_f = dt.utcfromtimestamp(last_date).strftime('%Y-%m-%d %H:%M:%S')\n",
        "\n",
        "print('Date range: ',init_date_f,' - ',last_date_f)"
      ],
      "execution_count": 0,
      "outputs": []
    },
    {
      "cell_type": "code",
      "metadata": {
        "id": "Tko7hYJzkBWA",
        "colab_type": "code",
        "colab": {}
      },
      "source": [
        "# Get statistics for a property of the images in the collection.\n",
        "sunStats = collection.aggregate_stats('SUN_ELEVATION')\n",
        "print('Sun elevation statistics: ')\n",
        "sunStats.getInfo()"
      ],
      "execution_count": 0,
      "outputs": []
    },
    {
      "cell_type": "code",
      "metadata": {
        "id": "FOFnq68alXic",
        "colab_type": "code",
        "colab": {}
      },
      "source": [
        "# Sort by a cloud cover property, get the least cloudy image.\n",
        "image = ee.Image(collection.sort('CLOUD_COVER').first())\n",
        "print('Least cloudy image: ', )\n",
        "image.getInfo()"
      ],
      "execution_count": 0,
      "outputs": []
    },
    {
      "cell_type": "code",
      "metadata": {
        "id": "7X-a2xAnljST",
        "colab_type": "code",
        "colab": {}
      },
      "source": [
        "# Limit the collection to the 10 most recent images.\n",
        "recent = collection.sort('system:time_start', False).limit(10)\n",
        "print('Recent images: ')\n",
        "recent.getInfo()"
      ],
      "execution_count": 0,
      "outputs": []
    },
    {
      "cell_type": "markdown",
      "metadata": {
        "id": "tek4K0tGwMRX",
        "colab_type": "text"
      },
      "source": [
        "<!--NAVIGATION-->\n",
        " < [Data structures in GEE](1.2_DataStructures.ipynb) | [Contents](index.ipynb) |  [Feature & FeatureCollections](1.4_Features.ipynb)>\n",
        "\n",
        "<a href=\"https://colab.research.google.com/github/csaybar/EEwPython/blob/master/1.3_Images.ipynb\"><img align=\"left\" src=\"https://colab.research.google.com/assets/colab-badge.svg\" alt=\"Open in Colab\" title=\"Open and Execute in Google Colaboratory\"></a>"
      ]
    }
  ]
}