{
  "nbformat": 4,
  "nbformat_minor": 0,
  "metadata": {
    "colab": {
      "name": "index.ipynb",
      "version": "0.3.2",
      "provenance": [],
      "collapsed_sections": [],
      "include_colab_link": true
    },
    "kernelspec": {
      "name": "python3",
      "display_name": "Python 3"
    }
  },
  "cells": [
    {
      "cell_type": "markdown",
      "metadata": {
        "id": "view-in-github",
        "colab_type": "text"
      },
      "source": [
        "<a href=\"https://colab.research.google.com/github/csaybar/EEwPython/blob/dev/index.ipynb\" target=\"_parent\"><img src=\"https://colab.research.google.com/assets/colab-badge.svg\" alt=\"Open In Colab\"/></a>"
      ]
    },
    {
      "cell_type": "markdown",
      "metadata": {
        "id": "sawLOXhjfkNF",
        "colab_type": "text"
      },
      "source": [
        "# Google Earth Engine with Python (EEwPython)\n",
        "\n"
      ]
    },
    {
      "cell_type": "markdown",
      "metadata": {
        "id": "Fg8FC2mdfrtc",
        "colab_type": "text"
      },
      "source": [
        "Maintainer:\n",
        "- [*`Cesar Aybar Camacho`*](https://csaybar.github.io)  < csaybar@gmail.com >\n",
        "- [*`Roy Yali Samaniego`*]()  < ryali93@gmail.com >\n",
        "\n",
        "<img src = 'https://sitejerk.com/images/google-earth-logo-png-5.png' width  =300px>\n"
      ]
    },
    {
      "cell_type": "markdown",
      "metadata": {
        "id": "wFN66ttWgeak",
        "colab_type": "text"
      },
      "source": [
        "**Welcome!**\n",
        "\n",
        "This is a series of Jupyter notebook to learn Google Earth Engine (GEE) with Python. The first part has been adopted from [Google Earth Engine Guides](https://developers.google.com/earth-engine/) and the second one is a recompilation of different interesting reproducible examples. If you want to contribute to this **GEE Course**, do not doubt to keep in touch with us. All the material is released under the Apache 2.0 license."
      ]
    },
    {
      "cell_type": "markdown",
      "metadata": {
        "id": "jgutoC1MiMML",
        "colab_type": "text"
      },
      "source": [
        "## Table of Contents\n",
        "\n",
        "### 1. Google Earth Engine Guides\n",
        "- [1. Developer's Guide](1_Introduction.ipynb)\n",
        "- [2. Image](2_eeImage.ipynb)\n",
        "- [3. ImageCollection](3_eeImageCollection.ipynb)\n",
        "- [4. Geometry, Feature & FeatureCollections](4_features.ipynb)\n",
        "- [5. Reducer](5_Reducer.ipynb)\n",
        "- [6. Joins](6_Joins.ipynb)\n",
        "- [7. Chart](7_Chart.ipynb)\n",
        "- [8. Array](8_Array.ipynb)\n",
        "- [9. Specialized Algorithms](9_SpecializedAlgorithms.ipynb)\n",
        "- [10. Asset Management](10_Import.ipynb)\n",
        "\n",
        "### 2. Applications\n",
        "- [1. Climate Change - CMIP5 (plotly + GEE)](cmip5.ipynb)\n",
        "- [2. Glacier Area prediction using a Vanilla Neural Network](x)\n",
        "- [3. High Altitude Wetlands distribution using Convolutional Neural Networks](x)\n"
      ]
    }
  ]
}