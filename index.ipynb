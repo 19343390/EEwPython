{
  "nbformat": 4,
  "nbformat_minor": 0,
  "metadata": {
    "colab": {
      "name": "TofC_eecourse.ipynb",
      "version": "0.3.2",
      "provenance": [],
      "collapsed_sections": [],
      "include_colab_link": true
    },
    "kernelspec": {
      "name": "python3",
      "display_name": "Python 3"
    }
  },
  "cells": [
    {
      "cell_type": "markdown",
      "metadata": {
        "id": "view-in-github",
        "colab_type": "text"
      },
      "source": [
        "<a href=\"https://colab.research.google.com/github/csaybar/eeCourse/blob/master/index.ipynb\" target=\"_parent\"><img src=\"https://colab.research.google.com/assets/colab-badge.svg\" alt=\"Open In Colab\"/></a>"
      ]
    },
    {
      "cell_type": "markdown",
      "metadata": {
        "id": "sawLOXhjfkNF",
        "colab_type": "text"
      },
      "source": [
        "# Google Earth Engine with Python\n",
        "\n"
      ]
    },
    {
      "cell_type": "markdown",
      "metadata": {
        "id": "Fg8FC2mdfrtc",
        "colab_type": "text"
      },
      "source": [
        "Maintainer: [*`Cesar Aybar Camacho`*](https://csaybar.github.io)  < csaybar@gmail.com >\n",
        "\n",
        "<img src = 'https://sitejerk.com/images/google-earth-logo-png-5.png' width  =300px>\n"
      ]
    },
    {
      "cell_type": "markdown",
      "metadata": {
        "id": "wFN66ttWgeak",
        "colab_type": "text"
      },
      "source": [
        "**Welcome!**\n",
        "\n",
        "This is a series of Jupyter notebook to learn Google Earth Engine with Python. All the content is released under the  Apache 2.0 license. If you want to contribute to this project, do not doubt to keep in touch with me."
      ]
    },
    {
      "cell_type": "markdown",
      "metadata": {
        "id": "jgutoC1MiMML",
        "colab_type": "text"
      },
      "source": [
        "## Table of Contents\n",
        "\n",
        "### [What is colab?](0_WhatIsColab.ipynb)\n",
        "### [Connecting GEE, Colab and Google Drive ](0_connect.ipynb)\n",
        "\n",
        "### 1. Basic_GEE\n",
        "- [1.1 Google Earth Engine Intro](1.1_Intro.ipynb)\n",
        "- [1.2 Data structures in GEEl](1.2_DataStructures.ipynb)\n",
        "- [1.3 Image & ImageCollection](1.3_Images.ipynb)\n",
        "- [1.4 Feature & FeatureCollections](1.4_Features.ipynb)\n",
        "- [1.5 Conditional statements](1.5_Cond_Statements.ipynb)\n",
        "- [1.6 Map and filter](1.6_Map_filter.ipynb)\n",
        "- [1.7 Spatial Temporal Reducers](1.7_Reducers.ipynb)\n",
        "- [1.8 Iterations](1.7_Iterations.ipynb)\n",
        "- [1.9 Export Resutls](1.9_ExportResults.ipynb)\n",
        "- [Under deveploment]()\n",
        "\n",
        "### 2. Applications\n",
        "- [2.1. Download NEX-GDDP dataset](x)\n",
        "- [2.2 Glacier Area prediction using a Vanilla Neural Network](x)\n",
        "- [2.3. High Altitude Wetlands distribution using Convolutional Neural Networks](x)\n"
      ]
    }
  ]
}